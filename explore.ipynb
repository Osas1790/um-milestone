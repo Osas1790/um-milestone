{
 "cells": [
  {
   "cell_type": "code",
   "execution_count": 20,
   "id": "ae4af269-24f9-4f90-98ae-b4de1db458fa",
   "metadata": {
    "tags": []
   },
   "outputs": [],
   "source": [
    "from io import StringIO\n",
    "import pandas as pd\n",
    "import numpy as np\n",
    "import altair as alt\n",
    "import geopandas as gpd\n",
    "import matplotlib.pyplot as plt\n",
    "from matplotlib.colors import Normalize\n",
    "from IPython.display import display, Markdown\n",
    "\n",
    "import warnings\n",
    "warnings.simplefilter(action='ignore', category=FutureWarning)"
   ]
  },
  {
   "cell_type": "markdown",
   "id": "f5eeb356-5144-4e72-89ea-0a4ebacbb775",
   "metadata": {},
   "source": [
    "## Load Datasets"
   ]
  },
  {
   "cell_type": "code",
   "execution_count": 7,
   "id": "0d11e1b7-a6c2-43db-a7d7-76fdcb959461",
   "metadata": {
    "tags": []
   },
   "outputs": [],
   "source": [
    "pest_df = pd.read_csv('./pesticides.csv')\n",
    "rain_df = pd.read_csv('./rainfall.csv')\n",
    "temp_df = pd.read_csv('./temp.csv')\n",
    "yield_df = pd.read_csv('./yield.csv')"
   ]
  },
  {
   "cell_type": "markdown",
   "id": "fd707fb8-14ff-4a8c-9dcf-e19c6b3840ec",
   "metadata": {},
   "source": [
    "## Explore the Datasets"
   ]
  },
  {
   "cell_type": "code",
   "execution_count": 55,
   "id": "a6790722-a3cf-4461-9eee-46c5eb02ceff",
   "metadata": {
    "tags": []
   },
   "outputs": [],
   "source": [
    "def print_info(df, name):\n",
    "    display(Markdown(f'**{name}:**'))\n",
    "    display(Markdown('*Data Columns:*'))\n",
    "    print('\\n')\n",
    "    print(df.columns)\n",
    "    print('\\n')\n",
    "    display(Markdown('*Dataframe info:*'))\n",
    "    print(df.info())\n",
    "    print('\\n')\n",
    "    display(Markdown('*Number of unique values per column:*'))\n",
    "    print(df.nunique())\n",
    "    print('\\n')\n",
    "    display(Markdown('*Summary Statistics per column:*'))\n",
    "    print(df.describe().round(0).astype(int))\n",
    "    print('\\n')"
   ]
  },
  {
   "cell_type": "code",
   "execution_count": 44,
   "id": "77f47ba9-f0dd-4b31-a541-bcbfd7a9ea0a",
   "metadata": {},
   "outputs": [],
   "source": [
    "# print dataframe info for exploration\n",
    "def print_unique_md(df):\n",
    "    \n",
    "    md = '**Number of unique values per column**  \\n'\n",
    "    md += '  \\n'\n",
    "    for col in df.columns:\n",
    "        md += f'- *{col}*: {df[col].nunique()}  \\n'\n",
    "    md += '  \\n'\n",
    "    \n",
    "    display(Markdown(md))\n"
   ]
  },
  {
   "cell_type": "code",
   "execution_count": 36,
   "id": "106ac34a-431b-43ac-b859-c61a3a9af675",
   "metadata": {
    "collapsed": true,
    "jupyter": {
     "outputs_hidden": true
    }
   },
   "outputs": [
    {
     "data": {
      "text/markdown": [
       "**pest_df info:**"
      ],
      "text/plain": [
       "<IPython.core.display.Markdown object>"
      ]
     },
     "metadata": {},
     "output_type": "display_data"
    },
    {
     "name": "stdout",
     "output_type": "stream",
     "text": [
      "<class 'pandas.core.frame.DataFrame'>\n",
      "RangeIndex: 4349 entries, 0 to 4348\n",
      "Data columns (total 7 columns):\n",
      " #   Column   Non-Null Count  Dtype  \n",
      "---  ------   --------------  -----  \n",
      " 0   Domain   4349 non-null   object \n",
      " 1   Area     4349 non-null   object \n",
      " 2   Element  4349 non-null   object \n",
      " 3   Item     4349 non-null   object \n",
      " 4   Year     4349 non-null   int64  \n",
      " 5   Unit     4349 non-null   object \n",
      " 6   Value    4349 non-null   float64\n",
      "dtypes: float64(1), int64(1), object(5)\n",
      "memory usage: 238.0+ KB\n"
     ]
    }
   ],
   "source": [
    "display(Markdown('**pest_df info:**'))\n",
    "pest_df.info()"
   ]
  },
  {
   "cell_type": "code",
   "execution_count": 45,
   "id": "0ee5dc23-9f96-4913-ab23-d2c36aa372ed",
   "metadata": {},
   "outputs": [
    {
     "data": {
      "text/markdown": [
       "**Number of unique values per column**  \n",
       "  \n",
       "- *Domain*: 1  \n",
       "- *Area*: 168  \n",
       "- *Element*: 1  \n",
       "- *Item*: 1  \n",
       "- *Year*: 27  \n",
       "- *Unit*: 1  \n",
       "- *Value*: 2825  \n",
       "  \n"
      ],
      "text/plain": [
       "<IPython.core.display.Markdown object>"
      ]
     },
     "metadata": {},
     "output_type": "display_data"
    }
   ],
   "source": [
    "print_unique_md(pest_df)"
   ]
  },
  {
   "cell_type": "code",
   "execution_count": 54,
   "id": "b151d537-baa2-4567-b902-11a277422dc0",
   "metadata": {
    "tags": []
   },
   "outputs": [
    {
     "data": {
      "text/markdown": [
       "**temp_df:**"
      ],
      "text/plain": [
       "<IPython.core.display.Markdown object>"
      ]
     },
     "metadata": {},
     "output_type": "display_data"
    },
    {
     "data": {
      "text/markdown": [
       "*Data Columns:*"
      ],
      "text/plain": [
       "<IPython.core.display.Markdown object>"
      ]
     },
     "metadata": {},
     "output_type": "display_data"
    },
    {
     "name": "stdout",
     "output_type": "stream",
     "text": [
      "\n",
      "\n",
      "Index(['year', 'country', 'avg_temp'], dtype='object')\n",
      "\n",
      "\n"
     ]
    },
    {
     "data": {
      "text/markdown": [
       "*Dataframe info:*"
      ],
      "text/plain": [
       "<IPython.core.display.Markdown object>"
      ]
     },
     "metadata": {},
     "output_type": "display_data"
    },
    {
     "name": "stdout",
     "output_type": "stream",
     "text": [
      "<class 'pandas.core.frame.DataFrame'>\n",
      "RangeIndex: 71311 entries, 0 to 71310\n",
      "Data columns (total 3 columns):\n",
      " #   Column    Non-Null Count  Dtype  \n",
      "---  ------    --------------  -----  \n",
      " 0   year      71311 non-null  int64  \n",
      " 1   country   71311 non-null  object \n",
      " 2   avg_temp  68764 non-null  float64\n",
      "dtypes: float64(1), int64(1), object(1)\n",
      "memory usage: 1.6+ MB\n",
      "None\n",
      "\n",
      "\n"
     ]
    },
    {
     "data": {
      "text/markdown": [
       "*Number of unique values per column:*"
      ],
      "text/plain": [
       "<IPython.core.display.Markdown object>"
      ]
     },
     "metadata": {},
     "output_type": "display_data"
    },
    {
     "name": "stdout",
     "output_type": "stream",
     "text": [
      "year         271\n",
      "country      137\n",
      "avg_temp    3303\n",
      "dtype: int64\n",
      "\n",
      "\n"
     ]
    },
    {
     "data": {
      "text/markdown": [
       "*Summary Statistics per column:*"
      ],
      "text/plain": [
       "<IPython.core.display.Markdown object>"
      ]
     },
     "metadata": {},
     "output_type": "display_data"
    },
    {
     "name": "stdout",
     "output_type": "stream",
     "text": [
      "        year  avg_temp\n",
      "count  71311     68764\n",
      "mean    1906        16\n",
      "std       67         8\n",
      "min     1743       -14\n",
      "25%     1858        10\n",
      "50%     1910        16\n",
      "75%     1962        24\n",
      "max     2013        31\n",
      "___________________________\n"
     ]
    },
    {
     "data": {
      "text/markdown": [
       "**rain_df:**"
      ],
      "text/plain": [
       "<IPython.core.display.Markdown object>"
      ]
     },
     "metadata": {},
     "output_type": "display_data"
    },
    {
     "data": {
      "text/markdown": [
       "*Data Columns:*"
      ],
      "text/plain": [
       "<IPython.core.display.Markdown object>"
      ]
     },
     "metadata": {},
     "output_type": "display_data"
    },
    {
     "name": "stdout",
     "output_type": "stream",
     "text": [
      "\n",
      "\n",
      "Index([' Area', 'Year', 'average_rain_fall_mm_per_year'], dtype='object')\n",
      "\n",
      "\n"
     ]
    },
    {
     "data": {
      "text/markdown": [
       "*Dataframe info:*"
      ],
      "text/plain": [
       "<IPython.core.display.Markdown object>"
      ]
     },
     "metadata": {},
     "output_type": "display_data"
    },
    {
     "name": "stdout",
     "output_type": "stream",
     "text": [
      "<class 'pandas.core.frame.DataFrame'>\n",
      "RangeIndex: 6727 entries, 0 to 6726\n",
      "Data columns (total 3 columns):\n",
      " #   Column                         Non-Null Count  Dtype \n",
      "---  ------                         --------------  ----- \n",
      " 0    Area                          6727 non-null   object\n",
      " 1   Year                           6727 non-null   int64 \n",
      " 2   average_rain_fall_mm_per_year  5953 non-null   object\n",
      "dtypes: int64(1), object(2)\n",
      "memory usage: 157.8+ KB\n",
      "None\n",
      "\n",
      "\n"
     ]
    },
    {
     "data": {
      "text/markdown": [
       "*Number of unique values per column:*"
      ],
      "text/plain": [
       "<IPython.core.display.Markdown object>"
      ]
     },
     "metadata": {},
     "output_type": "display_data"
    },
    {
     "name": "stdout",
     "output_type": "stream",
     "text": [
      " Area                            217\n",
      "Year                              31\n",
      "average_rain_fall_mm_per_year    173\n",
      "dtype: int64\n",
      "\n",
      "\n"
     ]
    },
    {
     "data": {
      "text/markdown": [
       "*Summary Statistics per column:*"
      ],
      "text/plain": [
       "<IPython.core.display.Markdown object>"
      ]
     },
     "metadata": {},
     "output_type": "display_data"
    },
    {
     "name": "stdout",
     "output_type": "stream",
     "text": [
      "       Year\n",
      "count  6727\n",
      "mean   2001\n",
      "std      10\n",
      "min    1985\n",
      "25%    1993\n",
      "50%    2001\n",
      "75%    2010\n",
      "max    2017\n",
      "___________________________\n"
     ]
    },
    {
     "data": {
      "text/markdown": [
       "**pest_df:**"
      ],
      "text/plain": [
       "<IPython.core.display.Markdown object>"
      ]
     },
     "metadata": {},
     "output_type": "display_data"
    },
    {
     "data": {
      "text/markdown": [
       "*Data Columns:*"
      ],
      "text/plain": [
       "<IPython.core.display.Markdown object>"
      ]
     },
     "metadata": {},
     "output_type": "display_data"
    },
    {
     "name": "stdout",
     "output_type": "stream",
     "text": [
      "\n",
      "\n",
      "Index(['Domain', 'Area', 'Element', 'Item', 'Year', 'Unit', 'Value'], dtype='object')\n",
      "\n",
      "\n"
     ]
    },
    {
     "data": {
      "text/markdown": [
       "*Dataframe info:*"
      ],
      "text/plain": [
       "<IPython.core.display.Markdown object>"
      ]
     },
     "metadata": {},
     "output_type": "display_data"
    },
    {
     "name": "stdout",
     "output_type": "stream",
     "text": [
      "<class 'pandas.core.frame.DataFrame'>\n",
      "RangeIndex: 4349 entries, 0 to 4348\n",
      "Data columns (total 7 columns):\n",
      " #   Column   Non-Null Count  Dtype  \n",
      "---  ------   --------------  -----  \n",
      " 0   Domain   4349 non-null   object \n",
      " 1   Area     4349 non-null   object \n",
      " 2   Element  4349 non-null   object \n",
      " 3   Item     4349 non-null   object \n",
      " 4   Year     4349 non-null   int64  \n",
      " 5   Unit     4349 non-null   object \n",
      " 6   Value    4349 non-null   float64\n",
      "dtypes: float64(1), int64(1), object(5)\n",
      "memory usage: 238.0+ KB\n",
      "None\n",
      "\n",
      "\n"
     ]
    },
    {
     "data": {
      "text/markdown": [
       "*Number of unique values per column:*"
      ],
      "text/plain": [
       "<IPython.core.display.Markdown object>"
      ]
     },
     "metadata": {},
     "output_type": "display_data"
    },
    {
     "name": "stdout",
     "output_type": "stream",
     "text": [
      "Domain        1\n",
      "Area        168\n",
      "Element       1\n",
      "Item          1\n",
      "Year         27\n",
      "Unit          1\n",
      "Value      2825\n",
      "dtype: int64\n",
      "\n",
      "\n"
     ]
    },
    {
     "data": {
      "text/markdown": [
       "*Summary Statistics per column:*"
      ],
      "text/plain": [
       "<IPython.core.display.Markdown object>"
      ]
     },
     "metadata": {},
     "output_type": "display_data"
    },
    {
     "name": "stdout",
     "output_type": "stream",
     "text": [
      "       Year    Value\n",
      "count  4349     4349\n",
      "mean   2003    20303\n",
      "std       8   117736\n",
      "min    1990        0\n",
      "25%    1996       93\n",
      "50%    2003     1138\n",
      "75%    2010     7869\n",
      "max    2016  1807000\n",
      "___________________________\n"
     ]
    },
    {
     "data": {
      "text/markdown": [
       "**yield_df:**"
      ],
      "text/plain": [
       "<IPython.core.display.Markdown object>"
      ]
     },
     "metadata": {},
     "output_type": "display_data"
    },
    {
     "data": {
      "text/markdown": [
       "*Data Columns:*"
      ],
      "text/plain": [
       "<IPython.core.display.Markdown object>"
      ]
     },
     "metadata": {},
     "output_type": "display_data"
    },
    {
     "name": "stdout",
     "output_type": "stream",
     "text": [
      "\n",
      "\n",
      "Index(['Domain Code', 'Domain', 'Area Code', 'Area', 'Element Code', 'Element',\n",
      "       'Item Code', 'Item', 'Year Code', 'Year', 'Unit', 'Value'],\n",
      "      dtype='object')\n",
      "\n",
      "\n"
     ]
    },
    {
     "data": {
      "text/markdown": [
       "*Dataframe info:*"
      ],
      "text/plain": [
       "<IPython.core.display.Markdown object>"
      ]
     },
     "metadata": {},
     "output_type": "display_data"
    },
    {
     "name": "stdout",
     "output_type": "stream",
     "text": [
      "<class 'pandas.core.frame.DataFrame'>\n",
      "RangeIndex: 56717 entries, 0 to 56716\n",
      "Data columns (total 12 columns):\n",
      " #   Column        Non-Null Count  Dtype \n",
      "---  ------        --------------  ----- \n",
      " 0   Domain Code   56717 non-null  object\n",
      " 1   Domain        56717 non-null  object\n",
      " 2   Area Code     56717 non-null  int64 \n",
      " 3   Area          56717 non-null  object\n",
      " 4   Element Code  56717 non-null  int64 \n",
      " 5   Element       56717 non-null  object\n",
      " 6   Item Code     56717 non-null  int64 \n",
      " 7   Item          56717 non-null  object\n",
      " 8   Year Code     56717 non-null  int64 \n",
      " 9   Year          56717 non-null  int64 \n",
      " 10  Unit          56717 non-null  object\n",
      " 11  Value         56717 non-null  int64 \n",
      "dtypes: int64(6), object(6)\n",
      "memory usage: 5.2+ MB\n",
      "None\n",
      "\n",
      "\n"
     ]
    },
    {
     "data": {
      "text/markdown": [
       "*Number of unique values per column:*"
      ],
      "text/plain": [
       "<IPython.core.display.Markdown object>"
      ]
     },
     "metadata": {},
     "output_type": "display_data"
    },
    {
     "name": "stdout",
     "output_type": "stream",
     "text": [
      "Domain Code         1\n",
      "Domain              1\n",
      "Area Code         212\n",
      "Area              212\n",
      "Element Code        1\n",
      "Element             1\n",
      "Item Code          10\n",
      "Item               10\n",
      "Year Code          56\n",
      "Year               56\n",
      "Unit                1\n",
      "Value           36815\n",
      "dtype: int64\n",
      "\n",
      "\n"
     ]
    },
    {
     "data": {
      "text/markdown": [
       "*Summary Statistics per column:*"
      ],
      "text/plain": [
       "<IPython.core.display.Markdown object>"
      ]
     },
     "metadata": {},
     "output_type": "display_data"
    },
    {
     "name": "stdout",
     "output_type": "stream",
     "text": [
      "       Area Code  Element Code  Item Code  Year Code   Year    Value\n",
      "count      56717         56717      56717      56717  56717    56717\n",
      "mean         126          5419        112       1990   1990    62095\n",
      "std           75             0        101         16     16    67836\n",
      "min            1          5419         15       1961   1961        0\n",
      "25%           58          5419         56       1976   1976    15680\n",
      "50%          122          5419        116       1991   1991    36744\n",
      "75%          184          5419        125       2004   2004    86213\n",
      "max          351          5419        489       2016   2016  1000000\n",
      "___________________________\n"
     ]
    }
   ],
   "source": [
    "print_info(temp_df, 'temp_df')\n",
    "print_info(rain_df, 'rain_df')\n",
    "print_info(pest_df, 'pest_df')\n",
    "print_info(yield_df, 'yield_df')"
   ]
  },
  {
   "cell_type": "code",
   "execution_count": 31,
   "id": "c6475098-8ad6-41a3-86af-e76b79788976",
   "metadata": {
    "tags": []
   },
   "outputs": [],
   "source": [
    "temp_df.rename(columns = {'year':'Year','country':'Country','avg_temp':'Average_Temperature'},inplace = True)\n",
    "rain_df.rename(columns = {' Area':'Country','average_rain_fall_mm_per_year':'Average_Rainfall'},inplace = True)\n",
    "yield_df.rename(columns = {'Area':'Country','Value':'Yield'},inplace = True)\n",
    "pest_df.rename(columns = {'Area':'Country','Value':'Pesticides'},inplace = True)"
   ]
  },
  {
   "cell_type": "code",
   "execution_count": 32,
   "id": "7709655c-67b5-4444-8367-a4950f61161a",
   "metadata": {
    "tags": []
   },
   "outputs": [],
   "source": [
    "column_mask_pest = ['Country', 'Year', 'Pesticides']\n",
    "column_mask_yield = ['Country', 'Item', 'Year', 'Yield']"
   ]
  },
  {
   "cell_type": "code",
   "execution_count": 33,
   "id": "32cc0c82-079d-4171-bfbd-8733b4ae1d56",
   "metadata": {
    "tags": []
   },
   "outputs": [],
   "source": [
    "pest_df = pest_df[column_mask_pest]\n",
    "yield_df = yield_df[column_mask_yield]"
   ]
  },
  {
   "cell_type": "code",
   "execution_count": 34,
   "id": "41e4e1b8-437d-457d-9c4b-8e865c990358",
   "metadata": {
    "tags": []
   },
   "outputs": [],
   "source": [
    "yield_df = yield_df.groupby(['Country','Year'])['Yield'].sum().reset_index()"
   ]
  },
  {
   "cell_type": "code",
   "execution_count": 35,
   "id": "c734e9de-7bc8-4c38-91e6-8b23c58ee6d0",
   "metadata": {
    "tags": []
   },
   "outputs": [
    {
     "data": {
      "text/html": [
       "<div>\n",
       "<style scoped>\n",
       "    .dataframe tbody tr th:only-of-type {\n",
       "        vertical-align: middle;\n",
       "    }\n",
       "\n",
       "    .dataframe tbody tr th {\n",
       "        vertical-align: top;\n",
       "    }\n",
       "\n",
       "    .dataframe thead th {\n",
       "        text-align: right;\n",
       "    }\n",
       "</style>\n",
       "<table border=\"1\" class=\"dataframe\">\n",
       "  <thead>\n",
       "    <tr style=\"text-align: right;\">\n",
       "      <th></th>\n",
       "      <th>Country</th>\n",
       "      <th>Year</th>\n",
       "      <th>Yield</th>\n",
       "    </tr>\n",
       "  </thead>\n",
       "  <tbody>\n",
       "    <tr>\n",
       "      <th>0</th>\n",
       "      <td>Afghanistan</td>\n",
       "      <td>1961</td>\n",
       "      <td>126077</td>\n",
       "    </tr>\n",
       "    <tr>\n",
       "      <th>1</th>\n",
       "      <td>Afghanistan</td>\n",
       "      <td>1962</td>\n",
       "      <td>115592</td>\n",
       "    </tr>\n",
       "    <tr>\n",
       "      <th>2</th>\n",
       "      <td>Afghanistan</td>\n",
       "      <td>1963</td>\n",
       "      <td>119100</td>\n",
       "    </tr>\n",
       "    <tr>\n",
       "      <th>3</th>\n",
       "      <td>Afghanistan</td>\n",
       "      <td>1964</td>\n",
       "      <td>127040</td>\n",
       "    </tr>\n",
       "    <tr>\n",
       "      <th>4</th>\n",
       "      <td>Afghanistan</td>\n",
       "      <td>1965</td>\n",
       "      <td>129396</td>\n",
       "    </tr>\n",
       "    <tr>\n",
       "      <th>...</th>\n",
       "      <td>...</td>\n",
       "      <td>...</td>\n",
       "      <td>...</td>\n",
       "    </tr>\n",
       "    <tr>\n",
       "      <th>10567</th>\n",
       "      <td>Zimbabwe</td>\n",
       "      <td>2012</td>\n",
       "      <td>313366</td>\n",
       "    </tr>\n",
       "    <tr>\n",
       "      <th>10568</th>\n",
       "      <td>Zimbabwe</td>\n",
       "      <td>2013</td>\n",
       "      <td>303062</td>\n",
       "    </tr>\n",
       "    <tr>\n",
       "      <th>10569</th>\n",
       "      <td>Zimbabwe</td>\n",
       "      <td>2014</td>\n",
       "      <td>305570</td>\n",
       "    </tr>\n",
       "    <tr>\n",
       "      <th>10570</th>\n",
       "      <td>Zimbabwe</td>\n",
       "      <td>2015</td>\n",
       "      <td>297742</td>\n",
       "    </tr>\n",
       "    <tr>\n",
       "      <th>10571</th>\n",
       "      <td>Zimbabwe</td>\n",
       "      <td>2016</td>\n",
       "      <td>301464</td>\n",
       "    </tr>\n",
       "  </tbody>\n",
       "</table>\n",
       "<p>10572 rows × 3 columns</p>\n",
       "</div>"
      ],
      "text/plain": [
       "           Country  Year   Yield\n",
       "0      Afghanistan  1961  126077\n",
       "1      Afghanistan  1962  115592\n",
       "2      Afghanistan  1963  119100\n",
       "3      Afghanistan  1964  127040\n",
       "4      Afghanistan  1965  129396\n",
       "...            ...   ...     ...\n",
       "10567     Zimbabwe  2012  313366\n",
       "10568     Zimbabwe  2013  303062\n",
       "10569     Zimbabwe  2014  305570\n",
       "10570     Zimbabwe  2015  297742\n",
       "10571     Zimbabwe  2016  301464\n",
       "\n",
       "[10572 rows x 3 columns]"
      ]
     },
     "execution_count": 35,
     "metadata": {},
     "output_type": "execute_result"
    }
   ],
   "source": [
    "yield_df"
   ]
  },
  {
   "cell_type": "code",
   "execution_count": 25,
   "id": "6b83631b-d833-4d82-86f9-344e4dd30275",
   "metadata": {
    "tags": []
   },
   "outputs": [
    {
     "name": "stdout",
     "output_type": "stream",
     "text": [
      "Year range in pesticides.csv 2016 - 1990\n"
     ]
    },
    {
     "data": {
      "text/html": [
       "<div>\n",
       "<style scoped>\n",
       "    .dataframe tbody tr th:only-of-type {\n",
       "        vertical-align: middle;\n",
       "    }\n",
       "\n",
       "    .dataframe tbody tr th {\n",
       "        vertical-align: top;\n",
       "    }\n",
       "\n",
       "    .dataframe thead th {\n",
       "        text-align: right;\n",
       "    }\n",
       "</style>\n",
       "<table border=\"1\" class=\"dataframe\">\n",
       "  <thead>\n",
       "    <tr style=\"text-align: right;\">\n",
       "      <th></th>\n",
       "      <th>Year</th>\n",
       "      <th>Pesticides</th>\n",
       "    </tr>\n",
       "  </thead>\n",
       "  <tbody>\n",
       "    <tr>\n",
       "      <th>count</th>\n",
       "      <td>4349</td>\n",
       "      <td>4349</td>\n",
       "    </tr>\n",
       "    <tr>\n",
       "      <th>mean</th>\n",
       "      <td>2003</td>\n",
       "      <td>20303</td>\n",
       "    </tr>\n",
       "    <tr>\n",
       "      <th>std</th>\n",
       "      <td>8</td>\n",
       "      <td>117736</td>\n",
       "    </tr>\n",
       "    <tr>\n",
       "      <th>min</th>\n",
       "      <td>1990</td>\n",
       "      <td>0</td>\n",
       "    </tr>\n",
       "    <tr>\n",
       "      <th>25%</th>\n",
       "      <td>1996</td>\n",
       "      <td>93</td>\n",
       "    </tr>\n",
       "    <tr>\n",
       "      <th>50%</th>\n",
       "      <td>2003</td>\n",
       "      <td>1138</td>\n",
       "    </tr>\n",
       "    <tr>\n",
       "      <th>75%</th>\n",
       "      <td>2010</td>\n",
       "      <td>7869</td>\n",
       "    </tr>\n",
       "    <tr>\n",
       "      <th>max</th>\n",
       "      <td>2016</td>\n",
       "      <td>1807000</td>\n",
       "    </tr>\n",
       "  </tbody>\n",
       "</table>\n",
       "</div>"
      ],
      "text/plain": [
       "       Year  Pesticides\n",
       "count  4349        4349\n",
       "mean   2003       20303\n",
       "std       8      117736\n",
       "min    1990           0\n",
       "25%    1996          93\n",
       "50%    2003        1138\n",
       "75%    2010        7869\n",
       "max    2016     1807000"
      ]
     },
     "execution_count": 25,
     "metadata": {},
     "output_type": "execute_result"
    }
   ],
   "source": [
    "\n",
    "print(f\"Year range in pesticides.csv {pest_df['Year'].min()} - {pest_df['Year'].max()}\")\n",
    "pest_df.describe().round(0).astype(int)"
   ]
  },
  {
   "cell_type": "code",
   "execution_count": 24,
   "id": "6010ae5a-0d54-453e-a489-1c07c2aa8062",
   "metadata": {
    "tags": []
   },
   "outputs": [
    {
     "name": "stdout",
     "output_type": "stream",
     "text": [
      "Year range in yield.csv 2016 - 1961\n"
     ]
    },
    {
     "data": {
      "text/html": [
       "<div>\n",
       "<style scoped>\n",
       "    .dataframe tbody tr th:only-of-type {\n",
       "        vertical-align: middle;\n",
       "    }\n",
       "\n",
       "    .dataframe tbody tr th {\n",
       "        vertical-align: top;\n",
       "    }\n",
       "\n",
       "    .dataframe thead th {\n",
       "        text-align: right;\n",
       "    }\n",
       "</style>\n",
       "<table border=\"1\" class=\"dataframe\">\n",
       "  <thead>\n",
       "    <tr style=\"text-align: right;\">\n",
       "      <th></th>\n",
       "      <th>Year</th>\n",
       "      <th>Yield</th>\n",
       "    </tr>\n",
       "  </thead>\n",
       "  <tbody>\n",
       "    <tr>\n",
       "      <th>count</th>\n",
       "      <td>10572</td>\n",
       "      <td>10572</td>\n",
       "    </tr>\n",
       "    <tr>\n",
       "      <th>mean</th>\n",
       "      <td>1989</td>\n",
       "      <td>333127</td>\n",
       "    </tr>\n",
       "    <tr>\n",
       "      <th>std</th>\n",
       "      <td>16</td>\n",
       "      <td>189960</td>\n",
       "    </tr>\n",
       "    <tr>\n",
       "      <th>min</th>\n",
       "      <td>1961</td>\n",
       "      <td>4017</td>\n",
       "    </tr>\n",
       "    <tr>\n",
       "      <th>25%</th>\n",
       "      <td>1975</td>\n",
       "      <td>197757</td>\n",
       "    </tr>\n",
       "    <tr>\n",
       "      <th>50%</th>\n",
       "      <td>1990</td>\n",
       "      <td>296784</td>\n",
       "    </tr>\n",
       "    <tr>\n",
       "      <th>75%</th>\n",
       "      <td>2003</td>\n",
       "      <td>443306</td>\n",
       "    </tr>\n",
       "    <tr>\n",
       "      <th>max</th>\n",
       "      <td>2016</td>\n",
       "      <td>1271477</td>\n",
       "    </tr>\n",
       "  </tbody>\n",
       "</table>\n",
       "</div>"
      ],
      "text/plain": [
       "        Year    Yield\n",
       "count  10572    10572\n",
       "mean    1989   333127\n",
       "std       16   189960\n",
       "min     1961     4017\n",
       "25%     1975   197757\n",
       "50%     1990   296784\n",
       "75%     2003   443306\n",
       "max     2016  1271477"
      ]
     },
     "execution_count": 24,
     "metadata": {},
     "output_type": "execute_result"
    }
   ],
   "source": [
    "print(f\"Year range in yield.csv {yield_df['Year'].max()} - {yield_df['Year'].min()}\")\n",
    "yield_df.describe().round(0).astype(int)"
   ]
  },
  {
   "cell_type": "code",
   "execution_count": 86,
   "id": "82326395-9db0-4b3b-8c34-f0d876f5fca3",
   "metadata": {},
   "outputs": [
    {
     "name": "stdout",
     "output_type": "stream",
     "text": [
      "                    temp_df rain_df pest_df yield_df\n",
      "Year                  271.0    31.0    27.0     56.0\n",
      "Country               137.0   217.0   168.0    212.0\n",
      "Average_Temperature  3303.0                         \n",
      "Average_Rainfall              173.0                 \n",
      "Pesticides                           2825.0         \n",
      "Yield                                        10238.0\n"
     ]
    }
   ],
   "source": [
    "unique_counts_df = pd.concat([\n",
    "    temp_df.nunique().rename('temp_df'),\n",
    "    rain_df.nunique().rename('rain_df'),\n",
    "    pest_df.nunique().rename('pest_df'),\n",
    "    yield_df.nunique().rename('yield_df')\n",
    "], axis=1)\n",
    "unique_counts_df = unique_counts_df.astype(str).replace('nan', '')\n",
    "print(unique_counts_df)"
   ]
  },
  {
   "cell_type": "code",
   "execution_count": 87,
   "id": "5d00a908-14b1-4aa9-8981-1a8f4b85abc3",
   "metadata": {},
   "outputs": [
    {
     "name": "stdout",
     "output_type": "stream",
     "text": [
      "Missing values in temp_df: 2547\n",
      "Missing values in rain_df: 774\n",
      "Missing values in pest_df: 0\n",
      "Missing values in yield_df: 0\n"
     ]
    }
   ],
   "source": [
    "print(\"Missing values in temp_df:\", temp_df.isna().sum().sum())\n",
    "print(\"Missing values in rain_df:\", rain_df.isna().sum().sum())\n",
    "print(\"Missing values in pest_df:\", pest_df.isna().sum().sum())\n",
    "print(\"Missing values in yield_df:\", yield_df.isna().sum().sum())"
   ]
  },
  {
   "cell_type": "code",
   "execution_count": 88,
   "id": "dd8fed68-7905-46eb-9413-b97d2ef7c54c",
   "metadata": {},
   "outputs": [
    {
     "name": "stdout",
     "output_type": "stream",
     "text": [
      "Missing values in temp_df:\n",
      "_____________________________________\n",
      "Year                      0\n",
      "Country                   0\n",
      "Average_Temperature    2547\n",
      "dtype: int64\n",
      "\n",
      "\n",
      "Missing values in rain_df:\n",
      "_____________________________________\n",
      "Country               0\n",
      "Year                  0\n",
      "Average_Rainfall    774\n",
      "dtype: int64\n",
      "\n",
      "\n"
     ]
    }
   ],
   "source": [
    "def print_missing_values(df, name):\n",
    "    print(f\"Missing values in {name}:\")\n",
    "    print('_____________________________________')\n",
    "    print(df.isna().sum())\n",
    "    print('\\n')\n",
    "\n",
    "print_missing_values(temp_df, 'temp_df')\n",
    "print_missing_values(rain_df, 'rain_df')"
   ]
  },
  {
   "cell_type": "code",
   "execution_count": 43,
   "id": "e73c1c16-b5d8-4025-a22c-2fe3a1255464",
   "metadata": {},
   "outputs": [],
   "source": [
    "combined_df = yield_df.merge(temp_df, on=['Country', 'Year'], how='left')\n",
    "combined_df = combined_df.merge(rain_df, on=['Country', 'Year'], how='left')\n",
    "combined_df = combined_df.merge(pest_df, on=['Country', 'Year'], how='left')"
   ]
  },
  {
   "cell_type": "code",
   "execution_count": 44,
   "id": "c077081c-d5a4-46fd-bfca-f4c8bf105fe1",
   "metadata": {},
   "outputs": [
    {
     "data": {
      "text/html": [
       "<div>\n",
       "<style scoped>\n",
       "    .dataframe tbody tr th:only-of-type {\n",
       "        vertical-align: middle;\n",
       "    }\n",
       "\n",
       "    .dataframe tbody tr th {\n",
       "        vertical-align: top;\n",
       "    }\n",
       "\n",
       "    .dataframe thead th {\n",
       "        text-align: right;\n",
       "    }\n",
       "</style>\n",
       "<table border=\"1\" class=\"dataframe\">\n",
       "  <thead>\n",
       "    <tr style=\"text-align: right;\">\n",
       "      <th></th>\n",
       "      <th>Country</th>\n",
       "      <th>Item</th>\n",
       "      <th>Year</th>\n",
       "      <th>Yield</th>\n",
       "      <th>Average_Temperature</th>\n",
       "      <th>Average_Rainfall</th>\n",
       "      <th>Pesticides</th>\n",
       "    </tr>\n",
       "  </thead>\n",
       "  <tbody>\n",
       "    <tr>\n",
       "      <th>0</th>\n",
       "      <td>Afghanistan</td>\n",
       "      <td>Maize</td>\n",
       "      <td>1961</td>\n",
       "      <td>14000</td>\n",
       "      <td>14.23</td>\n",
       "      <td>NaN</td>\n",
       "      <td>NaN</td>\n",
       "    </tr>\n",
       "    <tr>\n",
       "      <th>1</th>\n",
       "      <td>Afghanistan</td>\n",
       "      <td>Maize</td>\n",
       "      <td>1962</td>\n",
       "      <td>14000</td>\n",
       "      <td>14.10</td>\n",
       "      <td>NaN</td>\n",
       "      <td>NaN</td>\n",
       "    </tr>\n",
       "    <tr>\n",
       "      <th>2</th>\n",
       "      <td>Afghanistan</td>\n",
       "      <td>Maize</td>\n",
       "      <td>1963</td>\n",
       "      <td>14260</td>\n",
       "      <td>15.01</td>\n",
       "      <td>NaN</td>\n",
       "      <td>NaN</td>\n",
       "    </tr>\n",
       "    <tr>\n",
       "      <th>3</th>\n",
       "      <td>Afghanistan</td>\n",
       "      <td>Maize</td>\n",
       "      <td>1964</td>\n",
       "      <td>14257</td>\n",
       "      <td>13.73</td>\n",
       "      <td>NaN</td>\n",
       "      <td>NaN</td>\n",
       "    </tr>\n",
       "    <tr>\n",
       "      <th>4</th>\n",
       "      <td>Afghanistan</td>\n",
       "      <td>Maize</td>\n",
       "      <td>1965</td>\n",
       "      <td>14400</td>\n",
       "      <td>13.90</td>\n",
       "      <td>NaN</td>\n",
       "      <td>NaN</td>\n",
       "    </tr>\n",
       "    <tr>\n",
       "      <th>...</th>\n",
       "      <td>...</td>\n",
       "      <td>...</td>\n",
       "      <td>...</td>\n",
       "      <td>...</td>\n",
       "      <td>...</td>\n",
       "      <td>...</td>\n",
       "      <td>...</td>\n",
       "    </tr>\n",
       "    <tr>\n",
       "      <th>109361</th>\n",
       "      <td>Zimbabwe</td>\n",
       "      <td>Wheat</td>\n",
       "      <td>2012</td>\n",
       "      <td>24420</td>\n",
       "      <td>20.52</td>\n",
       "      <td>657</td>\n",
       "      <td>3375.53</td>\n",
       "    </tr>\n",
       "    <tr>\n",
       "      <th>109362</th>\n",
       "      <td>Zimbabwe</td>\n",
       "      <td>Wheat</td>\n",
       "      <td>2013</td>\n",
       "      <td>22888</td>\n",
       "      <td>19.76</td>\n",
       "      <td>657</td>\n",
       "      <td>2550.07</td>\n",
       "    </tr>\n",
       "    <tr>\n",
       "      <th>109363</th>\n",
       "      <td>Zimbabwe</td>\n",
       "      <td>Wheat</td>\n",
       "      <td>2014</td>\n",
       "      <td>21357</td>\n",
       "      <td>NaN</td>\n",
       "      <td>657</td>\n",
       "      <td>2185.07</td>\n",
       "    </tr>\n",
       "    <tr>\n",
       "      <th>109364</th>\n",
       "      <td>Zimbabwe</td>\n",
       "      <td>Wheat</td>\n",
       "      <td>2015</td>\n",
       "      <td>19826</td>\n",
       "      <td>NaN</td>\n",
       "      <td>657</td>\n",
       "      <td>2185.07</td>\n",
       "    </tr>\n",
       "    <tr>\n",
       "      <th>109365</th>\n",
       "      <td>Zimbabwe</td>\n",
       "      <td>Wheat</td>\n",
       "      <td>2016</td>\n",
       "      <td>18294</td>\n",
       "      <td>NaN</td>\n",
       "      <td>657</td>\n",
       "      <td>2185.07</td>\n",
       "    </tr>\n",
       "  </tbody>\n",
       "</table>\n",
       "<p>109366 rows × 7 columns</p>\n",
       "</div>"
      ],
      "text/plain": [
       "            Country   Item  Year  Yield  Average_Temperature Average_Rainfall  \\\n",
       "0       Afghanistan  Maize  1961  14000                14.23              NaN   \n",
       "1       Afghanistan  Maize  1962  14000                14.10              NaN   \n",
       "2       Afghanistan  Maize  1963  14260                15.01              NaN   \n",
       "3       Afghanistan  Maize  1964  14257                13.73              NaN   \n",
       "4       Afghanistan  Maize  1965  14400                13.90              NaN   \n",
       "...             ...    ...   ...    ...                  ...              ...   \n",
       "109361     Zimbabwe  Wheat  2012  24420                20.52              657   \n",
       "109362     Zimbabwe  Wheat  2013  22888                19.76              657   \n",
       "109363     Zimbabwe  Wheat  2014  21357                  NaN              657   \n",
       "109364     Zimbabwe  Wheat  2015  19826                  NaN              657   \n",
       "109365     Zimbabwe  Wheat  2016  18294                  NaN              657   \n",
       "\n",
       "        Pesticides  \n",
       "0              NaN  \n",
       "1              NaN  \n",
       "2              NaN  \n",
       "3              NaN  \n",
       "4              NaN  \n",
       "...            ...  \n",
       "109361     3375.53  \n",
       "109362     2550.07  \n",
       "109363     2185.07  \n",
       "109364     2185.07  \n",
       "109365     2185.07  \n",
       "\n",
       "[109366 rows x 7 columns]"
      ]
     },
     "execution_count": 44,
     "metadata": {},
     "output_type": "execute_result"
    }
   ],
   "source": [
    "combined_df"
   ]
  },
  {
   "cell_type": "code",
   "execution_count": 60,
   "id": "89981fbb-5d69-444f-8eb6-eada1080af76",
   "metadata": {},
   "outputs": [],
   "source": [
    "combined_df.attrs = {'Average_Temperature':'Celcius','Average_Rainfall':'Average rainfall mm per year','Yield':'Tonnes of active ingredients','Item':'Crop type'}"
   ]
  },
  {
   "cell_type": "code",
   "execution_count": 54,
   "id": "e6c69942-9919-4823-9610-5597f4c805aa",
   "metadata": {},
   "outputs": [
    {
     "data": {
      "text/plain": [
       "Country                  1\n",
       "Item                     4\n",
       "Year                    56\n",
       "Yield                  197\n",
       "Average_Temperature     49\n",
       "Average_Rainfall         1\n",
       "Pesticides               0\n",
       "dtype: int64"
      ]
     },
     "execution_count": 54,
     "metadata": {},
     "output_type": "execute_result"
    }
   ],
   "source": [
    "combined_df[combined_df['Country'] == 'Afghanistan'].nunique()"
   ]
  },
  {
   "cell_type": "code",
   "execution_count": 55,
   "id": "9bc80d67-66d6-4535-b388-0dc56d578014",
   "metadata": {},
   "outputs": [
    {
     "data": {
      "text/html": [
       "<div>\n",
       "<style scoped>\n",
       "    .dataframe tbody tr th:only-of-type {\n",
       "        vertical-align: middle;\n",
       "    }\n",
       "\n",
       "    .dataframe tbody tr th {\n",
       "        vertical-align: top;\n",
       "    }\n",
       "\n",
       "    .dataframe thead th {\n",
       "        text-align: right;\n",
       "    }\n",
       "</style>\n",
       "<table border=\"1\" class=\"dataframe\">\n",
       "  <thead>\n",
       "    <tr style=\"text-align: right;\">\n",
       "      <th></th>\n",
       "      <th>Country</th>\n",
       "      <th>Item</th>\n",
       "      <th>Year</th>\n",
       "      <th>Yield</th>\n",
       "      <th>Average_Temperature</th>\n",
       "      <th>Average_Rainfall</th>\n",
       "      <th>Pesticides</th>\n",
       "    </tr>\n",
       "  </thead>\n",
       "  <tbody>\n",
       "    <tr>\n",
       "      <th>0</th>\n",
       "      <td>Afghanistan</td>\n",
       "      <td>Maize</td>\n",
       "      <td>1961</td>\n",
       "      <td>14000</td>\n",
       "      <td>14.23</td>\n",
       "      <td>NaN</td>\n",
       "      <td>NaN</td>\n",
       "    </tr>\n",
       "    <tr>\n",
       "      <th>1</th>\n",
       "      <td>Afghanistan</td>\n",
       "      <td>Maize</td>\n",
       "      <td>1962</td>\n",
       "      <td>14000</td>\n",
       "      <td>14.10</td>\n",
       "      <td>NaN</td>\n",
       "      <td>NaN</td>\n",
       "    </tr>\n",
       "    <tr>\n",
       "      <th>2</th>\n",
       "      <td>Afghanistan</td>\n",
       "      <td>Maize</td>\n",
       "      <td>1963</td>\n",
       "      <td>14260</td>\n",
       "      <td>15.01</td>\n",
       "      <td>NaN</td>\n",
       "      <td>NaN</td>\n",
       "    </tr>\n",
       "    <tr>\n",
       "      <th>3</th>\n",
       "      <td>Afghanistan</td>\n",
       "      <td>Maize</td>\n",
       "      <td>1964</td>\n",
       "      <td>14257</td>\n",
       "      <td>13.73</td>\n",
       "      <td>NaN</td>\n",
       "      <td>NaN</td>\n",
       "    </tr>\n",
       "    <tr>\n",
       "      <th>4</th>\n",
       "      <td>Afghanistan</td>\n",
       "      <td>Maize</td>\n",
       "      <td>1965</td>\n",
       "      <td>14400</td>\n",
       "      <td>13.90</td>\n",
       "      <td>NaN</td>\n",
       "      <td>NaN</td>\n",
       "    </tr>\n",
       "    <tr>\n",
       "      <th>...</th>\n",
       "      <td>...</td>\n",
       "      <td>...</td>\n",
       "      <td>...</td>\n",
       "      <td>...</td>\n",
       "      <td>...</td>\n",
       "      <td>...</td>\n",
       "      <td>...</td>\n",
       "    </tr>\n",
       "    <tr>\n",
       "      <th>219</th>\n",
       "      <td>Afghanistan</td>\n",
       "      <td>Wheat</td>\n",
       "      <td>2012</td>\n",
       "      <td>20104</td>\n",
       "      <td>14.51</td>\n",
       "      <td>327</td>\n",
       "      <td>NaN</td>\n",
       "    </tr>\n",
       "    <tr>\n",
       "      <th>220</th>\n",
       "      <td>Afghanistan</td>\n",
       "      <td>Wheat</td>\n",
       "      <td>2013</td>\n",
       "      <td>20248</td>\n",
       "      <td>16.21</td>\n",
       "      <td>327</td>\n",
       "      <td>NaN</td>\n",
       "    </tr>\n",
       "    <tr>\n",
       "      <th>221</th>\n",
       "      <td>Afghanistan</td>\n",
       "      <td>Wheat</td>\n",
       "      <td>2014</td>\n",
       "      <td>20237</td>\n",
       "      <td>NaN</td>\n",
       "      <td>327</td>\n",
       "      <td>NaN</td>\n",
       "    </tr>\n",
       "    <tr>\n",
       "      <th>222</th>\n",
       "      <td>Afghanistan</td>\n",
       "      <td>Wheat</td>\n",
       "      <td>2015</td>\n",
       "      <td>21959</td>\n",
       "      <td>NaN</td>\n",
       "      <td>327</td>\n",
       "      <td>NaN</td>\n",
       "    </tr>\n",
       "    <tr>\n",
       "      <th>223</th>\n",
       "      <td>Afghanistan</td>\n",
       "      <td>Wheat</td>\n",
       "      <td>2016</td>\n",
       "      <td>19803</td>\n",
       "      <td>NaN</td>\n",
       "      <td>327</td>\n",
       "      <td>NaN</td>\n",
       "    </tr>\n",
       "  </tbody>\n",
       "</table>\n",
       "<p>224 rows × 7 columns</p>\n",
       "</div>"
      ],
      "text/plain": [
       "         Country   Item  Year  Yield  Average_Temperature Average_Rainfall  \\\n",
       "0    Afghanistan  Maize  1961  14000                14.23              NaN   \n",
       "1    Afghanistan  Maize  1962  14000                14.10              NaN   \n",
       "2    Afghanistan  Maize  1963  14260                15.01              NaN   \n",
       "3    Afghanistan  Maize  1964  14257                13.73              NaN   \n",
       "4    Afghanistan  Maize  1965  14400                13.90              NaN   \n",
       "..           ...    ...   ...    ...                  ...              ...   \n",
       "219  Afghanistan  Wheat  2012  20104                14.51              327   \n",
       "220  Afghanistan  Wheat  2013  20248                16.21              327   \n",
       "221  Afghanistan  Wheat  2014  20237                  NaN              327   \n",
       "222  Afghanistan  Wheat  2015  21959                  NaN              327   \n",
       "223  Afghanistan  Wheat  2016  19803                  NaN              327   \n",
       "\n",
       "     Pesticides  \n",
       "0           NaN  \n",
       "1           NaN  \n",
       "2           NaN  \n",
       "3           NaN  \n",
       "4           NaN  \n",
       "..          ...  \n",
       "219         NaN  \n",
       "220         NaN  \n",
       "221         NaN  \n",
       "222         NaN  \n",
       "223         NaN  \n",
       "\n",
       "[224 rows x 7 columns]"
      ]
     },
     "execution_count": 55,
     "metadata": {},
     "output_type": "execute_result"
    }
   ],
   "source": [
    "combined_df[combined_df['Country'] == 'Afghanistan']"
   ]
  },
  {
   "cell_type": "code",
   "execution_count": 56,
   "id": "cc3e97cb-18c9-4ef5-ae9e-6de2baa0cb48",
   "metadata": {},
   "outputs": [
    {
     "data": {
      "text/html": [
       "<div>\n",
       "<style scoped>\n",
       "    .dataframe tbody tr th:only-of-type {\n",
       "        vertical-align: middle;\n",
       "    }\n",
       "\n",
       "    .dataframe tbody tr th {\n",
       "        vertical-align: top;\n",
       "    }\n",
       "\n",
       "    .dataframe thead th {\n",
       "        text-align: right;\n",
       "    }\n",
       "</style>\n",
       "<table border=\"1\" class=\"dataframe\">\n",
       "  <thead>\n",
       "    <tr style=\"text-align: right;\">\n",
       "      <th></th>\n",
       "      <th>Country</th>\n",
       "      <th>Item</th>\n",
       "      <th>Year</th>\n",
       "      <th>Yield</th>\n",
       "      <th>Average_Temperature</th>\n",
       "      <th>Average_Rainfall</th>\n",
       "      <th>Pesticides</th>\n",
       "    </tr>\n",
       "  </thead>\n",
       "  <tbody>\n",
       "    <tr>\n",
       "      <th>0</th>\n",
       "      <td>Afghanistan</td>\n",
       "      <td>Maize</td>\n",
       "      <td>1961</td>\n",
       "      <td>14000</td>\n",
       "      <td>14.23</td>\n",
       "      <td>NaN</td>\n",
       "      <td>NaN</td>\n",
       "    </tr>\n",
       "    <tr>\n",
       "      <th>1</th>\n",
       "      <td>Afghanistan</td>\n",
       "      <td>Maize</td>\n",
       "      <td>1962</td>\n",
       "      <td>14000</td>\n",
       "      <td>14.10</td>\n",
       "      <td>NaN</td>\n",
       "      <td>NaN</td>\n",
       "    </tr>\n",
       "    <tr>\n",
       "      <th>2</th>\n",
       "      <td>Afghanistan</td>\n",
       "      <td>Maize</td>\n",
       "      <td>1963</td>\n",
       "      <td>14260</td>\n",
       "      <td>15.01</td>\n",
       "      <td>NaN</td>\n",
       "      <td>NaN</td>\n",
       "    </tr>\n",
       "    <tr>\n",
       "      <th>3</th>\n",
       "      <td>Afghanistan</td>\n",
       "      <td>Maize</td>\n",
       "      <td>1964</td>\n",
       "      <td>14257</td>\n",
       "      <td>13.73</td>\n",
       "      <td>NaN</td>\n",
       "      <td>NaN</td>\n",
       "    </tr>\n",
       "    <tr>\n",
       "      <th>4</th>\n",
       "      <td>Afghanistan</td>\n",
       "      <td>Maize</td>\n",
       "      <td>1965</td>\n",
       "      <td>14400</td>\n",
       "      <td>13.90</td>\n",
       "      <td>NaN</td>\n",
       "      <td>NaN</td>\n",
       "    </tr>\n",
       "    <tr>\n",
       "      <th>...</th>\n",
       "      <td>...</td>\n",
       "      <td>...</td>\n",
       "      <td>...</td>\n",
       "      <td>...</td>\n",
       "      <td>...</td>\n",
       "      <td>...</td>\n",
       "      <td>...</td>\n",
       "    </tr>\n",
       "    <tr>\n",
       "      <th>109361</th>\n",
       "      <td>Zimbabwe</td>\n",
       "      <td>Wheat</td>\n",
       "      <td>2012</td>\n",
       "      <td>24420</td>\n",
       "      <td>20.52</td>\n",
       "      <td>657</td>\n",
       "      <td>3375.53</td>\n",
       "    </tr>\n",
       "    <tr>\n",
       "      <th>109362</th>\n",
       "      <td>Zimbabwe</td>\n",
       "      <td>Wheat</td>\n",
       "      <td>2013</td>\n",
       "      <td>22888</td>\n",
       "      <td>19.76</td>\n",
       "      <td>657</td>\n",
       "      <td>2550.07</td>\n",
       "    </tr>\n",
       "    <tr>\n",
       "      <th>109363</th>\n",
       "      <td>Zimbabwe</td>\n",
       "      <td>Wheat</td>\n",
       "      <td>2014</td>\n",
       "      <td>21357</td>\n",
       "      <td>NaN</td>\n",
       "      <td>657</td>\n",
       "      <td>2185.07</td>\n",
       "    </tr>\n",
       "    <tr>\n",
       "      <th>109364</th>\n",
       "      <td>Zimbabwe</td>\n",
       "      <td>Wheat</td>\n",
       "      <td>2015</td>\n",
       "      <td>19826</td>\n",
       "      <td>NaN</td>\n",
       "      <td>657</td>\n",
       "      <td>2185.07</td>\n",
       "    </tr>\n",
       "    <tr>\n",
       "      <th>109365</th>\n",
       "      <td>Zimbabwe</td>\n",
       "      <td>Wheat</td>\n",
       "      <td>2016</td>\n",
       "      <td>18294</td>\n",
       "      <td>NaN</td>\n",
       "      <td>657</td>\n",
       "      <td>2185.07</td>\n",
       "    </tr>\n",
       "  </tbody>\n",
       "</table>\n",
       "<p>109366 rows × 7 columns</p>\n",
       "</div>"
      ],
      "text/plain": [
       "            Country   Item  Year  Yield  Average_Temperature Average_Rainfall  \\\n",
       "0       Afghanistan  Maize  1961  14000                14.23              NaN   \n",
       "1       Afghanistan  Maize  1962  14000                14.10              NaN   \n",
       "2       Afghanistan  Maize  1963  14260                15.01              NaN   \n",
       "3       Afghanistan  Maize  1964  14257                13.73              NaN   \n",
       "4       Afghanistan  Maize  1965  14400                13.90              NaN   \n",
       "...             ...    ...   ...    ...                  ...              ...   \n",
       "109361     Zimbabwe  Wheat  2012  24420                20.52              657   \n",
       "109362     Zimbabwe  Wheat  2013  22888                19.76              657   \n",
       "109363     Zimbabwe  Wheat  2014  21357                  NaN              657   \n",
       "109364     Zimbabwe  Wheat  2015  19826                  NaN              657   \n",
       "109365     Zimbabwe  Wheat  2016  18294                  NaN              657   \n",
       "\n",
       "        Pesticides  \n",
       "0              NaN  \n",
       "1              NaN  \n",
       "2              NaN  \n",
       "3              NaN  \n",
       "4              NaN  \n",
       "...            ...  \n",
       "109361     3375.53  \n",
       "109362     2550.07  \n",
       "109363     2185.07  \n",
       "109364     2185.07  \n",
       "109365     2185.07  \n",
       "\n",
       "[109366 rows x 7 columns]"
      ]
     },
     "execution_count": 56,
     "metadata": {},
     "output_type": "execute_result"
    }
   ],
   "source": [
    "combined_df"
   ]
  },
  {
   "cell_type": "code",
   "execution_count": 62,
   "id": "5c116b3d-1498-4b27-9dfd-e72a215f524e",
   "metadata": {},
   "outputs": [
    {
     "data": {
      "text/plain": [
       "{'Average_Temperature': 'Celcius',\n",
       " 'Average_Rainfall': 'Average rainfall mm per year',\n",
       " 'Yield': 'Tonnes of active ingredients',\n",
       " 'Item': 'Crop type'}"
      ]
     },
     "execution_count": 62,
     "metadata": {},
     "output_type": "execute_result"
    }
   ],
   "source": [
    "combined_df.attrs"
   ]
  },
  {
   "cell_type": "code",
   "execution_count": 75,
   "id": "49959171-ab12-47e6-b2c6-d15af67e1117",
   "metadata": {},
   "outputs": [
    {
     "data": {
      "text/html": [
       "<div>\n",
       "<style scoped>\n",
       "    .dataframe tbody tr th:only-of-type {\n",
       "        vertical-align: middle;\n",
       "    }\n",
       "\n",
       "    .dataframe tbody tr th {\n",
       "        vertical-align: top;\n",
       "    }\n",
       "\n",
       "    .dataframe thead th {\n",
       "        text-align: right;\n",
       "    }\n",
       "</style>\n",
       "<table border=\"1\" class=\"dataframe\">\n",
       "  <thead>\n",
       "    <tr style=\"text-align: right;\">\n",
       "      <th></th>\n",
       "      <th>Year</th>\n",
       "      <th>Yield</th>\n",
       "      <th>Average_Temperature</th>\n",
       "      <th>Pesticides</th>\n",
       "    </tr>\n",
       "  </thead>\n",
       "  <tbody>\n",
       "    <tr>\n",
       "      <th>count</th>\n",
       "      <td>109,366</td>\n",
       "      <td>109,366</td>\n",
       "      <td>84,859</td>\n",
       "      <td>39,918</td>\n",
       "    </tr>\n",
       "    <tr>\n",
       "      <th>mean</th>\n",
       "      <td>1,988</td>\n",
       "      <td>65,055</td>\n",
       "      <td>20</td>\n",
       "      <td>38,415</td>\n",
       "    </tr>\n",
       "    <tr>\n",
       "      <th>std</th>\n",
       "      <td>16</td>\n",
       "      <td>69,141</td>\n",
       "      <td>7</td>\n",
       "      <td>118,352</td>\n",
       "    </tr>\n",
       "    <tr>\n",
       "      <th>min</th>\n",
       "      <td>1,961</td>\n",
       "      <td>0</td>\n",
       "      <td>-4</td>\n",
       "      <td>0</td>\n",
       "    </tr>\n",
       "    <tr>\n",
       "      <th>25%</th>\n",
       "      <td>1,975</td>\n",
       "      <td>16,270</td>\n",
       "      <td>15</td>\n",
       "      <td>816</td>\n",
       "    </tr>\n",
       "    <tr>\n",
       "      <th>50%</th>\n",
       "      <td>1,989</td>\n",
       "      <td>37,016</td>\n",
       "      <td>21</td>\n",
       "      <td>8,306</td>\n",
       "    </tr>\n",
       "    <tr>\n",
       "      <th>75%</th>\n",
       "      <td>2,002</td>\n",
       "      <td>94,200</td>\n",
       "      <td>26</td>\n",
       "      <td>39,406</td>\n",
       "    </tr>\n",
       "    <tr>\n",
       "      <th>max</th>\n",
       "      <td>2,016</td>\n",
       "      <td>1,000,000</td>\n",
       "      <td>31</td>\n",
       "      <td>1,807,000</td>\n",
       "    </tr>\n",
       "  </tbody>\n",
       "</table>\n",
       "</div>"
      ],
      "text/plain": [
       "          Year      Yield Average_Temperature Pesticides\n",
       "count  109,366    109,366              84,859     39,918\n",
       "mean     1,988     65,055                  20     38,415\n",
       "std         16     69,141                   7    118,352\n",
       "min      1,961          0                  -4          0\n",
       "25%      1,975     16,270                  15        816\n",
       "50%      1,989     37,016                  21      8,306\n",
       "75%      2,002     94,200                  26     39,406\n",
       "max      2,016  1,000,000                  31  1,807,000"
      ]
     },
     "execution_count": 75,
     "metadata": {},
     "output_type": "execute_result"
    }
   ],
   "source": [
    "combined_df.describe().round(0).astype(int).map(\"{:,}\".format)"
   ]
  },
  {
   "cell_type": "code",
   "execution_count": 76,
   "id": "ca8897e9-3e76-400b-9b8e-d233c46b5943",
   "metadata": {},
   "outputs": [],
   "source": [
    "combined_df.to_csv('combined.csv',index=False)"
   ]
  },
  {
   "cell_type": "code",
   "execution_count": null,
   "id": "d2da2dd4-ec20-45e5-9fe8-869b552c367c",
   "metadata": {},
   "outputs": [],
   "source": []
  }
 ],
 "metadata": {
  "kernelspec": {
   "display_name": "milestone",
   "language": "python",
   "name": "milestone"
  },
  "language_info": {
   "codemirror_mode": {
    "name": "ipython",
    "version": 3
   },
   "file_extension": ".py",
   "mimetype": "text/x-python",
   "name": "python",
   "nbconvert_exporter": "python",
   "pygments_lexer": "ipython3",
   "version": "3.11.4"
  }
 },
 "nbformat": 4,
 "nbformat_minor": 5
}
