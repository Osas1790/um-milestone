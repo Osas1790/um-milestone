{
 "cells": [
  {
   "cell_type": "markdown",
   "id": "4d72da20-784a-4c9c-a50f-7ec0e5ff1507",
   "metadata": {},
   "source": [
    "# Milestone I"
   ]
  },
  {
   "cell_type": "markdown",
   "id": "6c9d5fc5-ab4a-4f3d-ba22-4fc17be7f3c0",
   "metadata": {},
   "source": [
    "We aim to explore the link between farm productivity and pesticide use, considering the effects of temperature and rainfall. We want to identify countries that have boosted crop yields without increasing pesticide use. By studying these nations, we seek to uncover methods for better sustainable farming. Our key question is: “Which countries have raised crop output while stabilizing or reducing pesticide use, and how do weather conditions factor in?” Sustainable farming is crucial to being good sheppard of our planet's finite resources. The overuse of pesticides can degrade soil quality, harm wildlife, and even contaminate water supplies which can be a health hazard to humans. In an era where food security and environmental health are intertwined, it is important to find ways to to reduce our dependence on pesticides. By answering our question, we hope to provide insights that can be applied globally, a roadmap for agricultural practices, a way to nurture land and its inhabitants. We want to highlight sustainable farming and bring value to this context."
   ]
  },
  {
   "cell_type": "code",
   "execution_count": 1,
   "id": "362fb29a-1371-4c18-a0dc-687974655f09",
   "metadata": {},
   "outputs": [],
   "source": [
    "import pandas as pd\n",
    "import numpy as np\n",
    "import altair as alt\n",
    "import geopandas as gpd\n",
    "import matplotlib.pyplot as plt\n",
    "from matplotlib.colors import Normalize\n",
    "from IPython.display import display, Markdown\n",
    "\n",
    "import warnings\n",
    "warnings.simplefilter(action='ignore', category=FutureWarning)"
   ]
  },
  {
   "cell_type": "markdown",
   "id": "8508bd2d-858e-4a88-b74b-7b9a8dd7247b",
   "metadata": {},
   "source": [
    "# Load Datasets"
   ]
  },
  {
   "cell_type": "code",
   "execution_count": 2,
   "id": "e2e6a561-7441-4bc8-9c2b-a1723390a3e9",
   "metadata": {},
   "outputs": [],
   "source": [
    "pest_df = pd.read_csv('./pesticides.csv')\n",
    "rain_df = pd.read_csv('./rainfall.csv')\n",
    "temp_df = pd.read_csv('./temp.csv')\n",
    "yield_df = pd.read_csv('./yield.csv')"
   ]
  },
  {
   "cell_type": "markdown",
   "id": "48c16fb7-8890-4f8c-b6cf-6ecfaa815ce1",
   "metadata": {},
   "source": [
    "# Explore Datasets"
   ]
  },
  {
   "cell_type": "code",
   "execution_count": 39,
   "id": "48efd7e5-0334-44ac-a77c-2cd2a3b046bd",
   "metadata": {
    "jupyter": {
     "source_hidden": true
    }
   },
   "outputs": [],
   "source": [
    "# Function to print various data attributes\n",
    "def print_info(df, name):\n",
    "    # display(Markdown(f'### **{name}**'))\n",
    "    display(Markdown('**Dataframe info:**'))\n",
    "    print(df.info())\n",
    "    print('\\n')\n",
    "    display(Markdown('**Number of unique values per column:**'))\n",
    "    print(df.nunique())\n",
    "    print('\\n')\n",
    "    display(Markdown('**Summary statistics per column:**'))\n",
    "    print(df.describe().round(0).astype(int))\n",
    "    print('\\n')\n",
    "\n",
    "    display(Markdown('**Columns with missing values in temp_df:**'))\n",
    "    missing_values = df.isna().sum()\n",
    "    print(missing_values[missing_values > 0].to_string(header=False))\n",
    "    print('\\n')"
   ]
  },
  {
   "cell_type": "markdown",
   "id": "46b78a17-db96-4f91-bf35-3a9d5dc76391",
   "metadata": {},
   "source": [
    "## temp_df\n",
    "\n",
    "The dataset contains information about average annual temperature across different years and countries.ay be needed."
   ]
  },
  {
   "cell_type": "code",
   "execution_count": 40,
   "id": "699a6612-fe3f-40b0-81ec-73972add9673",
   "metadata": {
    "collapsed": true,
    "jupyter": {
     "outputs_hidden": true
    }
   },
   "outputs": [
    {
     "data": {
      "text/markdown": [
       "**Dataframe info:**"
      ],
      "text/plain": [
       "<IPython.core.display.Markdown object>"
      ]
     },
     "metadata": {},
     "output_type": "display_data"
    },
    {
     "name": "stdout",
     "output_type": "stream",
     "text": [
      "<class 'pandas.core.frame.DataFrame'>\n",
      "RangeIndex: 71311 entries, 0 to 71310\n",
      "Data columns (total 3 columns):\n",
      " #   Column    Non-Null Count  Dtype  \n",
      "---  ------    --------------  -----  \n",
      " 0   year      71311 non-null  int64  \n",
      " 1   country   71311 non-null  object \n",
      " 2   avg_temp  68764 non-null  float64\n",
      "dtypes: float64(1), int64(1), object(1)\n",
      "memory usage: 1.6+ MB\n",
      "None\n",
      "\n",
      "\n"
     ]
    },
    {
     "data": {
      "text/markdown": [
       "**Number of unique values per column:**"
      ],
      "text/plain": [
       "<IPython.core.display.Markdown object>"
      ]
     },
     "metadata": {},
     "output_type": "display_data"
    },
    {
     "name": "stdout",
     "output_type": "stream",
     "text": [
      "year         271\n",
      "country      137\n",
      "avg_temp    3303\n",
      "dtype: int64\n",
      "\n",
      "\n"
     ]
    },
    {
     "data": {
      "text/markdown": [
       "**Summary statistics per column:**"
      ],
      "text/plain": [
       "<IPython.core.display.Markdown object>"
      ]
     },
     "metadata": {},
     "output_type": "display_data"
    },
    {
     "name": "stdout",
     "output_type": "stream",
     "text": [
      "        year  avg_temp\n",
      "count  71311     68764\n",
      "mean    1906        16\n",
      "std       67         8\n",
      "min     1743       -14\n",
      "25%     1858        10\n",
      "50%     1910        16\n",
      "75%     1962        24\n",
      "max     2013        31\n",
      "\n",
      "\n"
     ]
    },
    {
     "data": {
      "text/markdown": [
       "**Columns with missing values in temp_df:**"
      ],
      "text/plain": [
       "<IPython.core.display.Markdown object>"
      ]
     },
     "metadata": {},
     "output_type": "display_data"
    },
    {
     "name": "stdout",
     "output_type": "stream",
     "text": [
      "avg_temp    2547\n",
      "\n",
      "\n"
     ]
    }
   ],
   "source": [
    "print_info(temp_df, 'temp_df')"
   ]
  },
  {
   "cell_type": "markdown",
   "id": "bef40bcd-ffa7-4ee5-b004-652c9cdda395",
   "metadata": {},
   "source": [
    "### Comments:\n",
    "\n",
    "##### Attributes:\n",
    " - year: The year in which the data was collected.\n",
    " - country: The name of the country.\n",
    " - avg_temp: The average annual temperature in presumably degrees Celsius (although the unit is not explicitly stated).\n",
    "\n",
    "##### Note:\n",
    "There are some missing values in the avg_temp column. These will need to be addressed in the data preprocessing stage."
   ]
  },
  {
   "cell_type": "markdown",
   "id": "f0a5c973-6df2-4c47-ae22-d0a415a9fcd2",
   "metadata": {},
   "source": [
    "## rain_df"
   ]
  },
  {
   "cell_type": "code",
   "execution_count": 41,
   "id": "ed4d58b3-2492-4dad-8a21-223c3c5e66be",
   "metadata": {},
   "outputs": [
    {
     "data": {
      "text/markdown": [
       "**Dataframe info:**"
      ],
      "text/plain": [
       "<IPython.core.display.Markdown object>"
      ]
     },
     "metadata": {},
     "output_type": "display_data"
    },
    {
     "name": "stdout",
     "output_type": "stream",
     "text": [
      "<class 'pandas.core.frame.DataFrame'>\n",
      "RangeIndex: 6727 entries, 0 to 6726\n",
      "Data columns (total 3 columns):\n",
      " #   Column                         Non-Null Count  Dtype \n",
      "---  ------                         --------------  ----- \n",
      " 0    Area                          6727 non-null   object\n",
      " 1   Year                           6727 non-null   int64 \n",
      " 2   average_rain_fall_mm_per_year  5953 non-null   object\n",
      "dtypes: int64(1), object(2)\n",
      "memory usage: 157.8+ KB\n",
      "None\n",
      "\n",
      "\n"
     ]
    },
    {
     "data": {
      "text/markdown": [
       "**Number of unique values per column:**"
      ],
      "text/plain": [
       "<IPython.core.display.Markdown object>"
      ]
     },
     "metadata": {},
     "output_type": "display_data"
    },
    {
     "name": "stdout",
     "output_type": "stream",
     "text": [
      " Area                            217\n",
      "Year                              31\n",
      "average_rain_fall_mm_per_year    173\n",
      "dtype: int64\n",
      "\n",
      "\n"
     ]
    },
    {
     "data": {
      "text/markdown": [
       "**Summary statistics per column:**"
      ],
      "text/plain": [
       "<IPython.core.display.Markdown object>"
      ]
     },
     "metadata": {},
     "output_type": "display_data"
    },
    {
     "name": "stdout",
     "output_type": "stream",
     "text": [
      "       Year\n",
      "count  6727\n",
      "mean   2001\n",
      "std      10\n",
      "min    1985\n",
      "25%    1993\n",
      "50%    2001\n",
      "75%    2010\n",
      "max    2017\n",
      "\n",
      "\n"
     ]
    },
    {
     "data": {
      "text/markdown": [
       "**Columns with missing values in temp_df:**"
      ],
      "text/plain": [
       "<IPython.core.display.Markdown object>"
      ]
     },
     "metadata": {},
     "output_type": "display_data"
    },
    {
     "name": "stdout",
     "output_type": "stream",
     "text": [
      "average_rain_fall_mm_per_year    774\n",
      "\n",
      "\n"
     ]
    }
   ],
   "source": [
    "print_info(rain_df, 'rain_df')"
   ]
  },
  {
   "cell_type": "markdown",
   "id": "93c231e4-f7b7-4c04-acb8-26f233471460",
   "metadata": {},
   "source": [
    "### Comments:\n",
    "\n",
    "##### Attributes:\n",
    " - Area: This seems to represent geographical areas, likely countries.\n",
    " - Year: This represents the year for the data point.\n",
    " - average_rain_fall_mm_per_year: average rainfall in mm per year for the given area and year.\n",
    "\n",
    "##### Notes:\n",
    "\n",
    "Data type inconsistencies can hinder numerical analyses and visualizations. The presence of string data in what should be a numeric column (average_rain_fall_mm_per_year) will need conversion to float or integer for meaningful statistical operations.\n",
    "\n",
    "The broad scope in terms of years and areas provides a rich dataset but also introduces complexity when combining with other datasets. Data alignment and aggregation may be needed."
   ]
  },
  {
   "cell_type": "markdown",
   "id": "eec75ed6-68a0-4342-a20c-9c1871c4337c",
   "metadata": {},
   "source": [
    "## pest_df\n",
    "\n",
    "The dataset contains information about pesticide use across different years and areas (presumably countries)."
   ]
  },
  {
   "cell_type": "code",
   "execution_count": 42,
   "id": "d6d1b505-3f90-4b1c-8361-42fece6a544c",
   "metadata": {},
   "outputs": [
    {
     "data": {
      "text/markdown": [
       "**Dataframe info:**"
      ],
      "text/plain": [
       "<IPython.core.display.Markdown object>"
      ]
     },
     "metadata": {},
     "output_type": "display_data"
    },
    {
     "name": "stdout",
     "output_type": "stream",
     "text": [
      "<class 'pandas.core.frame.DataFrame'>\n",
      "RangeIndex: 4349 entries, 0 to 4348\n",
      "Data columns (total 7 columns):\n",
      " #   Column   Non-Null Count  Dtype  \n",
      "---  ------   --------------  -----  \n",
      " 0   Domain   4349 non-null   object \n",
      " 1   Area     4349 non-null   object \n",
      " 2   Element  4349 non-null   object \n",
      " 3   Item     4349 non-null   object \n",
      " 4   Year     4349 non-null   int64  \n",
      " 5   Unit     4349 non-null   object \n",
      " 6   Value    4349 non-null   float64\n",
      "dtypes: float64(1), int64(1), object(5)\n",
      "memory usage: 238.0+ KB\n",
      "None\n",
      "\n",
      "\n"
     ]
    },
    {
     "data": {
      "text/markdown": [
       "**Number of unique values per column:**"
      ],
      "text/plain": [
       "<IPython.core.display.Markdown object>"
      ]
     },
     "metadata": {},
     "output_type": "display_data"
    },
    {
     "name": "stdout",
     "output_type": "stream",
     "text": [
      "Domain        1\n",
      "Area        168\n",
      "Element       1\n",
      "Item          1\n",
      "Year         27\n",
      "Unit          1\n",
      "Value      2825\n",
      "dtype: int64\n",
      "\n",
      "\n"
     ]
    },
    {
     "data": {
      "text/markdown": [
       "**Summary statistics per column:**"
      ],
      "text/plain": [
       "<IPython.core.display.Markdown object>"
      ]
     },
     "metadata": {},
     "output_type": "display_data"
    },
    {
     "name": "stdout",
     "output_type": "stream",
     "text": [
      "       Year    Value\n",
      "count  4349     4349\n",
      "mean   2003    20303\n",
      "std       8   117736\n",
      "min    1990        0\n",
      "25%    1996       93\n",
      "50%    2003     1138\n",
      "75%    2010     7869\n",
      "max    2016  1807000\n",
      "\n",
      "\n"
     ]
    },
    {
     "data": {
      "text/markdown": [
       "**Columns with missing values in temp_df:**"
      ],
      "text/plain": [
       "<IPython.core.display.Markdown object>"
      ]
     },
     "metadata": {},
     "output_type": "display_data"
    },
    {
     "name": "stdout",
     "output_type": "stream",
     "text": [
      "Series([], )\n",
      "\n",
      "\n"
     ]
    }
   ],
   "source": [
    "print_info(pest_df, 'pest_df')"
   ]
  },
  {
   "cell_type": "markdown",
   "id": "0923af98-4f4e-489c-835b-9c6f967cf8a5",
   "metadata": {},
   "source": [
    "### Comments:\n",
    "\n",
    "##### Attributes:\n",
    " - Domain: Appears to indicate the subject area of the data, which is 'Pesticides Use' in this case.\r\n",
    " - Area: The geographical area, which looks like the name of the country.\r\n",
    " - Element: Specifies what the data represents, i.e., 'Use' of pesticides.\r\n",
    " - Item: The type of pesticide used. It is listed as 'Pesticides (total)' in the initial rows.\r\n",
    " - Year: The year in which the data was collected.\r\n",
    " - Unit: The unit of measurement, which is 'tonnes of active ingredients'.\r\n",
    " - Value: The actual value, representing the amount of pesticides used."
   ]
  },
  {
   "cell_type": "markdown",
   "id": "b8cf626b-65cd-48b0-98c5-617fa8669bee",
   "metadata": {},
   "source": [
    "### yield_df\n",
    "The dataset contains 56,717 records and 12 columns."
   ]
  },
  {
   "cell_type": "code",
   "execution_count": 43,
   "id": "1ec260a5-9fdc-4c65-a03c-c75969c5ade6",
   "metadata": {},
   "outputs": [
    {
     "data": {
      "text/markdown": [
       "**Dataframe info:**"
      ],
      "text/plain": [
       "<IPython.core.display.Markdown object>"
      ]
     },
     "metadata": {},
     "output_type": "display_data"
    },
    {
     "name": "stdout",
     "output_type": "stream",
     "text": [
      "<class 'pandas.core.frame.DataFrame'>\n",
      "RangeIndex: 56717 entries, 0 to 56716\n",
      "Data columns (total 12 columns):\n",
      " #   Column        Non-Null Count  Dtype \n",
      "---  ------        --------------  ----- \n",
      " 0   Domain Code   56717 non-null  object\n",
      " 1   Domain        56717 non-null  object\n",
      " 2   Area Code     56717 non-null  int64 \n",
      " 3   Area          56717 non-null  object\n",
      " 4   Element Code  56717 non-null  int64 \n",
      " 5   Element       56717 non-null  object\n",
      " 6   Item Code     56717 non-null  int64 \n",
      " 7   Item          56717 non-null  object\n",
      " 8   Year Code     56717 non-null  int64 \n",
      " 9   Year          56717 non-null  int64 \n",
      " 10  Unit          56717 non-null  object\n",
      " 11  Value         56717 non-null  int64 \n",
      "dtypes: int64(6), object(6)\n",
      "memory usage: 5.2+ MB\n",
      "None\n",
      "\n",
      "\n"
     ]
    },
    {
     "data": {
      "text/markdown": [
       "**Number of unique values per column:**"
      ],
      "text/plain": [
       "<IPython.core.display.Markdown object>"
      ]
     },
     "metadata": {},
     "output_type": "display_data"
    },
    {
     "name": "stdout",
     "output_type": "stream",
     "text": [
      "Domain Code         1\n",
      "Domain              1\n",
      "Area Code         212\n",
      "Area              212\n",
      "Element Code        1\n",
      "Element             1\n",
      "Item Code          10\n",
      "Item               10\n",
      "Year Code          56\n",
      "Year               56\n",
      "Unit                1\n",
      "Value           36815\n",
      "dtype: int64\n",
      "\n",
      "\n"
     ]
    },
    {
     "data": {
      "text/markdown": [
       "**Summary statistics per column:**"
      ],
      "text/plain": [
       "<IPython.core.display.Markdown object>"
      ]
     },
     "metadata": {},
     "output_type": "display_data"
    },
    {
     "name": "stdout",
     "output_type": "stream",
     "text": [
      "       Area Code  Element Code  Item Code  Year Code   Year    Value\n",
      "count      56717         56717      56717      56717  56717    56717\n",
      "mean         126          5419        112       1990   1990    62095\n",
      "std           75             0        101         16     16    67836\n",
      "min            1          5419         15       1961   1961        0\n",
      "25%           58          5419         56       1976   1976    15680\n",
      "50%          122          5419        116       1991   1991    36744\n",
      "75%          184          5419        125       2004   2004    86213\n",
      "max          351          5419        489       2016   2016  1000000\n",
      "\n",
      "\n"
     ]
    },
    {
     "data": {
      "text/markdown": [
       "**Columns with missing values in temp_df:**"
      ],
      "text/plain": [
       "<IPython.core.display.Markdown object>"
      ]
     },
     "metadata": {},
     "output_type": "display_data"
    },
    {
     "name": "stdout",
     "output_type": "stream",
     "text": [
      "Series([], )\n",
      "\n",
      "\n"
     ]
    }
   ],
   "source": [
    "print_info(yield_df, 'yield_df')"
   ]
  },
  {
   "cell_type": "markdown",
   "id": "e0dd4bd7-b33f-4c97-952d-e4673dce0600",
   "metadata": {},
   "source": [
    "### Comments:\n",
    "\n",
    "##### Attributes:\n",
    " - Domain Code, Domain, Element Code, Element, and Unit: These columns contain only 1 unique value and are likely to be redundant for analysis.\r\n",
    " - Area Code and Area: Represent the geographical location with 212 unique areas.\r\n",
    " - Item Code and Item: Indicate the type of crop, with 10 unique crop types.\r\n",
    " - Year Code and Year: Represent the year data was collected, with 56 unique years.\r\n",
    " - Value: Represents crop yield and contains 36,815 unique val\n",
    "\n",
    "##### Notes:\n",
    "\n",
    "The data types are mixed: integer types (Area Code, Element Code, Item Code, Year Code, Year, Value) and object types (Domain Code, Domain, Area, Element, Item, Unit).ues."
   ]
  },
  {
   "cell_type": "markdown",
   "id": "fceef359-13bc-4b6f-a3bc-6eb1ed1043bc",
   "metadata": {},
   "source": [
    "## Clean Data"
   ]
  },
  {
   "cell_type": "markdown",
   "id": "b59dd308-cfd5-461b-b3f9-e914acbc8395",
   "metadata": {},
   "source": [
    "### Rename columns\n",
    "We will rename some columns to be consistent among the dataframes and make later data merges easier"
   ]
  },
  {
   "cell_type": "code",
   "execution_count": 44,
   "id": "73e2a6bc-c9de-4ddd-aeb0-bfd4772068c9",
   "metadata": {},
   "outputs": [],
   "source": [
    "temp_df.rename(columns = {'year':'Year','country':'Country','avg_temp':'Average_Temperature'},inplace = True)\n",
    "rain_df.rename(columns = {' Area':'Country','average_rain_fall_mm_per_year':'Average_Rainfall'},inplace = True)\n",
    "yield_df.rename(columns = {'Area':'Country','Value':'Yield'},inplace = True)\n",
    "pest_df.rename(columns = {'Area':'Country','Value':'Pesticides'},inplace = True)"
   ]
  },
  {
   "cell_type": "markdown",
   "id": "33bbfc14-a0bf-438f-89cc-8d3c3979bcbb",
   "metadata": {},
   "source": [
    "### Subset Dataframes\n",
    "We will subset the dataframes to take only the columns of interest"
   ]
  },
  {
   "cell_type": "code",
   "execution_count": 46,
   "id": "583101df-1458-4926-bfb1-3e3f957d5aad",
   "metadata": {},
   "outputs": [],
   "source": [
    "column_mask_pest = ['Country', 'Year', 'Pesticides']\n",
    "column_mask_yield = ['Country', 'Item', 'Year', 'Yield']\n",
    "\n",
    "pest_df = pest_df[column_mask_pest]\n",
    "yield_df = yield_df[column_mask_yield]"
   ]
  },
  {
   "cell_type": "markdown",
   "id": "7a18b911-d98d-44d5-ab82-d8c76b85a4bf",
   "metadata": {},
   "source": [
    "### Yield\n",
    "The yield dataset contains information on individual crops, for our analysis we will combine these and sum the totals for that country by year."
   ]
  },
  {
   "cell_type": "code",
   "execution_count": 48,
   "id": "188d0016-2584-45dd-ac30-c02e83913eb0",
   "metadata": {},
   "outputs": [
    {
     "data": {
      "text/html": [
       "<div>\n",
       "<style scoped>\n",
       "    .dataframe tbody tr th:only-of-type {\n",
       "        vertical-align: middle;\n",
       "    }\n",
       "\n",
       "    .dataframe tbody tr th {\n",
       "        vertical-align: top;\n",
       "    }\n",
       "\n",
       "    .dataframe thead th {\n",
       "        text-align: right;\n",
       "    }\n",
       "</style>\n",
       "<table border=\"1\" class=\"dataframe\">\n",
       "  <thead>\n",
       "    <tr style=\"text-align: right;\">\n",
       "      <th></th>\n",
       "      <th>Country</th>\n",
       "      <th>Year</th>\n",
       "      <th>Yield</th>\n",
       "    </tr>\n",
       "  </thead>\n",
       "  <tbody>\n",
       "    <tr>\n",
       "      <th>0</th>\n",
       "      <td>Afghanistan</td>\n",
       "      <td>1961</td>\n",
       "      <td>126077</td>\n",
       "    </tr>\n",
       "    <tr>\n",
       "      <th>1</th>\n",
       "      <td>Afghanistan</td>\n",
       "      <td>1962</td>\n",
       "      <td>115592</td>\n",
       "    </tr>\n",
       "    <tr>\n",
       "      <th>2</th>\n",
       "      <td>Afghanistan</td>\n",
       "      <td>1963</td>\n",
       "      <td>119100</td>\n",
       "    </tr>\n",
       "    <tr>\n",
       "      <th>3</th>\n",
       "      <td>Afghanistan</td>\n",
       "      <td>1964</td>\n",
       "      <td>127040</td>\n",
       "    </tr>\n",
       "    <tr>\n",
       "      <th>4</th>\n",
       "      <td>Afghanistan</td>\n",
       "      <td>1965</td>\n",
       "      <td>129396</td>\n",
       "    </tr>\n",
       "    <tr>\n",
       "      <th>...</th>\n",
       "      <td>...</td>\n",
       "      <td>...</td>\n",
       "      <td>...</td>\n",
       "    </tr>\n",
       "    <tr>\n",
       "      <th>10567</th>\n",
       "      <td>Zimbabwe</td>\n",
       "      <td>2012</td>\n",
       "      <td>313366</td>\n",
       "    </tr>\n",
       "    <tr>\n",
       "      <th>10568</th>\n",
       "      <td>Zimbabwe</td>\n",
       "      <td>2013</td>\n",
       "      <td>303062</td>\n",
       "    </tr>\n",
       "    <tr>\n",
       "      <th>10569</th>\n",
       "      <td>Zimbabwe</td>\n",
       "      <td>2014</td>\n",
       "      <td>305570</td>\n",
       "    </tr>\n",
       "    <tr>\n",
       "      <th>10570</th>\n",
       "      <td>Zimbabwe</td>\n",
       "      <td>2015</td>\n",
       "      <td>297742</td>\n",
       "    </tr>\n",
       "    <tr>\n",
       "      <th>10571</th>\n",
       "      <td>Zimbabwe</td>\n",
       "      <td>2016</td>\n",
       "      <td>301464</td>\n",
       "    </tr>\n",
       "  </tbody>\n",
       "</table>\n",
       "<p>10572 rows × 3 columns</p>\n",
       "</div>"
      ],
      "text/plain": [
       "           Country  Year   Yield\n",
       "0      Afghanistan  1961  126077\n",
       "1      Afghanistan  1962  115592\n",
       "2      Afghanistan  1963  119100\n",
       "3      Afghanistan  1964  127040\n",
       "4      Afghanistan  1965  129396\n",
       "...            ...   ...     ...\n",
       "10567     Zimbabwe  2012  313366\n",
       "10568     Zimbabwe  2013  303062\n",
       "10569     Zimbabwe  2014  305570\n",
       "10570     Zimbabwe  2015  297742\n",
       "10571     Zimbabwe  2016  301464\n",
       "\n",
       "[10572 rows x 3 columns]"
      ]
     },
     "execution_count": 48,
     "metadata": {},
     "output_type": "execute_result"
    }
   ],
   "source": [
    "yield_df = yield_df.groupby(['Country','Year'])['Yield'].sum().reset_index()\n",
    "yield_df"
   ]
  },
  {
   "cell_type": "markdown",
   "id": "a58090b7-2bb8-4cef-942c-52310da998b8",
   "metadata": {},
   "source": [
    "### Year ranges"
   ]
  },
  {
   "cell_type": "code",
   "execution_count": 49,
   "id": "60322850-2cbd-49b4-a0ec-293650281a7a",
   "metadata": {},
   "outputs": [
    {
     "name": "stdout",
     "output_type": "stream",
     "text": [
      "Year range in pesticides.csv 1990 - 2016\n"
     ]
    }
   ],
   "source": [
    "print(f\"Year range in pesticides.csv {pest_df['Year'].min()} - {pest_df['Year'].max()}\")"
   ]
  },
  {
   "cell_type": "markdown",
   "id": "fbde80a8-eccb-46eb-9a19-1e4ed3bebcdf",
   "metadata": {},
   "source": [
    "## Data Integrity Findings"
   ]
  },
  {
   "cell_type": "markdown",
   "id": "3d94ba7e-cfad-40fb-896e-afcb920197da",
   "metadata": {},
   "source": [
    "### Missing Values\n",
    "Both the rainfall and temp datasets have missing values, and we will need to explore these datasets further to understand why these data are missing, whether they are missing completely at random, missing at random, or not at random. Is there some pattern or reason that they may be missing? With these types of datasets, given the time frame on the rainfall and temperature datasets, data may not be available due to the time frame; likely, it was never collected or not available that long ago. Also, given that we are looking at data by country, some countries may not report their data. We suspect some values may be missing at random, but we believe it's more likely due to the aforementioned systemically missing values. Let's investigate.  "
   ]
  },
  {
   "cell_type": "markdown",
   "id": "a8ec3d5b-ef41-4579-b3b4-fc51c1f85f1a",
   "metadata": {},
   "source": [
    "#### temp.csv\n",
    "We hypothesize that the missing values might be systematically absent or unavailable for specific time periods. To delve deeper into this, we'll employ the Altair visualization library to plot the frequency of these missing values and identify potential concentrations. Given the extensive range of years in this dataset, we've opted to group them into bins for a clearer visualization. Grouping the data in 10-year intervals strikes a balance between granularity and clarity, enabling us to pinpoint where values may be absent."
   ]
  },
  {
   "cell_type": "code",
   "execution_count": 51,
   "id": "9702a101-e76b-4d92-862f-022d21d26535",
   "metadata": {},
   "outputs": [
    {
     "data": {
      "text/html": [
       "\n",
       "<style>\n",
       "  #altair-viz-fd0485bf932b4da2bd4c7180c5556853.vega-embed {\n",
       "    width: 100%;\n",
       "    display: flex;\n",
       "  }\n",
       "\n",
       "  #altair-viz-fd0485bf932b4da2bd4c7180c5556853.vega-embed details,\n",
       "  #altair-viz-fd0485bf932b4da2bd4c7180c5556853.vega-embed details summary {\n",
       "    position: relative;\n",
       "  }\n",
       "</style>\n",
       "<div id=\"altair-viz-fd0485bf932b4da2bd4c7180c5556853\"></div>\n",
       "<script type=\"text/javascript\">\n",
       "  var VEGA_DEBUG = (typeof VEGA_DEBUG == \"undefined\") ? {} : VEGA_DEBUG;\n",
       "  (function(spec, embedOpt){\n",
       "    let outputDiv = document.currentScript.previousElementSibling;\n",
       "    if (outputDiv.id !== \"altair-viz-fd0485bf932b4da2bd4c7180c5556853\") {\n",
       "      outputDiv = document.getElementById(\"altair-viz-fd0485bf932b4da2bd4c7180c5556853\");\n",
       "    }\n",
       "    const paths = {\n",
       "      \"vega\": \"https://cdn.jsdelivr.net/npm/vega@5?noext\",\n",
       "      \"vega-lib\": \"https://cdn.jsdelivr.net/npm/vega-lib?noext\",\n",
       "      \"vega-lite\": \"https://cdn.jsdelivr.net/npm/vega-lite@5.14.1?noext\",\n",
       "      \"vega-embed\": \"https://cdn.jsdelivr.net/npm/vega-embed@6?noext\",\n",
       "    };\n",
       "\n",
       "    function maybeLoadScript(lib, version) {\n",
       "      var key = `${lib.replace(\"-\", \"\")}_version`;\n",
       "      return (VEGA_DEBUG[key] == version) ?\n",
       "        Promise.resolve(paths[lib]) :\n",
       "        new Promise(function(resolve, reject) {\n",
       "          var s = document.createElement('script');\n",
       "          document.getElementsByTagName(\"head\")[0].appendChild(s);\n",
       "          s.async = true;\n",
       "          s.onload = () => {\n",
       "            VEGA_DEBUG[key] = version;\n",
       "            return resolve(paths[lib]);\n",
       "          };\n",
       "          s.onerror = () => reject(`Error loading script: ${paths[lib]}`);\n",
       "          s.src = paths[lib];\n",
       "        });\n",
       "    }\n",
       "\n",
       "    function showError(err) {\n",
       "      outputDiv.innerHTML = `<div class=\"error\" style=\"color:red;\">${err}</div>`;\n",
       "      throw err;\n",
       "    }\n",
       "\n",
       "    function displayChart(vegaEmbed) {\n",
       "      vegaEmbed(outputDiv, spec, embedOpt)\n",
       "        .catch(err => showError(`Javascript Error: ${err.message}<br>This usually means there's a typo in your chart specification. See the javascript console for the full traceback.`));\n",
       "    }\n",
       "\n",
       "    if(typeof define === \"function\" && define.amd) {\n",
       "      requirejs.config({paths});\n",
       "      require([\"vega-embed\"], displayChart, err => showError(`Error loading script: ${err.message}`));\n",
       "    } else {\n",
       "      maybeLoadScript(\"vega\", \"5\")\n",
       "        .then(() => maybeLoadScript(\"vega-lite\", \"5.14.1\"))\n",
       "        .then(() => maybeLoadScript(\"vega-embed\", \"6\"))\n",
       "        .catch(showError)\n",
       "        .then(() => displayChart(vegaEmbed));\n",
       "    }\n",
       "  })({\"config\": {\"view\": {\"continuousWidth\": 300, \"continuousHeight\": 300}}, \"data\": {\"name\": \"data-523bf91649ac9daed70d1da22108991e\"}, \"mark\": {\"type\": \"bar\"}, \"encoding\": {\"tooltip\": [{\"field\": \"Year_Bin\", \"type\": \"ordinal\"}, {\"field\": \"Missing_Proportion\", \"type\": \"quantitative\"}], \"x\": {\"axis\": {\"labelAngle\": -45}, \"field\": \"Year_Bin\", \"title\": \"Year Bin\", \"type\": \"ordinal\"}, \"y\": {\"field\": \"Missing_Proportion\", \"title\": \"Average Proportion of Missing Values\", \"type\": \"quantitative\"}}, \"height\": 400, \"title\": \"Average Proportion of Missing Values by Year Bin in Temperature Dataset\", \"width\": 600, \"$schema\": \"https://vega.github.io/schema/vega-lite/v5.14.1.json\", \"datasets\": {\"data-523bf91649ac9daed70d1da22108991e\": [{\"Year_Bin\": \"1743-1752\", \"Missing_Proportion\": 0.4151898734177215}, {\"Year_Bin\": \"1753-1762\", \"Missing_Proportion\": 0.017817371937639197}, {\"Year_Bin\": \"1763-1772\", \"Missing_Proportion\": 0.06526315789473684}, {\"Year_Bin\": \"1773-1782\", \"Missing_Proportion\": 0.06389452332657201}, {\"Year_Bin\": \"1783-1792\", \"Missing_Proportion\": 0.07490272373540856}, {\"Year_Bin\": \"1793-1802\", \"Missing_Proportion\": 0.07809983896940419}, {\"Year_Bin\": \"1803-1812\", \"Missing_Proportion\": 0.16406829992576094}, {\"Year_Bin\": \"1813-1822\", \"Missing_Proportion\": 0.03337696335078534}, {\"Year_Bin\": \"1823-1832\", \"Missing_Proportion\": 0.12777777777777777}, {\"Year_Bin\": \"1833-1842\", \"Missing_Proportion\": 0.10324232081911262}, {\"Year_Bin\": \"1843-1852\", \"Missing_Proportion\": 0.08269364968597348}, {\"Year_Bin\": \"1853-1862\", \"Missing_Proportion\": 0.0872321159070329}, {\"Year_Bin\": \"1863-1872\", \"Missing_Proportion\": 0.1444866920152091}, {\"Year_Bin\": \"1873-1882\", \"Missing_Proportion\": 0.02335766423357664}, {\"Year_Bin\": \"1883-1892\", \"Missing_Proportion\": 0.010724637681159421}, {\"Year_Bin\": \"1893-1902\", \"Missing_Proportion\": 0.0}, {\"Year_Bin\": \"1903-1912\", \"Missing_Proportion\": 0.0}, {\"Year_Bin\": \"1913-1922\", \"Missing_Proportion\": 0.0}, {\"Year_Bin\": \"1923-1932\", \"Missing_Proportion\": 0.0}, {\"Year_Bin\": \"1933-1942\", \"Missing_Proportion\": 0.0}, {\"Year_Bin\": \"1943-1952\", \"Missing_Proportion\": 0.0}, {\"Year_Bin\": \"1953-1962\", \"Missing_Proportion\": 0.0}, {\"Year_Bin\": \"1963-1972\", \"Missing_Proportion\": 0.0}, {\"Year_Bin\": \"1973-1982\", \"Missing_Proportion\": 0.0}, {\"Year_Bin\": \"1983-1992\", \"Missing_Proportion\": 0.0}, {\"Year_Bin\": \"1993-2002\", \"Missing_Proportion\": 0.0}, {\"Year_Bin\": \"2003-2012\", \"Missing_Proportion\": 0.0}]}}, {\"mode\": \"vega-lite\"});\n",
       "</script>"
      ],
      "text/plain": [
       "alt.Chart(...)"
      ]
     },
     "execution_count": 51,
     "metadata": {},
     "output_type": "execute_result"
    }
   ],
   "source": [
    "bin_size = 10\n",
    "min_year_temp = temp_df[\"Year\"].min()\n",
    "max_year_temp = temp_df[\"Year\"].max()\n",
    "bins_temp = list(range(int(min_year_temp), int(max_year_temp) + bin_size, bin_size))\n",
    "\n",
    "bin_labels_temp = [f\"{i}-{i + bin_size - 1}\" for i in bins_temp[:-1]]\n",
    "temp_df[\"Year_Bin\"] = pd.cut(temp_df[\"Year\"], bins=bins_temp, labels=bin_labels_temp, right=False)\n",
    "temp_missing_by_bin = temp_df.groupby(\"Year_Bin\", observed=True)[\"Average_Temperature\"].apply(lambda x: x.isnull().mean())\n",
    "\n",
    "temp_missing_df = temp_missing_by_bin.reset_index()\n",
    "temp_missing_df.columns = ['Year_Bin', 'Missing_Proportion']\n",
    "\n",
    "temp_chart = alt.Chart(temp_missing_df).mark_bar().encode(\n",
    "    x=alt.X('Year_Bin:O', title='Year Bin', axis=alt.Axis(labelAngle=-45)),\n",
    "    y=alt.Y('Missing_Proportion:Q', title='Average Proportion of Missing Values'),\n",
    "    tooltip=['Year_Bin', 'Missing_Proportion']\n",
    ").properties(\n",
    "    title='Average Proportion of Missing Values by Year Bin in Temperature Dataset',\n",
    "    width=600,\n",
    "    height=400\n",
    ")\n",
    "\n",
    "temp_chart"
   ]
  },
  {
   "cell_type": "markdown",
   "id": "e072d2f9-e84d-412a-b2e7-0886c2e63207",
   "metadata": {},
   "source": [
    "From this visualization, we can see that most missing values are from about 1900 and earlier. This supports our hypothesis that the missing values are unavailable from an earlier period for some countries and not due to being missing at random or due to data corruption. To further evaluate this, we can check the count of missing values from 1900 onwards. \n",
    "\n",
    "\n",
    "\n",
    "We see that there are no missing temperature values from 1900 onwards. Since our main question related to this project is about pesticide use and it's respective dataset only has data from 2016, we can safely remove these datasets by subsetting the data from 1900 onwards. \n",
    "\n",
    "\n",
    "\n"
   ]
  },
  {
   "cell_type": "code",
   "execution_count": 52,
   "id": "68012864-1b57-4f8a-a15e-0f16f3a15061",
   "metadata": {},
   "outputs": [
    {
     "data": {
      "text/plain": [
       "Year                     0\n",
       "Country                  0\n",
       "Average_Temperature      0\n",
       "Year_Bin               345\n",
       "dtype: int64"
      ]
     },
     "execution_count": 52,
     "metadata": {},
     "output_type": "execute_result"
    }
   ],
   "source": [
    "temp_df[temp_df[\"Year\"] >= 1900].isnull().sum()"
   ]
  },
  {
   "cell_type": "code",
   "execution_count": 53,
   "id": "4a3583c9-6b32-470d-92a2-9d25a64e5749",
   "metadata": {},
   "outputs": [
    {
     "data": {
      "text/html": [
       "<div>\n",
       "<style scoped>\n",
       "    .dataframe tbody tr th:only-of-type {\n",
       "        vertical-align: middle;\n",
       "    }\n",
       "\n",
       "    .dataframe tbody tr th {\n",
       "        vertical-align: top;\n",
       "    }\n",
       "\n",
       "    .dataframe thead th {\n",
       "        text-align: right;\n",
       "    }\n",
       "</style>\n",
       "<table border=\"1\" class=\"dataframe\">\n",
       "  <thead>\n",
       "    <tr style=\"text-align: right;\">\n",
       "      <th></th>\n",
       "      <th>Year</th>\n",
       "      <th>Country</th>\n",
       "      <th>Average_Temperature</th>\n",
       "    </tr>\n",
       "  </thead>\n",
       "  <tbody>\n",
       "    <tr>\n",
       "      <th>51</th>\n",
       "      <td>1900</td>\n",
       "      <td>Côte D'Ivoire</td>\n",
       "      <td>26.12</td>\n",
       "    </tr>\n",
       "    <tr>\n",
       "      <th>52</th>\n",
       "      <td>1901</td>\n",
       "      <td>Côte D'Ivoire</td>\n",
       "      <td>25.92</td>\n",
       "    </tr>\n",
       "    <tr>\n",
       "      <th>53</th>\n",
       "      <td>1902</td>\n",
       "      <td>Côte D'Ivoire</td>\n",
       "      <td>25.59</td>\n",
       "    </tr>\n",
       "    <tr>\n",
       "      <th>54</th>\n",
       "      <td>1903</td>\n",
       "      <td>Côte D'Ivoire</td>\n",
       "      <td>25.48</td>\n",
       "    </tr>\n",
       "    <tr>\n",
       "      <th>55</th>\n",
       "      <td>1904</td>\n",
       "      <td>Côte D'Ivoire</td>\n",
       "      <td>25.24</td>\n",
       "    </tr>\n",
       "    <tr>\n",
       "      <th>...</th>\n",
       "      <td>...</td>\n",
       "      <td>...</td>\n",
       "      <td>...</td>\n",
       "    </tr>\n",
       "    <tr>\n",
       "      <th>71306</th>\n",
       "      <td>2009</td>\n",
       "      <td>Mexico</td>\n",
       "      <td>21.76</td>\n",
       "    </tr>\n",
       "    <tr>\n",
       "      <th>71307</th>\n",
       "      <td>2010</td>\n",
       "      <td>Mexico</td>\n",
       "      <td>20.90</td>\n",
       "    </tr>\n",
       "    <tr>\n",
       "      <th>71308</th>\n",
       "      <td>2011</td>\n",
       "      <td>Mexico</td>\n",
       "      <td>21.55</td>\n",
       "    </tr>\n",
       "    <tr>\n",
       "      <th>71309</th>\n",
       "      <td>2012</td>\n",
       "      <td>Mexico</td>\n",
       "      <td>21.52</td>\n",
       "    </tr>\n",
       "    <tr>\n",
       "      <th>71310</th>\n",
       "      <td>2013</td>\n",
       "      <td>Mexico</td>\n",
       "      <td>22.19</td>\n",
       "    </tr>\n",
       "  </tbody>\n",
       "</table>\n",
       "<p>39330 rows × 3 columns</p>\n",
       "</div>"
      ],
      "text/plain": [
       "       Year        Country  Average_Temperature\n",
       "51     1900  Côte D'Ivoire                26.12\n",
       "52     1901  Côte D'Ivoire                25.92\n",
       "53     1902  Côte D'Ivoire                25.59\n",
       "54     1903  Côte D'Ivoire                25.48\n",
       "55     1904  Côte D'Ivoire                25.24\n",
       "...     ...            ...                  ...\n",
       "71306  2009         Mexico                21.76\n",
       "71307  2010         Mexico                20.90\n",
       "71308  2011         Mexico                21.55\n",
       "71309  2012         Mexico                21.52\n",
       "71310  2013         Mexico                22.19\n",
       "\n",
       "[39330 rows x 3 columns]"
      ]
     },
     "execution_count": 53,
     "metadata": {},
     "output_type": "execute_result"
    }
   ],
   "source": [
    "temp_df_cleaned = temp_df[temp_df[\"Year\"] >= 1900].copy()\n",
    "temp_df_cleaned = temp_df_cleaned.drop(columns=['Year_Bin'])\n",
    "temp_df_cleaned"
   ]
  },
  {
   "cell_type": "markdown",
   "id": "be110c91-7afc-491a-9189-028d4aa31e3b",
   "metadata": {},
   "source": [
    "#### rain_df\n",
    "Let's do a similar analysis for the rainfall dataset. We also suspect that there may be missing values from earlier periods. "
   ]
  },
  {
   "cell_type": "code",
   "execution_count": 54,
   "id": "622f0169-270f-4aea-a081-8860fc07603e",
   "metadata": {},
   "outputs": [
    {
     "data": {
      "text/html": [
       "\n",
       "<style>\n",
       "  #altair-viz-32c7400f0cd14749a88ec653c78d23bc.vega-embed {\n",
       "    width: 100%;\n",
       "    display: flex;\n",
       "  }\n",
       "\n",
       "  #altair-viz-32c7400f0cd14749a88ec653c78d23bc.vega-embed details,\n",
       "  #altair-viz-32c7400f0cd14749a88ec653c78d23bc.vega-embed details summary {\n",
       "    position: relative;\n",
       "  }\n",
       "</style>\n",
       "<div id=\"altair-viz-32c7400f0cd14749a88ec653c78d23bc\"></div>\n",
       "<script type=\"text/javascript\">\n",
       "  var VEGA_DEBUG = (typeof VEGA_DEBUG == \"undefined\") ? {} : VEGA_DEBUG;\n",
       "  (function(spec, embedOpt){\n",
       "    let outputDiv = document.currentScript.previousElementSibling;\n",
       "    if (outputDiv.id !== \"altair-viz-32c7400f0cd14749a88ec653c78d23bc\") {\n",
       "      outputDiv = document.getElementById(\"altair-viz-32c7400f0cd14749a88ec653c78d23bc\");\n",
       "    }\n",
       "    const paths = {\n",
       "      \"vega\": \"https://cdn.jsdelivr.net/npm/vega@5?noext\",\n",
       "      \"vega-lib\": \"https://cdn.jsdelivr.net/npm/vega-lib?noext\",\n",
       "      \"vega-lite\": \"https://cdn.jsdelivr.net/npm/vega-lite@5.14.1?noext\",\n",
       "      \"vega-embed\": \"https://cdn.jsdelivr.net/npm/vega-embed@6?noext\",\n",
       "    };\n",
       "\n",
       "    function maybeLoadScript(lib, version) {\n",
       "      var key = `${lib.replace(\"-\", \"\")}_version`;\n",
       "      return (VEGA_DEBUG[key] == version) ?\n",
       "        Promise.resolve(paths[lib]) :\n",
       "        new Promise(function(resolve, reject) {\n",
       "          var s = document.createElement('script');\n",
       "          document.getElementsByTagName(\"head\")[0].appendChild(s);\n",
       "          s.async = true;\n",
       "          s.onload = () => {\n",
       "            VEGA_DEBUG[key] = version;\n",
       "            return resolve(paths[lib]);\n",
       "          };\n",
       "          s.onerror = () => reject(`Error loading script: ${paths[lib]}`);\n",
       "          s.src = paths[lib];\n",
       "        });\n",
       "    }\n",
       "\n",
       "    function showError(err) {\n",
       "      outputDiv.innerHTML = `<div class=\"error\" style=\"color:red;\">${err}</div>`;\n",
       "      throw err;\n",
       "    }\n",
       "\n",
       "    function displayChart(vegaEmbed) {\n",
       "      vegaEmbed(outputDiv, spec, embedOpt)\n",
       "        .catch(err => showError(`Javascript Error: ${err.message}<br>This usually means there's a typo in your chart specification. See the javascript console for the full traceback.`));\n",
       "    }\n",
       "\n",
       "    if(typeof define === \"function\" && define.amd) {\n",
       "      requirejs.config({paths});\n",
       "      require([\"vega-embed\"], displayChart, err => showError(`Error loading script: ${err.message}`));\n",
       "    } else {\n",
       "      maybeLoadScript(\"vega\", \"5\")\n",
       "        .then(() => maybeLoadScript(\"vega-lite\", \"5.14.1\"))\n",
       "        .then(() => maybeLoadScript(\"vega-embed\", \"6\"))\n",
       "        .catch(showError)\n",
       "        .then(() => displayChart(vegaEmbed));\n",
       "    }\n",
       "  })({\"config\": {\"view\": {\"continuousWidth\": 300, \"continuousHeight\": 300}}, \"data\": {\"name\": \"data-d1e2114fbe89d70cda8679df16f36cf5\"}, \"mark\": {\"type\": \"bar\"}, \"encoding\": {\"tooltip\": [{\"field\": \"Year\", \"type\": \"quantitative\"}, {\"field\": \"Missing_Proportion\", \"type\": \"quantitative\"}], \"x\": {\"axis\": {\"labelAngle\": -45}, \"field\": \"Year\", \"title\": \"Year\", \"type\": \"ordinal\"}, \"y\": {\"field\": \"Missing_Proportion\", \"title\": \"Average Proportion of Missing Values\", \"type\": \"quantitative\"}}, \"height\": 400, \"title\": \"Average Proportion of Missing Values by Year in Rainfall Dataset\", \"width\": 600, \"$schema\": \"https://vega.github.io/schema/vega-lite/v5.14.1.json\", \"datasets\": {\"data-d1e2114fbe89d70cda8679df16f36cf5\": [{\"Year\": 1985, \"Missing_Proportion\": 0.11059907834101383}, {\"Year\": 1986, \"Missing_Proportion\": 0.1152073732718894}, {\"Year\": 1987, \"Missing_Proportion\": 0.1152073732718894}, {\"Year\": 1989, \"Missing_Proportion\": 0.1152073732718894}, {\"Year\": 1990, \"Missing_Proportion\": 0.1152073732718894}, {\"Year\": 1991, \"Missing_Proportion\": 0.1152073732718894}, {\"Year\": 1992, \"Missing_Proportion\": 0.1152073732718894}, {\"Year\": 1993, \"Missing_Proportion\": 0.1152073732718894}, {\"Year\": 1994, \"Missing_Proportion\": 0.1152073732718894}, {\"Year\": 1995, \"Missing_Proportion\": 0.1152073732718894}, {\"Year\": 1996, \"Missing_Proportion\": 0.1152073732718894}, {\"Year\": 1997, \"Missing_Proportion\": 0.1152073732718894}, {\"Year\": 1998, \"Missing_Proportion\": 0.1152073732718894}, {\"Year\": 1999, \"Missing_Proportion\": 0.1152073732718894}, {\"Year\": 2000, \"Missing_Proportion\": 0.1152073732718894}, {\"Year\": 2001, \"Missing_Proportion\": 0.1152073732718894}, {\"Year\": 2002, \"Missing_Proportion\": 0.1152073732718894}, {\"Year\": 2004, \"Missing_Proportion\": 0.1152073732718894}, {\"Year\": 2005, \"Missing_Proportion\": 0.1152073732718894}, {\"Year\": 2006, \"Missing_Proportion\": 0.1152073732718894}, {\"Year\": 2007, \"Missing_Proportion\": 0.1152073732718894}, {\"Year\": 2008, \"Missing_Proportion\": 0.1152073732718894}, {\"Year\": 2009, \"Missing_Proportion\": 0.1152073732718894}, {\"Year\": 2010, \"Missing_Proportion\": 0.1152073732718894}, {\"Year\": 2011, \"Missing_Proportion\": 0.1152073732718894}, {\"Year\": 2012, \"Missing_Proportion\": 0.1152073732718894}, {\"Year\": 2013, \"Missing_Proportion\": 0.1152073732718894}, {\"Year\": 2014, \"Missing_Proportion\": 0.1152073732718894}, {\"Year\": 2015, \"Missing_Proportion\": 0.1152073732718894}, {\"Year\": 2016, \"Missing_Proportion\": 0.1152073732718894}, {\"Year\": 2017, \"Missing_Proportion\": 0.1152073732718894}]}}, {\"mode\": \"vega-lite\"});\n",
       "</script>"
      ],
      "text/plain": [
       "alt.Chart(...)"
      ]
     },
     "execution_count": 54,
     "metadata": {},
     "output_type": "execute_result"
    }
   ],
   "source": [
    "bin_size = 5\n",
    "min_year_rainfall = rain_df[\"Year\"].min()\n",
    "max_year_rainfall = rain_df[\"Year\"].max()\n",
    "bins_rainfall = list(range(int(min_year_rainfall), int(max_year_rainfall) + bin_size, bin_size))\n",
    "bin_labels_rainfall = [f\"{i}-{i + bin_size - 1}\" for i in bins_rainfall[:-1]]\n",
    "\n",
    "rain_df[\"Year_Bin\"] = pd.cut(rain_df[\"Year\"], bins=bins_rainfall, labels=bin_labels_rainfall, right=False)\n",
    "rainfall_missing_by_bin = rain_df.groupby(\"Year_Bin\")[\"Average_Rainfall\"].apply(lambda x: x.isnull().mean())\n",
    "\n",
    "rainfall_missing_by_year = rain_df.groupby(\"Year\")[\"Average_Rainfall\"].apply(lambda x: x.isnull().mean()).reset_index()\n",
    "rainfall_missing_by_year.columns = ['Year', 'Missing_Proportion']\n",
    "\n",
    "rainfall_chart = alt.Chart(rainfall_missing_by_year).mark_bar().encode(\n",
    "    x=alt.X('Year:O', title='Year', axis=alt.Axis(labelAngle=-45)),\n",
    "    y=alt.Y('Missing_Proportion:Q', title='Average Proportion of Missing Values'),\n",
    "    tooltip=['Year', 'Missing_Proportion']\n",
    ").properties(\n",
    "    title='Average Proportion of Missing Values by Year in Rainfall Dataset',\n",
    "    width=600,\n",
    "    height=400\n",
    ")\n",
    "\n",
    "rainfall_chart "
   ]
  },
  {
   "cell_type": "markdown",
   "id": "1bd1745c-1912-4bc9-8043-d45fe960eb09",
   "metadata": {},
   "source": [
    "We can see that the missing values are almost perfectly distributed among all the years, suggesting that they may just be missing at random rather than unavailable or due to some other pattern. However, we should do a similar analysis grouping by country to see if values are missing for specific countries. "
   ]
  },
  {
   "cell_type": "code",
   "execution_count": 55,
   "id": "da8fc44f-7497-46d2-8949-bbed9856131b",
   "metadata": {},
   "outputs": [
    {
     "data": {
      "text/html": [
       "<div>\n",
       "<style scoped>\n",
       "    .dataframe tbody tr th:only-of-type {\n",
       "        vertical-align: middle;\n",
       "    }\n",
       "\n",
       "    .dataframe tbody tr th {\n",
       "        vertical-align: top;\n",
       "    }\n",
       "\n",
       "    .dataframe thead th {\n",
       "        text-align: right;\n",
       "    }\n",
       "</style>\n",
       "<table border=\"1\" class=\"dataframe\">\n",
       "  <thead>\n",
       "    <tr style=\"text-align: right;\">\n",
       "      <th></th>\n",
       "      <th>Country</th>\n",
       "      <th>Missing_Count</th>\n",
       "    </tr>\n",
       "  </thead>\n",
       "  <tbody>\n",
       "    <tr>\n",
       "      <th>0</th>\n",
       "      <td>Afghanistan</td>\n",
       "      <td>0</td>\n",
       "    </tr>\n",
       "    <tr>\n",
       "      <th>1</th>\n",
       "      <td>Albania</td>\n",
       "      <td>0</td>\n",
       "    </tr>\n",
       "    <tr>\n",
       "      <th>2</th>\n",
       "      <td>Algeria</td>\n",
       "      <td>0</td>\n",
       "    </tr>\n",
       "    <tr>\n",
       "      <th>3</th>\n",
       "      <td>American Samoa</td>\n",
       "      <td>31</td>\n",
       "    </tr>\n",
       "    <tr>\n",
       "      <th>4</th>\n",
       "      <td>Andorra</td>\n",
       "      <td>0</td>\n",
       "    </tr>\n",
       "    <tr>\n",
       "      <th>...</th>\n",
       "      <td>...</td>\n",
       "      <td>...</td>\n",
       "    </tr>\n",
       "    <tr>\n",
       "      <th>212</th>\n",
       "      <td>Virgin Islands (U.S.)</td>\n",
       "      <td>31</td>\n",
       "    </tr>\n",
       "    <tr>\n",
       "      <th>213</th>\n",
       "      <td>West Bank and Gaza</td>\n",
       "      <td>0</td>\n",
       "    </tr>\n",
       "    <tr>\n",
       "      <th>214</th>\n",
       "      <td>Yemen</td>\n",
       "      <td>0</td>\n",
       "    </tr>\n",
       "    <tr>\n",
       "      <th>215</th>\n",
       "      <td>Zambia</td>\n",
       "      <td>0</td>\n",
       "    </tr>\n",
       "    <tr>\n",
       "      <th>216</th>\n",
       "      <td>Zimbabwe</td>\n",
       "      <td>0</td>\n",
       "    </tr>\n",
       "  </tbody>\n",
       "</table>\n",
       "<p>217 rows × 2 columns</p>\n",
       "</div>"
      ],
      "text/plain": [
       "                   Country  Missing_Count\n",
       "0              Afghanistan              0\n",
       "1                  Albania              0\n",
       "2                  Algeria              0\n",
       "3           American Samoa             31\n",
       "4                  Andorra              0\n",
       "..                     ...            ...\n",
       "212  Virgin Islands (U.S.)             31\n",
       "213     West Bank and Gaza              0\n",
       "214                  Yemen              0\n",
       "215                 Zambia              0\n",
       "216               Zimbabwe              0\n",
       "\n",
       "[217 rows x 2 columns]"
      ]
     },
     "execution_count": 55,
     "metadata": {},
     "output_type": "execute_result"
    }
   ],
   "source": [
    "rainfall_missing_by_country = rain_df.groupby('Country')['Average_Rainfall'].apply(lambda x: x.isnull().sum()).reset_index()\n",
    "rainfall_missing_by_country.columns = ['Country', 'Missing_Count']\n",
    "rainfall_missing_by_country"
   ]
  },
  {
   "cell_type": "markdown",
   "id": "6f693444-3628-4359-a5ab-6ae602f12acf",
   "metadata": {},
   "source": [
    "Based on this, only a few countries may be missing values. Let's analyze this to see which ones might be the culprits here. The value of 31"
   ]
  },
  {
   "cell_type": "code",
   "execution_count": 56,
   "id": "a2eb9981-6bad-45e2-abe0-d01358e710ee",
   "metadata": {},
   "outputs": [
    {
     "data": {
      "text/plain": [
       "array(['American Samoa', 'Aruba', 'Bermuda', 'British Virgin Islands',\n",
       "       'Cayman Islands', 'Channel Islands', 'Curacao', 'Faroe Islands',\n",
       "       'French Polynesia', 'Gibraltar', 'Greenland', 'Guam',\n",
       "       'Hong Kong SAR, China', 'Isle of Man', 'Kosovo',\n",
       "       'Macao SAR, China', 'Monaco', 'New Caledonia',\n",
       "       'Northern Mariana Islands', 'San Marino',\n",
       "       'Sint Maarten (Dutch part)', 'St. Martin (French part)', 'Tonga',\n",
       "       'Turks and Caicos Islands', 'Virgin Islands (U.S.)'], dtype=object)"
      ]
     },
     "execution_count": 56,
     "metadata": {},
     "output_type": "execute_result"
    }
   ],
   "source": [
    "rain_df[rain_df[\"Average_Rainfall\"].isnull()][\"Country\"].unique()"
   ]
  },
  {
   "cell_type": "markdown",
   "id": "615968ff-7519-4cec-bf37-53a174630a7b",
   "metadata": {},
   "source": [
    "Okay, we can see that only certain countries are missing values, which is interesting. Let's see what this looks like if we graph it."
   ]
  },
  {
   "cell_type": "code",
   "execution_count": 57,
   "id": "836a76d7-b494-4574-8966-3feea1f1d385",
   "metadata": {},
   "outputs": [
    {
     "data": {
      "text/html": [
       "\n",
       "<style>\n",
       "  #altair-viz-040089bc04ce48e1bea22dd41d4790af.vega-embed {\n",
       "    width: 100%;\n",
       "    display: flex;\n",
       "  }\n",
       "\n",
       "  #altair-viz-040089bc04ce48e1bea22dd41d4790af.vega-embed details,\n",
       "  #altair-viz-040089bc04ce48e1bea22dd41d4790af.vega-embed details summary {\n",
       "    position: relative;\n",
       "  }\n",
       "</style>\n",
       "<div id=\"altair-viz-040089bc04ce48e1bea22dd41d4790af\"></div>\n",
       "<script type=\"text/javascript\">\n",
       "  var VEGA_DEBUG = (typeof VEGA_DEBUG == \"undefined\") ? {} : VEGA_DEBUG;\n",
       "  (function(spec, embedOpt){\n",
       "    let outputDiv = document.currentScript.previousElementSibling;\n",
       "    if (outputDiv.id !== \"altair-viz-040089bc04ce48e1bea22dd41d4790af\") {\n",
       "      outputDiv = document.getElementById(\"altair-viz-040089bc04ce48e1bea22dd41d4790af\");\n",
       "    }\n",
       "    const paths = {\n",
       "      \"vega\": \"https://cdn.jsdelivr.net/npm/vega@5?noext\",\n",
       "      \"vega-lib\": \"https://cdn.jsdelivr.net/npm/vega-lib?noext\",\n",
       "      \"vega-lite\": \"https://cdn.jsdelivr.net/npm/vega-lite@5.14.1?noext\",\n",
       "      \"vega-embed\": \"https://cdn.jsdelivr.net/npm/vega-embed@6?noext\",\n",
       "    };\n",
       "\n",
       "    function maybeLoadScript(lib, version) {\n",
       "      var key = `${lib.replace(\"-\", \"\")}_version`;\n",
       "      return (VEGA_DEBUG[key] == version) ?\n",
       "        Promise.resolve(paths[lib]) :\n",
       "        new Promise(function(resolve, reject) {\n",
       "          var s = document.createElement('script');\n",
       "          document.getElementsByTagName(\"head\")[0].appendChild(s);\n",
       "          s.async = true;\n",
       "          s.onload = () => {\n",
       "            VEGA_DEBUG[key] = version;\n",
       "            return resolve(paths[lib]);\n",
       "          };\n",
       "          s.onerror = () => reject(`Error loading script: ${paths[lib]}`);\n",
       "          s.src = paths[lib];\n",
       "        });\n",
       "    }\n",
       "\n",
       "    function showError(err) {\n",
       "      outputDiv.innerHTML = `<div class=\"error\" style=\"color:red;\">${err}</div>`;\n",
       "      throw err;\n",
       "    }\n",
       "\n",
       "    function displayChart(vegaEmbed) {\n",
       "      vegaEmbed(outputDiv, spec, embedOpt)\n",
       "        .catch(err => showError(`Javascript Error: ${err.message}<br>This usually means there's a typo in your chart specification. See the javascript console for the full traceback.`));\n",
       "    }\n",
       "\n",
       "    if(typeof define === \"function\" && define.amd) {\n",
       "      requirejs.config({paths});\n",
       "      require([\"vega-embed\"], displayChart, err => showError(`Error loading script: ${err.message}`));\n",
       "    } else {\n",
       "      maybeLoadScript(\"vega\", \"5\")\n",
       "        .then(() => maybeLoadScript(\"vega-lite\", \"5.14.1\"))\n",
       "        .then(() => maybeLoadScript(\"vega-embed\", \"6\"))\n",
       "        .catch(showError)\n",
       "        .then(() => displayChart(vegaEmbed));\n",
       "    }\n",
       "  })({\"config\": {\"view\": {\"continuousWidth\": 300, \"continuousHeight\": 300}}, \"data\": {\"name\": \"data-fd51481d366e69126edc1e13dc976ba7\"}, \"mark\": {\"type\": \"bar\"}, \"encoding\": {\"tooltip\": [{\"field\": \"Country\", \"type\": \"nominal\"}, {\"field\": \"Missing_Count\", \"type\": \"quantitative\"}], \"x\": {\"axis\": {\"labelAngle\": -45}, \"field\": \"Country\", \"title\": \"Country\", \"type\": \"ordinal\"}, \"y\": {\"field\": \"Missing_Count\", \"title\": \"Average Proportion of Missing Values\", \"type\": \"quantitative\"}}, \"height\": 400, \"title\": \"Number of Missing Values by Country in Rainfall Dataset\", \"width\": 600, \"$schema\": \"https://vega.github.io/schema/vega-lite/v5.14.1.json\", \"datasets\": {\"data-fd51481d366e69126edc1e13dc976ba7\": [{\"Country\": \"American Samoa\", \"Missing_Count\": 31}, {\"Country\": \"Aruba\", \"Missing_Count\": 31}, {\"Country\": \"Bermuda\", \"Missing_Count\": 31}, {\"Country\": \"British Virgin Islands\", \"Missing_Count\": 31}, {\"Country\": \"Cayman Islands\", \"Missing_Count\": 31}, {\"Country\": \"Channel Islands\", \"Missing_Count\": 31}, {\"Country\": \"Curacao\", \"Missing_Count\": 31}, {\"Country\": \"Faroe Islands\", \"Missing_Count\": 31}, {\"Country\": \"French Polynesia\", \"Missing_Count\": 31}, {\"Country\": \"Gibraltar\", \"Missing_Count\": 31}, {\"Country\": \"Greenland\", \"Missing_Count\": 31}, {\"Country\": \"Guam\", \"Missing_Count\": 31}, {\"Country\": \"Hong Kong SAR, China\", \"Missing_Count\": 31}, {\"Country\": \"Isle of Man\", \"Missing_Count\": 31}, {\"Country\": \"Kosovo\", \"Missing_Count\": 31}, {\"Country\": \"Macao SAR, China\", \"Missing_Count\": 31}, {\"Country\": \"Monaco\", \"Missing_Count\": 30}, {\"Country\": \"New Caledonia\", \"Missing_Count\": 31}, {\"Country\": \"Northern Mariana Islands\", \"Missing_Count\": 31}, {\"Country\": \"San Marino\", \"Missing_Count\": 31}, {\"Country\": \"Sint Maarten (Dutch part)\", \"Missing_Count\": 31}, {\"Country\": \"St. Martin (French part)\", \"Missing_Count\": 31}, {\"Country\": \"Tonga\", \"Missing_Count\": 31}, {\"Country\": \"Turks and Caicos Islands\", \"Missing_Count\": 31}, {\"Country\": \"Virgin Islands (U.S.)\", \"Missing_Count\": 31}]}}, {\"mode\": \"vega-lite\"});\n",
       "</script>"
      ],
      "text/plain": [
       "alt.Chart(...)"
      ]
     },
     "execution_count": 57,
     "metadata": {},
     "output_type": "execute_result"
    }
   ],
   "source": [
    "rainfall_missing_by_country = rainfall_missing_by_country[rainfall_missing_by_country[\"Missing_Count\"] > 0]\n",
    "\n",
    "rainfall_country_chart = alt.Chart(rainfall_missing_by_country).mark_bar().encode(\n",
    "    x=alt.X('Country:O', title='Country', axis=alt.Axis(labelAngle=-45)),\n",
    "    y=alt.Y('Missing_Count:Q', title='Average Proportion of Missing Values'),\n",
    "    tooltip=['Country', 'Missing_Count']\n",
    ").properties(\n",
    "    title='Number of Missing Values by Country in Rainfall Dataset',\n",
    "    width=600,\n",
    "    height=400\n",
    ")\n",
    "\n",
    "rainfall_country_chart"
   ]
  },
  {
   "cell_type": "markdown",
   "id": "f47d13d1-088b-4994-9037-7fef8c74b00f",
   "metadata": {},
   "source": [
    "This shows that the countries missing values all have 31 missing values. "
   ]
  },
  {
   "cell_type": "code",
   "execution_count": 58,
   "id": "1f0ac4a8-eaee-465d-869c-da668bcb18a6",
   "metadata": {},
   "outputs": [
    {
     "data": {
      "text/plain": [
       "Country             217\n",
       "Year                 31\n",
       "Average_Rainfall    173\n",
       "Year_Bin              7\n",
       "dtype: int64"
      ]
     },
     "execution_count": 58,
     "metadata": {},
     "output_type": "execute_result"
    }
   ],
   "source": [
    "rain_df.nunique()"
   ]
  },
  {
   "cell_type": "markdown",
   "id": "d0b4f570-16e7-4361-a88e-710c4d78e465",
   "metadata": {},
   "source": [
    "There are only 31 unique values for the year column, so it seem that the missing values are concentrated in the list of countries from above and there are no values for these countries. We could try and supplement our dataset with another dataset that has these values, but is this necessary?"
   ]
  },
  {
   "cell_type": "code",
   "execution_count": 59,
   "id": "706e9b88-b579-48a3-b634-7c3cbbd50617",
   "metadata": {},
   "outputs": [
    {
     "data": {
      "text/plain": [
       "count    108\n",
       "mean      59\n",
       "std       58\n",
       "min        9\n",
       "25%       15\n",
       "50%       28\n",
       "75%       73\n",
       "max      160\n",
       "Name: Pesticides, dtype: int32"
      ]
     },
     "execution_count": 59,
     "metadata": {},
     "output_type": "execute_result"
    }
   ],
   "source": [
    "countries_with_missing_rainfall = rain_df[rain_df[\"Average_Rainfall\"].isnull()][\"Country\"].unique()\n",
    "subset_pest_df = pest_df[pest_df[\"Country\"].isin(countries_with_missing_rainfall)]\n",
    "subset_pest_df.describe()['Pesticides'].round(0).astype(int)"
   ]
  },
  {
   "cell_type": "code",
   "execution_count": 60,
   "id": "7c6416cf-7a69-4b06-b3d7-d9837097a293",
   "metadata": {},
   "outputs": [
    {
     "data": {
      "text/plain": [
       "count       4349\n",
       "mean       20303\n",
       "std       117736\n",
       "min            0\n",
       "25%           93\n",
       "50%         1138\n",
       "75%         7869\n",
       "max      1807000\n",
       "Name: Pesticides, dtype: int32"
      ]
     },
     "execution_count": 60,
     "metadata": {},
     "output_type": "execute_result"
    }
   ],
   "source": [
    "pest_df.describe()['Pesticides'].round(0).astype(int)"
   ]
  },
  {
   "cell_type": "markdown",
   "id": "fac5f332-f748-4796-8b93-3de8a3f89466",
   "metadata": {},
   "source": [
    "We can see that these countries have very low amounts of pesticide use compared to the rest of the countries, suggesting that they may not be useful for our analysis. We decided to remove these rows from the dataset."
   ]
  },
  {
   "cell_type": "code",
   "execution_count": 61,
   "id": "8f307ca9-92c7-4822-848e-e7ab9232a16c",
   "metadata": {},
   "outputs": [
    {
     "data": {
      "text/plain": [
       "Country             0\n",
       "Year                0\n",
       "Average_Rainfall    0\n",
       "dtype: int64"
      ]
     },
     "execution_count": 61,
     "metadata": {},
     "output_type": "execute_result"
    }
   ],
   "source": [
    "rain_df_cleaned = rain_df[~rain_df[\"Country\"].isin(countries_with_missing_rainfall)]\n",
    "rain_df_cleaned = rain_df_cleaned.drop(columns=['Year_Bin'])\n",
    "rain_df_cleaned.isnull().sum()"
   ]
  },
  {
   "cell_type": "markdown",
   "id": "d74deb82-df18-4b6d-8896-d8158699a38d",
   "metadata": {},
   "source": [
    "We can see now that there are no missing values remaining in the rainfall dataset. \n",
    "\n",
    "Now, let's revisit our 4 datasets and check that we have addressed missing values."
   ]
  },
  {
   "cell_type": "code",
   "execution_count": 63,
   "id": "31692d14-1afe-42fb-a29d-ada9d3a42889",
   "metadata": {},
   "outputs": [
    {
     "name": "stdout",
     "output_type": "stream",
     "text": [
      "Missing values in temp_df: 0\n",
      "Missing values in rain_df: 0\n",
      "Missing values in pest_df: 0\n",
      "Missing values in yield_df: 0\n"
     ]
    }
   ],
   "source": [
    "print(\"Missing values in temp_df:\", temp_df_cleaned.isna().sum().sum())\n",
    "print(\"Missing values in rain_df:\", rain_df_cleaned.isna().sum().sum())\n",
    "print(\"Missing values in pest_df:\", pest_df.isna().sum().sum())\n",
    "print(\"Missing values in yield_df:\", yield_df.isna().sum().sum())"
   ]
  },
  {
   "cell_type": "markdown",
   "id": "ccc40ee3-cbfa-4b63-91ba-a21e1f744afb",
   "metadata": {},
   "source": [
    "Great! We no longer have any missing values in any of the four datasets. Let's move on to data integrity, types,"
   ]
  },
  {
   "cell_type": "markdown",
   "id": "010f2eae-6381-4539-bef7-2d93fbb3d93e",
   "metadata": {},
   "source": [
    "#### Data Integrity"
   ]
  },
  {
   "cell_type": "code",
   "execution_count": 65,
   "id": "3bb8e069-a9d2-40cd-bd6c-a51fbba78cb6",
   "metadata": {},
   "outputs": [
    {
     "data": {
      "text/plain": [
       "Country               object\n",
       "Year                   int64\n",
       "Average_Rainfall      object\n",
       "Year_Bin            category\n",
       "dtype: object"
      ]
     },
     "execution_count": 65,
     "metadata": {},
     "output_type": "execute_result"
    }
   ],
   "source": [
    "rain_df.dtypes"
   ]
  },
  {
   "cell_type": "markdown",
   "id": "e58596b3-bb31-42b9-a130-ec7442dfeb68",
   "metadata": {},
   "source": [
    "The Average_Rainfall column is cast as object, which suggests that it may be in string format, but attempting to cast as a float using `rain_df['Average_Rainfall'].astype(float)`, causes an error that it could not convert string to float: `..`\n",
    "\n",
    "Let's explore this to see what's going on."
   ]
  },
  {
   "cell_type": "code",
   "execution_count": 66,
   "id": "5b97026a-79af-4c5f-808d-5648e3e8102c",
   "metadata": {},
   "outputs": [
    {
     "data": {
      "text/plain": [
       "Average_Rainfall\n",
       "nan    774\n",
       "..       6\n",
       "Name: count, dtype: int64"
      ]
     },
     "execution_count": 66,
     "metadata": {},
     "output_type": "execute_result"
    }
   ],
   "source": [
    "rain_df['Average_Rainfall'] = rain_df['Average_Rainfall'].astype(str)\n",
    "non_numeric_rain = rain_df[~rain_df['Average_Rainfall'].str.isnumeric()]\n",
    "non_numeric_rain['Average_Rainfall'].value_counts()"
   ]
  },
  {
   "cell_type": "code",
   "execution_count": 67,
   "id": "a6941023-c00e-478e-976d-07ba456267cc",
   "metadata": {},
   "outputs": [
    {
     "data": {
      "text/html": [
       "<div>\n",
       "<style scoped>\n",
       "    .dataframe tbody tr th:only-of-type {\n",
       "        vertical-align: middle;\n",
       "    }\n",
       "\n",
       "    .dataframe tbody tr th {\n",
       "        vertical-align: top;\n",
       "    }\n",
       "\n",
       "    .dataframe thead th {\n",
       "        text-align: right;\n",
       "    }\n",
       "</style>\n",
       "<table border=\"1\" class=\"dataframe\">\n",
       "  <thead>\n",
       "    <tr style=\"text-align: right;\">\n",
       "      <th></th>\n",
       "      <th>Country</th>\n",
       "      <th>Year</th>\n",
       "      <th>Average_Rainfall</th>\n",
       "      <th>Year_Bin</th>\n",
       "    </tr>\n",
       "  </thead>\n",
       "  <tbody>\n",
       "    <tr>\n",
       "      <th>403</th>\n",
       "      <td>Bahamas</td>\n",
       "      <td>1985</td>\n",
       "      <td>..</td>\n",
       "      <td>1985-1989</td>\n",
       "    </tr>\n",
       "    <tr>\n",
       "      <th>404</th>\n",
       "      <td>Bahamas</td>\n",
       "      <td>1986</td>\n",
       "      <td>..</td>\n",
       "      <td>1985-1989</td>\n",
       "    </tr>\n",
       "    <tr>\n",
       "      <th>406</th>\n",
       "      <td>Bahamas</td>\n",
       "      <td>1989</td>\n",
       "      <td>..</td>\n",
       "      <td>1985-1989</td>\n",
       "    </tr>\n",
       "    <tr>\n",
       "      <th>407</th>\n",
       "      <td>Bahamas</td>\n",
       "      <td>1990</td>\n",
       "      <td>..</td>\n",
       "      <td>1990-1994</td>\n",
       "    </tr>\n",
       "    <tr>\n",
       "      <th>408</th>\n",
       "      <td>Bahamas</td>\n",
       "      <td>1991</td>\n",
       "      <td>..</td>\n",
       "      <td>1990-1994</td>\n",
       "    </tr>\n",
       "    <tr>\n",
       "      <th>4061</th>\n",
       "      <td>Monaco</td>\n",
       "      <td>1985</td>\n",
       "      <td>..</td>\n",
       "      <td>1985-1989</td>\n",
       "    </tr>\n",
       "  </tbody>\n",
       "</table>\n",
       "</div>"
      ],
      "text/plain": [
       "      Country  Year Average_Rainfall   Year_Bin\n",
       "403   Bahamas  1985               ..  1985-1989\n",
       "404   Bahamas  1986               ..  1985-1989\n",
       "406   Bahamas  1989               ..  1985-1989\n",
       "407   Bahamas  1990               ..  1990-1994\n",
       "408   Bahamas  1991               ..  1990-1994\n",
       "4061   Monaco  1985               ..  1985-1989"
      ]
     },
     "execution_count": 67,
     "metadata": {},
     "output_type": "execute_result"
    }
   ],
   "source": [
    "rain_df[rain_df['Average_Rainfall'] == '..']"
   ]
  },
  {
   "cell_type": "markdown",
   "id": "e9fe85f3-2f12-4498-a143-2727ef14cebf",
   "metadata": {},
   "source": [
    "Since these Countries already have values in the other rows, we can just impute these values with those values. The rainfall dataset has only 217 unique values for the amount of rainfall and on closer inspection it appears that rainfall is the same value each year for each country. This makes it easy to impute the value, but it complicates part of our analysis since this dataset won't give us any information or insight into how yields may have changed over time with respect to changes in rainfall. Although, we can still see if there may be some degree of correlation between amount of rainfall and yield."
   ]
  },
  {
   "cell_type": "markdown",
   "id": "115f9662-9232-4ad4-930d-7588a4fe28fe",
   "metadata": {},
   "source": [
    "#### Duplicate Values"
   ]
  },
  {
   "cell_type": "code",
   "execution_count": 68,
   "id": "b0b44968-86fe-426d-af21-154fe1eda0ae",
   "metadata": {},
   "outputs": [
    {
     "name": "stdout",
     "output_type": "stream",
     "text": [
      "<class 'pandas.core.frame.DataFrame'>\n",
      "Index: 39330 entries, 51 to 71310\n",
      "Data columns (total 3 columns):\n",
      " #   Column               Non-Null Count  Dtype  \n",
      "---  ------               --------------  -----  \n",
      " 0   Year                 39330 non-null  int64  \n",
      " 1   Country              39330 non-null  object \n",
      " 2   Average_Temperature  39330 non-null  float64\n",
      "dtypes: float64(1), int64(1), object(1)\n",
      "memory usage: 1.2+ MB\n"
     ]
    }
   ],
   "source": [
    "temp_df_cleaned.info()"
   ]
  },
  {
   "cell_type": "code",
   "execution_count": 69,
   "id": "34a0bdd8-6766-4d7e-b540-52da550ed346",
   "metadata": {},
   "outputs": [
    {
     "data": {
      "text/plain": [
       "(570, 3)"
      ]
     },
     "execution_count": 69,
     "metadata": {},
     "output_type": "execute_result"
    }
   ],
   "source": [
    "temp_df_cleaned[temp_df_cleaned['Country'] == 'United Kingdom'].shape"
   ]
  },
  {
   "cell_type": "code",
   "execution_count": 70,
   "id": "377fef84-6806-447d-a1c3-199e6b6ddb75",
   "metadata": {},
   "outputs": [
    {
     "data": {
      "text/plain": [
       "(5928, 3)"
      ]
     },
     "execution_count": 70,
     "metadata": {},
     "output_type": "execute_result"
    }
   ],
   "source": [
    "temp_df_cleaned[temp_df_cleaned['Country'] == 'United States'].shape"
   ]
  },
  {
   "cell_type": "markdown",
   "id": "631d87dd-7eb9-42c3-af80-fd0bd13714d2",
   "metadata": {},
   "source": [
    "We can see that for some Country and Year combinations, there are no duplicates, only a single value for each combination, for example for the Bahamas."
   ]
  },
  {
   "cell_type": "code",
   "execution_count": 71,
   "id": "4fe37ebe-e1a2-4a96-8b8a-7e822712fa92",
   "metadata": {},
   "outputs": [
    {
     "data": {
      "text/plain": [
       "(114, 3)"
      ]
     },
     "execution_count": 71,
     "metadata": {},
     "output_type": "execute_result"
    }
   ],
   "source": [
    "temp_df_cleaned[temp_df_cleaned['Country'] == 'Bahamas'].shape"
   ]
  },
  {
   "cell_type": "code",
   "execution_count": 72,
   "id": "491414fe-0b22-4a86-8468-03ee3a1d0281",
   "metadata": {},
   "outputs": [
    {
     "data": {
      "text/plain": [
       "114"
      ]
     },
     "execution_count": 72,
     "metadata": {},
     "output_type": "execute_result"
    }
   ],
   "source": [
    "temp_df_cleaned[temp_df_cleaned['Country'] == 'Bahamas']['Year'].nunique()"
   ]
  },
  {
   "cell_type": "markdown",
   "id": "68362a53-e7be-45f8-8ca4-3c07b538b0f7",
   "metadata": {},
   "source": [
    "We can see that there are 114 rows for Bahamas and 114 unique years, indicating a single value per year for the Bahamas. However, if we look at other countries such as the United States or United Kingdom, there are multiple values per year. If we produce a dataframe of duplicate counts, we can see that duplicate counts very by country and year over time, with counts increasing over time. If we consider the United States, it goes from 22 up to 52. This suggests that the temp.csv file is missing information. Could these 52 values for the last 165 years represent the states, Puerto Rico, and Guam? This can complicate how we move forward with merging the data."
   ]
  },
  {
   "cell_type": "code",
   "execution_count": 73,
   "id": "3920e842-f349-45b8-8827-5561d655dbc4",
   "metadata": {},
   "outputs": [
    {
     "data": {
      "text/html": [
       "<div>\n",
       "<style scoped>\n",
       "    .dataframe tbody tr th:only-of-type {\n",
       "        vertical-align: middle;\n",
       "    }\n",
       "\n",
       "    .dataframe tbody tr th {\n",
       "        vertical-align: top;\n",
       "    }\n",
       "\n",
       "    .dataframe thead th {\n",
       "        text-align: right;\n",
       "    }\n",
       "</style>\n",
       "<table border=\"1\" class=\"dataframe\">\n",
       "  <thead>\n",
       "    <tr style=\"text-align: right;\">\n",
       "      <th></th>\n",
       "      <th>Year</th>\n",
       "      <th>Country</th>\n",
       "      <th>Count</th>\n",
       "    </tr>\n",
       "  </thead>\n",
       "  <tbody>\n",
       "    <tr>\n",
       "      <th>27137</th>\n",
       "      <td>2003</td>\n",
       "      <td>United States</td>\n",
       "      <td>52</td>\n",
       "    </tr>\n",
       "    <tr>\n",
       "      <th>26589</th>\n",
       "      <td>1999</td>\n",
       "      <td>United States</td>\n",
       "      <td>52</td>\n",
       "    </tr>\n",
       "    <tr>\n",
       "      <th>14533</th>\n",
       "      <td>1911</td>\n",
       "      <td>United States</td>\n",
       "      <td>52</td>\n",
       "    </tr>\n",
       "    <tr>\n",
       "      <th>8937</th>\n",
       "      <td>1870</td>\n",
       "      <td>United States</td>\n",
       "      <td>52</td>\n",
       "    </tr>\n",
       "    <tr>\n",
       "      <th>11108</th>\n",
       "      <td>1886</td>\n",
       "      <td>United States</td>\n",
       "      <td>52</td>\n",
       "    </tr>\n",
       "    <tr>\n",
       "      <th>13985</th>\n",
       "      <td>1907</td>\n",
       "      <td>United States</td>\n",
       "      <td>52</td>\n",
       "    </tr>\n",
       "    <tr>\n",
       "      <th>24945</th>\n",
       "      <td>1987</td>\n",
       "      <td>United States</td>\n",
       "      <td>52</td>\n",
       "    </tr>\n",
       "    <tr>\n",
       "      <th>17547</th>\n",
       "      <td>1933</td>\n",
       "      <td>United States</td>\n",
       "      <td>52</td>\n",
       "    </tr>\n",
       "    <tr>\n",
       "      <th>19191</th>\n",
       "      <td>1945</td>\n",
       "      <td>United States</td>\n",
       "      <td>52</td>\n",
       "    </tr>\n",
       "    <tr>\n",
       "      <th>23986</th>\n",
       "      <td>1980</td>\n",
       "      <td>United States</td>\n",
       "      <td>52</td>\n",
       "    </tr>\n",
       "  </tbody>\n",
       "</table>\n",
       "</div>"
      ],
      "text/plain": [
       "       Year        Country  Count\n",
       "27137  2003  United States     52\n",
       "26589  1999  United States     52\n",
       "14533  1911  United States     52\n",
       "8937   1870  United States     52\n",
       "11108  1886  United States     52\n",
       "13985  1907  United States     52\n",
       "24945  1987  United States     52\n",
       "17547  1933  United States     52\n",
       "19191  1945  United States     52\n",
       "23986  1980  United States     52"
      ]
     },
     "execution_count": 73,
     "metadata": {},
     "output_type": "execute_result"
    }
   ],
   "source": [
    "duplicate_counts_temp = temp_df.groupby(['Year', 'Country']).size().reset_index(name='Count')\n",
    "duplicate_counts_temp = duplicate_counts_temp[duplicate_counts_temp['Count'] > 1]\n",
    "duplicate_counts_temp.sort_values(by='Count', ascending=False).head(10)"
   ]
  },
  {
   "cell_type": "code",
   "execution_count": 74,
   "id": "a41ca31f-2a77-4e32-8665-43895f11c5aa",
   "metadata": {},
   "outputs": [
    {
     "data": {
      "text/html": [
       "\n",
       "<style>\n",
       "  #altair-viz-445222d641f04998aa646dfe6443d410.vega-embed {\n",
       "    width: 100%;\n",
       "    display: flex;\n",
       "  }\n",
       "\n",
       "  #altair-viz-445222d641f04998aa646dfe6443d410.vega-embed details,\n",
       "  #altair-viz-445222d641f04998aa646dfe6443d410.vega-embed details summary {\n",
       "    position: relative;\n",
       "  }\n",
       "</style>\n",
       "<div id=\"altair-viz-445222d641f04998aa646dfe6443d410\"></div>\n",
       "<script type=\"text/javascript\">\n",
       "  var VEGA_DEBUG = (typeof VEGA_DEBUG == \"undefined\") ? {} : VEGA_DEBUG;\n",
       "  (function(spec, embedOpt){\n",
       "    let outputDiv = document.currentScript.previousElementSibling;\n",
       "    if (outputDiv.id !== \"altair-viz-445222d641f04998aa646dfe6443d410\") {\n",
       "      outputDiv = document.getElementById(\"altair-viz-445222d641f04998aa646dfe6443d410\");\n",
       "    }\n",
       "    const paths = {\n",
       "      \"vega\": \"https://cdn.jsdelivr.net/npm/vega@5?noext\",\n",
       "      \"vega-lib\": \"https://cdn.jsdelivr.net/npm/vega-lib?noext\",\n",
       "      \"vega-lite\": \"https://cdn.jsdelivr.net/npm/vega-lite@5.14.1?noext\",\n",
       "      \"vega-embed\": \"https://cdn.jsdelivr.net/npm/vega-embed@6?noext\",\n",
       "    };\n",
       "\n",
       "    function maybeLoadScript(lib, version) {\n",
       "      var key = `${lib.replace(\"-\", \"\")}_version`;\n",
       "      return (VEGA_DEBUG[key] == version) ?\n",
       "        Promise.resolve(paths[lib]) :\n",
       "        new Promise(function(resolve, reject) {\n",
       "          var s = document.createElement('script');\n",
       "          document.getElementsByTagName(\"head\")[0].appendChild(s);\n",
       "          s.async = true;\n",
       "          s.onload = () => {\n",
       "            VEGA_DEBUG[key] = version;\n",
       "            return resolve(paths[lib]);\n",
       "          };\n",
       "          s.onerror = () => reject(`Error loading script: ${paths[lib]}`);\n",
       "          s.src = paths[lib];\n",
       "        });\n",
       "    }\n",
       "\n",
       "    function showError(err) {\n",
       "      outputDiv.innerHTML = `<div class=\"error\" style=\"color:red;\">${err}</div>`;\n",
       "      throw err;\n",
       "    }\n",
       "\n",
       "    function displayChart(vegaEmbed) {\n",
       "      vegaEmbed(outputDiv, spec, embedOpt)\n",
       "        .catch(err => showError(`Javascript Error: ${err.message}<br>This usually means there's a typo in your chart specification. See the javascript console for the full traceback.`));\n",
       "    }\n",
       "\n",
       "    if(typeof define === \"function\" && define.amd) {\n",
       "      requirejs.config({paths});\n",
       "      require([\"vega-embed\"], displayChart, err => showError(`Error loading script: ${err.message}`));\n",
       "    } else {\n",
       "      maybeLoadScript(\"vega\", \"5\")\n",
       "        .then(() => maybeLoadScript(\"vega-lite\", \"5.14.1\"))\n",
       "        .then(() => maybeLoadScript(\"vega-embed\", \"6\"))\n",
       "        .catch(showError)\n",
       "        .then(() => displayChart(vegaEmbed));\n",
       "    }\n",
       "  })({\"config\": {\"view\": {\"continuousWidth\": 300, \"continuousHeight\": 300}}, \"data\": {\"name\": \"data-8b8817a1a6c5362f3e87c0ac31215541\"}, \"mark\": {\"type\": \"line\"}, \"encoding\": {\"color\": {\"field\": \"Country\", \"type\": \"nominal\"}, \"tooltip\": [{\"field\": \"Year\", \"type\": \"quantitative\"}, {\"field\": \"Count\", \"type\": \"quantitative\"}, {\"field\": \"Country\", \"type\": \"nominal\"}], \"x\": {\"field\": \"Year\", \"type\": \"quantitative\"}, \"y\": {\"field\": \"Count\", \"type\": \"quantitative\"}}, \"height\": 300, \"title\": \"Duplicate Counts by Year for Top 7 Countries\", \"width\": 600, \"$schema\": \"https://vega.github.io/schema/vega-lite/v5.14.1.json\", \"datasets\": {\"data-8b8817a1a6c5362f3e87c0ac31215541\": [{\"Year\": 1743, \"Country\": \"Canada\", \"Count\": 5}, {\"Year\": 1743, \"Country\": \"Russia\", \"Count\": 6}, {\"Year\": 1743, \"Country\": \"United States\", \"Count\": 22}, {\"Year\": 1744, \"Country\": \"Canada\", \"Count\": 5}, {\"Year\": 1744, \"Country\": \"Russia\", \"Count\": 6}, {\"Year\": 1744, \"Country\": \"United States\", \"Count\": 22}, {\"Year\": 1745, \"Country\": \"Canada\", \"Count\": 5}, {\"Year\": 1745, \"Country\": \"Russia\", \"Count\": 6}, {\"Year\": 1745, \"Country\": \"United States\", \"Count\": 22}, {\"Year\": 1746, \"Country\": \"Canada\", \"Count\": 5}, {\"Year\": 1746, \"Country\": \"Russia\", \"Count\": 6}, {\"Year\": 1746, \"Country\": \"United States\", \"Count\": 22}, {\"Year\": 1747, \"Country\": \"Canada\", \"Count\": 5}, {\"Year\": 1747, \"Country\": \"Russia\", \"Count\": 6}, {\"Year\": 1747, \"Country\": \"United States\", \"Count\": 22}, {\"Year\": 1748, \"Country\": \"Canada\", \"Count\": 5}, {\"Year\": 1748, \"Country\": \"Russia\", \"Count\": 6}, {\"Year\": 1748, \"Country\": \"United States\", \"Count\": 22}, {\"Year\": 1749, \"Country\": \"Canada\", \"Count\": 5}, {\"Year\": 1749, \"Country\": \"Russia\", \"Count\": 6}, {\"Year\": 1749, \"Country\": \"United States\", \"Count\": 22}, {\"Year\": 1750, \"Country\": \"Canada\", \"Count\": 5}, {\"Year\": 1750, \"Country\": \"Russia\", \"Count\": 6}, {\"Year\": 1750, \"Country\": \"United States\", \"Count\": 22}, {\"Year\": 1751, \"Country\": \"Canada\", \"Count\": 5}, {\"Year\": 1751, \"Country\": \"Russia\", \"Count\": 6}, {\"Year\": 1751, \"Country\": \"United States\", \"Count\": 22}, {\"Year\": 1752, \"Country\": \"Canada\", \"Count\": 5}, {\"Year\": 1752, \"Country\": \"Russia\", \"Count\": 6}, {\"Year\": 1752, \"Country\": \"United States\", \"Count\": 22}, {\"Year\": 1753, \"Country\": \"Canada\", \"Count\": 5}, {\"Year\": 1753, \"Country\": \"Russia\", \"Count\": 6}, {\"Year\": 1753, \"Country\": \"United States\", \"Count\": 22}, {\"Year\": 1754, \"Country\": \"Canada\", \"Count\": 5}, {\"Year\": 1754, \"Country\": \"Russia\", \"Count\": 6}, {\"Year\": 1754, \"Country\": \"United States\", \"Count\": 22}, {\"Year\": 1755, \"Country\": \"Canada\", \"Count\": 5}, {\"Year\": 1755, \"Country\": \"Russia\", \"Count\": 6}, {\"Year\": 1755, \"Country\": \"United States\", \"Count\": 22}, {\"Year\": 1756, \"Country\": \"Canada\", \"Count\": 5}, {\"Year\": 1756, \"Country\": \"Russia\", \"Count\": 6}, {\"Year\": 1756, \"Country\": \"United States\", \"Count\": 22}, {\"Year\": 1757, \"Country\": \"Canada\", \"Count\": 5}, {\"Year\": 1757, \"Country\": \"Russia\", \"Count\": 6}, {\"Year\": 1757, \"Country\": \"United States\", \"Count\": 22}, {\"Year\": 1758, \"Country\": \"Canada\", \"Count\": 5}, {\"Year\": 1758, \"Country\": \"Russia\", \"Count\": 6}, {\"Year\": 1758, \"Country\": \"United States\", \"Count\": 27}, {\"Year\": 1759, \"Country\": \"Canada\", \"Count\": 5}, {\"Year\": 1759, \"Country\": \"Russia\", \"Count\": 6}, {\"Year\": 1759, \"Country\": \"United States\", \"Count\": 27}, {\"Year\": 1760, \"Country\": \"Canada\", \"Count\": 5}, {\"Year\": 1760, \"Country\": \"Russia\", \"Count\": 6}, {\"Year\": 1760, \"Country\": \"United States\", \"Count\": 27}, {\"Year\": 1761, \"Country\": \"Canada\", \"Count\": 5}, {\"Year\": 1761, \"Country\": \"Russia\", \"Count\": 6}, {\"Year\": 1761, \"Country\": \"United States\", \"Count\": 27}, {\"Year\": 1762, \"Country\": \"Canada\", \"Count\": 5}, {\"Year\": 1762, \"Country\": \"Russia\", \"Count\": 6}, {\"Year\": 1762, \"Country\": \"United States\", \"Count\": 27}, {\"Year\": 1763, \"Country\": \"Canada\", \"Count\": 5}, {\"Year\": 1763, \"Country\": \"Russia\", \"Count\": 6}, {\"Year\": 1763, \"Country\": \"United States\", \"Count\": 27}, {\"Year\": 1764, \"Country\": \"Canada\", \"Count\": 5}, {\"Year\": 1764, \"Country\": \"Russia\", \"Count\": 6}, {\"Year\": 1764, \"Country\": \"United States\", \"Count\": 27}, {\"Year\": 1765, \"Country\": \"Canada\", \"Count\": 5}, {\"Year\": 1765, \"Country\": \"Russia\", \"Count\": 6}, {\"Year\": 1765, \"Country\": \"United States\", \"Count\": 27}, {\"Year\": 1766, \"Country\": \"Canada\", \"Count\": 5}, {\"Year\": 1766, \"Country\": \"Russia\", \"Count\": 6}, {\"Year\": 1766, \"Country\": \"United States\", \"Count\": 27}, {\"Year\": 1767, \"Country\": \"Canada\", \"Count\": 5}, {\"Year\": 1767, \"Country\": \"Russia\", \"Count\": 6}, {\"Year\": 1767, \"Country\": \"United States\", \"Count\": 27}, {\"Year\": 1768, \"Country\": \"Canada\", \"Count\": 5}, {\"Year\": 1768, \"Country\": \"Russia\", \"Count\": 6}, {\"Year\": 1768, \"Country\": \"United States\", \"Count\": 29}, {\"Year\": 1769, \"Country\": \"Canada\", \"Count\": 5}, {\"Year\": 1769, \"Country\": \"Russia\", \"Count\": 6}, {\"Year\": 1769, \"Country\": \"United States\", \"Count\": 29}, {\"Year\": 1770, \"Country\": \"Canada\", \"Count\": 5}, {\"Year\": 1770, \"Country\": \"Russia\", \"Count\": 6}, {\"Year\": 1770, \"Country\": \"United States\", \"Count\": 29}, {\"Year\": 1771, \"Country\": \"Canada\", \"Count\": 5}, {\"Year\": 1771, \"Country\": \"Russia\", \"Count\": 6}, {\"Year\": 1771, \"Country\": \"United States\", \"Count\": 29}, {\"Year\": 1772, \"Country\": \"Canada\", \"Count\": 5}, {\"Year\": 1772, \"Country\": \"Russia\", \"Count\": 6}, {\"Year\": 1772, \"Country\": \"United States\", \"Count\": 29}, {\"Year\": 1773, \"Country\": \"Canada\", \"Count\": 5}, {\"Year\": 1773, \"Country\": \"Russia\", \"Count\": 6}, {\"Year\": 1773, \"Country\": \"United States\", \"Count\": 29}, {\"Year\": 1774, \"Country\": \"Canada\", \"Count\": 5}, {\"Year\": 1774, \"Country\": \"Russia\", \"Count\": 6}, {\"Year\": 1774, \"Country\": \"United States\", \"Count\": 29}, {\"Year\": 1775, \"Country\": \"Canada\", \"Count\": 5}, {\"Year\": 1775, \"Country\": \"Russia\", \"Count\": 6}, {\"Year\": 1775, \"Country\": \"United States\", \"Count\": 31}, {\"Year\": 1776, \"Country\": \"Canada\", \"Count\": 5}, {\"Year\": 1776, \"Country\": \"Russia\", \"Count\": 6}, {\"Year\": 1776, \"Country\": \"United States\", \"Count\": 31}, {\"Year\": 1777, \"Country\": \"Canada\", \"Count\": 5}, {\"Year\": 1777, \"Country\": \"Russia\", \"Count\": 6}, {\"Year\": 1777, \"Country\": \"United States\", \"Count\": 31}, {\"Year\": 1778, \"Country\": \"Canada\", \"Count\": 5}, {\"Year\": 1778, \"Country\": \"Russia\", \"Count\": 6}, {\"Year\": 1778, \"Country\": \"United States\", \"Count\": 31}, {\"Year\": 1779, \"Country\": \"Canada\", \"Count\": 5}, {\"Year\": 1779, \"Country\": \"Russia\", \"Count\": 7}, {\"Year\": 1779, \"Country\": \"United States\", \"Count\": 31}, {\"Year\": 1780, \"Country\": \"Canada\", \"Count\": 5}, {\"Year\": 1780, \"Country\": \"Russia\", \"Count\": 7}, {\"Year\": 1780, \"Country\": \"United States\", \"Count\": 31}, {\"Year\": 1781, \"Country\": \"Canada\", \"Count\": 5}, {\"Year\": 1781, \"Country\": \"Russia\", \"Count\": 7}, {\"Year\": 1781, \"Country\": \"United States\", \"Count\": 31}, {\"Year\": 1782, \"Country\": \"Canada\", \"Count\": 5}, {\"Year\": 1782, \"Country\": \"Russia\", \"Count\": 7}, {\"Year\": 1782, \"Country\": \"United States\", \"Count\": 31}, {\"Year\": 1783, \"Country\": \"Canada\", \"Count\": 5}, {\"Year\": 1783, \"Country\": \"Russia\", \"Count\": 7}, {\"Year\": 1783, \"Country\": \"United States\", \"Count\": 31}, {\"Year\": 1784, \"Country\": \"Canada\", \"Count\": 5}, {\"Year\": 1784, \"Country\": \"Russia\", \"Count\": 7}, {\"Year\": 1784, \"Country\": \"United States\", \"Count\": 31}, {\"Year\": 1785, \"Country\": \"Canada\", \"Count\": 5}, {\"Year\": 1785, \"Country\": \"Russia\", \"Count\": 7}, {\"Year\": 1785, \"Country\": \"United States\", \"Count\": 31}, {\"Year\": 1786, \"Country\": \"Canada\", \"Count\": 5}, {\"Year\": 1786, \"Country\": \"Russia\", \"Count\": 7}, {\"Year\": 1786, \"Country\": \"United States\", \"Count\": 31}, {\"Year\": 1787, \"Country\": \"Canada\", \"Count\": 5}, {\"Year\": 1787, \"Country\": \"Russia\", \"Count\": 7}, {\"Year\": 1787, \"Country\": \"United States\", \"Count\": 31}, {\"Year\": 1788, \"Country\": \"Canada\", \"Count\": 5}, {\"Year\": 1788, \"Country\": \"Russia\", \"Count\": 7}, {\"Year\": 1788, \"Country\": \"United States\", \"Count\": 31}, {\"Year\": 1789, \"Country\": \"Canada\", \"Count\": 5}, {\"Year\": 1789, \"Country\": \"Russia\", \"Count\": 7}, {\"Year\": 1789, \"Country\": \"United States\", \"Count\": 31}, {\"Year\": 1790, \"Country\": \"Canada\", \"Count\": 5}, {\"Year\": 1790, \"Country\": \"Russia\", \"Count\": 7}, {\"Year\": 1790, \"Country\": \"United States\", \"Count\": 31}, {\"Year\": 1791, \"Country\": \"Canada\", \"Count\": 5}, {\"Year\": 1791, \"Country\": \"Russia\", \"Count\": 7}, {\"Year\": 1791, \"Country\": \"United States\", \"Count\": 31}, {\"Year\": 1792, \"Country\": \"Canada\", \"Count\": 5}, {\"Year\": 1792, \"Country\": \"Russia\", \"Count\": 7}, {\"Year\": 1792, \"Country\": \"United States\", \"Count\": 31}, {\"Year\": 1793, \"Country\": \"Canada\", \"Count\": 5}, {\"Year\": 1793, \"Country\": \"Russia\", \"Count\": 7}, {\"Year\": 1793, \"Country\": \"United States\", \"Count\": 31}, {\"Year\": 1794, \"Country\": \"Canada\", \"Count\": 5}, {\"Year\": 1794, \"Country\": \"Russia\", \"Count\": 7}, {\"Year\": 1794, \"Country\": \"United States\", \"Count\": 31}, {\"Year\": 1795, \"Country\": \"Canada\", \"Count\": 5}, {\"Year\": 1795, \"Country\": \"Russia\", \"Count\": 7}, {\"Year\": 1795, \"Country\": \"United States\", \"Count\": 31}, {\"Year\": 1796, \"Country\": \"Canada\", \"Count\": 5}, {\"Year\": 1796, \"Country\": \"India\", \"Count\": 20}, {\"Year\": 1796, \"Country\": \"Pakistan\", \"Count\": 2}, {\"Year\": 1796, \"Country\": \"Russia\", \"Count\": 7}, {\"Year\": 1796, \"Country\": \"United States\", \"Count\": 31}, {\"Year\": 1797, \"Country\": \"Canada\", \"Count\": 5}, {\"Year\": 1797, \"Country\": \"India\", \"Count\": 20}, {\"Year\": 1797, \"Country\": \"Pakistan\", \"Count\": 2}, {\"Year\": 1797, \"Country\": \"Russia\", \"Count\": 7}, {\"Year\": 1797, \"Country\": \"United States\", \"Count\": 31}, {\"Year\": 1798, \"Country\": \"Canada\", \"Count\": 5}, {\"Year\": 1798, \"Country\": \"India\", \"Count\": 20}, {\"Year\": 1798, \"Country\": \"Pakistan\", \"Count\": 2}, {\"Year\": 1798, \"Country\": \"Russia\", \"Count\": 7}, {\"Year\": 1798, \"Country\": \"United States\", \"Count\": 31}, {\"Year\": 1799, \"Country\": \"Canada\", \"Count\": 5}, {\"Year\": 1799, \"Country\": \"India\", \"Count\": 20}, {\"Year\": 1799, \"Country\": \"Pakistan\", \"Count\": 2}, {\"Year\": 1799, \"Country\": \"Russia\", \"Count\": 7}, {\"Year\": 1799, \"Country\": \"United States\", \"Count\": 31}, {\"Year\": 1800, \"Country\": \"Canada\", \"Count\": 5}, {\"Year\": 1800, \"Country\": \"India\", \"Count\": 20}, {\"Year\": 1800, \"Country\": \"Pakistan\", \"Count\": 2}, {\"Year\": 1800, \"Country\": \"Russia\", \"Count\": 7}, {\"Year\": 1800, \"Country\": \"United States\", \"Count\": 31}, {\"Year\": 1801, \"Country\": \"Canada\", \"Count\": 5}, {\"Year\": 1801, \"Country\": \"India\", \"Count\": 20}, {\"Year\": 1801, \"Country\": \"Pakistan\", \"Count\": 2}, {\"Year\": 1801, \"Country\": \"Russia\", \"Count\": 7}, {\"Year\": 1801, \"Country\": \"United States\", \"Count\": 31}, {\"Year\": 1802, \"Country\": \"Canada\", \"Count\": 5}, {\"Year\": 1802, \"Country\": \"India\", \"Count\": 20}, {\"Year\": 1802, \"Country\": \"Pakistan\", \"Count\": 2}, {\"Year\": 1802, \"Country\": \"Russia\", \"Count\": 7}, {\"Year\": 1802, \"Country\": \"United States\", \"Count\": 31}, {\"Year\": 1803, \"Country\": \"Canada\", \"Count\": 5}, {\"Year\": 1803, \"Country\": \"India\", \"Count\": 20}, {\"Year\": 1803, \"Country\": \"Pakistan\", \"Count\": 2}, {\"Year\": 1803, \"Country\": \"Russia\", \"Count\": 7}, {\"Year\": 1803, \"Country\": \"United States\", \"Count\": 31}, {\"Year\": 1804, \"Country\": \"Canada\", \"Count\": 5}, {\"Year\": 1804, \"Country\": \"India\", \"Count\": 20}, {\"Year\": 1804, \"Country\": \"Pakistan\", \"Count\": 2}, {\"Year\": 1804, \"Country\": \"Russia\", \"Count\": 7}, {\"Year\": 1804, \"Country\": \"United States\", \"Count\": 31}, {\"Year\": 1805, \"Country\": \"Canada\", \"Count\": 5}, {\"Year\": 1805, \"Country\": \"India\", \"Count\": 20}, {\"Year\": 1805, \"Country\": \"Pakistan\", \"Count\": 2}, {\"Year\": 1805, \"Country\": \"Russia\", \"Count\": 7}, {\"Year\": 1805, \"Country\": \"United States\", \"Count\": 31}, {\"Year\": 1806, \"Country\": \"Canada\", \"Count\": 5}, {\"Year\": 1806, \"Country\": \"India\", \"Count\": 20}, {\"Year\": 1806, \"Country\": \"Pakistan\", \"Count\": 2}, {\"Year\": 1806, \"Country\": \"Russia\", \"Count\": 7}, {\"Year\": 1806, \"Country\": \"United States\", \"Count\": 31}, {\"Year\": 1807, \"Country\": \"Canada\", \"Count\": 5}, {\"Year\": 1807, \"Country\": \"India\", \"Count\": 20}, {\"Year\": 1807, \"Country\": \"Pakistan\", \"Count\": 2}, {\"Year\": 1807, \"Country\": \"Russia\", \"Count\": 7}, {\"Year\": 1807, \"Country\": \"United States\", \"Count\": 31}, {\"Year\": 1808, \"Country\": \"Canada\", \"Count\": 5}, {\"Year\": 1808, \"Country\": \"India\", \"Count\": 20}, {\"Year\": 1808, \"Country\": \"Pakistan\", \"Count\": 2}, {\"Year\": 1808, \"Country\": \"Russia\", \"Count\": 7}, {\"Year\": 1808, \"Country\": \"United States\", \"Count\": 31}, {\"Year\": 1809, \"Country\": \"Canada\", \"Count\": 5}, {\"Year\": 1809, \"Country\": \"India\", \"Count\": 20}, {\"Year\": 1809, \"Country\": \"Pakistan\", \"Count\": 2}, {\"Year\": 1809, \"Country\": \"Russia\", \"Count\": 7}, {\"Year\": 1809, \"Country\": \"United States\", \"Count\": 31}, {\"Year\": 1810, \"Country\": \"Canada\", \"Count\": 5}, {\"Year\": 1810, \"Country\": \"India\", \"Count\": 20}, {\"Year\": 1810, \"Country\": \"Pakistan\", \"Count\": 2}, {\"Year\": 1810, \"Country\": \"Russia\", \"Count\": 7}, {\"Year\": 1810, \"Country\": \"United States\", \"Count\": 31}, {\"Year\": 1811, \"Country\": \"Canada\", \"Count\": 5}, {\"Year\": 1811, \"Country\": \"India\", \"Count\": 20}, {\"Year\": 1811, \"Country\": \"Pakistan\", \"Count\": 2}, {\"Year\": 1811, \"Country\": \"Russia\", \"Count\": 7}, {\"Year\": 1811, \"Country\": \"United States\", \"Count\": 31}, {\"Year\": 1812, \"Country\": \"Canada\", \"Count\": 5}, {\"Year\": 1812, \"Country\": \"India\", \"Count\": 20}, {\"Year\": 1812, \"Country\": \"Pakistan\", \"Count\": 2}, {\"Year\": 1812, \"Country\": \"Russia\", \"Count\": 8}, {\"Year\": 1812, \"Country\": \"United States\", \"Count\": 31}, {\"Year\": 1813, \"Country\": \"Canada\", \"Count\": 5}, {\"Year\": 1813, \"Country\": \"India\", \"Count\": 20}, {\"Year\": 1813, \"Country\": \"Pakistan\", \"Count\": 2}, {\"Year\": 1813, \"Country\": \"Russia\", \"Count\": 8}, {\"Year\": 1813, \"Country\": \"United States\", \"Count\": 31}, {\"Year\": 1814, \"Country\": \"Canada\", \"Count\": 5}, {\"Year\": 1814, \"Country\": \"India\", \"Count\": 20}, {\"Year\": 1814, \"Country\": \"Pakistan\", \"Count\": 2}, {\"Year\": 1814, \"Country\": \"Russia\", \"Count\": 8}, {\"Year\": 1814, \"Country\": \"United States\", \"Count\": 31}, {\"Year\": 1815, \"Country\": \"Canada\", \"Count\": 5}, {\"Year\": 1815, \"Country\": \"India\", \"Count\": 20}, {\"Year\": 1815, \"Country\": \"Pakistan\", \"Count\": 2}, {\"Year\": 1815, \"Country\": \"Russia\", \"Count\": 8}, {\"Year\": 1815, \"Country\": \"United States\", \"Count\": 31}, {\"Year\": 1816, \"Country\": \"Canada\", \"Count\": 5}, {\"Year\": 1816, \"Country\": \"India\", \"Count\": 22}, {\"Year\": 1816, \"Country\": \"Pakistan\", \"Count\": 8}, {\"Year\": 1816, \"Country\": \"Russia\", \"Count\": 8}, {\"Year\": 1816, \"Country\": \"United States\", \"Count\": 31}, {\"Year\": 1817, \"Country\": \"Canada\", \"Count\": 5}, {\"Year\": 1817, \"Country\": \"India\", \"Count\": 22}, {\"Year\": 1817, \"Country\": \"Pakistan\", \"Count\": 8}, {\"Year\": 1817, \"Country\": \"Russia\", \"Count\": 8}, {\"Year\": 1817, \"Country\": \"United States\", \"Count\": 31}, {\"Year\": 1818, \"Country\": \"Canada\", \"Count\": 5}, {\"Year\": 1818, \"Country\": \"India\", \"Count\": 22}, {\"Year\": 1818, \"Country\": \"Pakistan\", \"Count\": 8}, {\"Year\": 1818, \"Country\": \"Russia\", \"Count\": 8}, {\"Year\": 1818, \"Country\": \"United States\", \"Count\": 31}, {\"Year\": 1819, \"Country\": \"Canada\", \"Count\": 5}, {\"Year\": 1819, \"Country\": \"India\", \"Count\": 22}, {\"Year\": 1819, \"Country\": \"Pakistan\", \"Count\": 8}, {\"Year\": 1819, \"Country\": \"Russia\", \"Count\": 8}, {\"Year\": 1819, \"Country\": \"United States\", \"Count\": 31}, {\"Year\": 1820, \"Country\": \"Canada\", \"Count\": 5}, {\"Year\": 1820, \"Country\": \"China\", \"Count\": 11}, {\"Year\": 1820, \"Country\": \"India\", \"Count\": 22}, {\"Year\": 1820, \"Country\": \"Pakistan\", \"Count\": 8}, {\"Year\": 1820, \"Country\": \"Russia\", \"Count\": 9}, {\"Year\": 1820, \"Country\": \"United States\", \"Count\": 37}, {\"Year\": 1821, \"Country\": \"Canada\", \"Count\": 5}, {\"Year\": 1821, \"Country\": \"China\", \"Count\": 11}, {\"Year\": 1821, \"Country\": \"India\", \"Count\": 22}, {\"Year\": 1821, \"Country\": \"Pakistan\", \"Count\": 8}, {\"Year\": 1821, \"Country\": \"Russia\", \"Count\": 9}, {\"Year\": 1821, \"Country\": \"United States\", \"Count\": 37}, {\"Year\": 1822, \"Country\": \"Canada\", \"Count\": 5}, {\"Year\": 1822, \"Country\": \"China\", \"Count\": 11}, {\"Year\": 1822, \"Country\": \"India\", \"Count\": 22}, {\"Year\": 1822, \"Country\": \"Pakistan\", \"Count\": 8}, {\"Year\": 1822, \"Country\": \"Russia\", \"Count\": 9}, {\"Year\": 1822, \"Country\": \"United States\", \"Count\": 37}, {\"Year\": 1823, \"Country\": \"Canada\", \"Count\": 5}, {\"Year\": 1823, \"Country\": \"China\", \"Count\": 11}, {\"Year\": 1823, \"Country\": \"India\", \"Count\": 22}, {\"Year\": 1823, \"Country\": \"Pakistan\", \"Count\": 8}, {\"Year\": 1823, \"Country\": \"Russia\", \"Count\": 9}, {\"Year\": 1823, \"Country\": \"United States\", \"Count\": 37}, {\"Year\": 1824, \"Country\": \"Canada\", \"Count\": 5}, {\"Year\": 1824, \"Country\": \"China\", \"Count\": 11}, {\"Year\": 1824, \"Country\": \"India\", \"Count\": 22}, {\"Year\": 1824, \"Country\": \"Pakistan\", \"Count\": 8}, {\"Year\": 1824, \"Country\": \"Russia\", \"Count\": 9}, {\"Year\": 1824, \"Country\": \"United States\", \"Count\": 37}, {\"Year\": 1825, \"Country\": \"Canada\", \"Count\": 5}, {\"Year\": 1825, \"Country\": \"China\", \"Count\": 11}, {\"Year\": 1825, \"Country\": \"India\", \"Count\": 22}, {\"Year\": 1825, \"Country\": \"Pakistan\", \"Count\": 8}, {\"Year\": 1825, \"Country\": \"Russia\", \"Count\": 9}, {\"Year\": 1825, \"Country\": \"United States\", \"Count\": 38}, {\"Year\": 1826, \"Country\": \"Canada\", \"Count\": 5}, {\"Year\": 1826, \"Country\": \"China\", \"Count\": 11}, {\"Year\": 1826, \"Country\": \"India\", \"Count\": 22}, {\"Year\": 1826, \"Country\": \"Pakistan\", \"Count\": 8}, {\"Year\": 1826, \"Country\": \"Russia\", \"Count\": 9}, {\"Year\": 1826, \"Country\": \"United States\", \"Count\": 38}, {\"Year\": 1827, \"Country\": \"Canada\", \"Count\": 5}, {\"Year\": 1827, \"Country\": \"China\", \"Count\": 11}, {\"Year\": 1827, \"Country\": \"India\", \"Count\": 22}, {\"Year\": 1827, \"Country\": \"Pakistan\", \"Count\": 8}, {\"Year\": 1827, \"Country\": \"Russia\", \"Count\": 9}, {\"Year\": 1827, \"Country\": \"United States\", \"Count\": 38}, {\"Year\": 1828, \"Country\": \"Canada\", \"Count\": 6}, {\"Year\": 1828, \"Country\": \"China\", \"Count\": 11}, {\"Year\": 1828, \"Country\": \"India\", \"Count\": 22}, {\"Year\": 1828, \"Country\": \"Pakistan\", \"Count\": 8}, {\"Year\": 1828, \"Country\": \"Russia\", \"Count\": 9}, {\"Year\": 1828, \"Country\": \"United States\", \"Count\": 40}, {\"Year\": 1829, \"Country\": \"Canada\", \"Count\": 6}, {\"Year\": 1829, \"Country\": \"China\", \"Count\": 15}, {\"Year\": 1829, \"Country\": \"India\", \"Count\": 22}, {\"Year\": 1829, \"Country\": \"Pakistan\", \"Count\": 8}, {\"Year\": 1829, \"Country\": \"Russia\", \"Count\": 9}, {\"Year\": 1829, \"Country\": \"United States\", \"Count\": 40}, {\"Year\": 1830, \"Country\": \"Canada\", \"Count\": 6}, {\"Year\": 1830, \"Country\": \"China\", \"Count\": 15}, {\"Year\": 1830, \"Country\": \"India\", \"Count\": 22}, {\"Year\": 1830, \"Country\": \"Pakistan\", \"Count\": 8}, {\"Year\": 1830, \"Country\": \"Russia\", \"Count\": 9}, {\"Year\": 1830, \"Country\": \"United States\", \"Count\": 40}, {\"Year\": 1831, \"Country\": \"Canada\", \"Count\": 6}, {\"Year\": 1831, \"Country\": \"China\", \"Count\": 15}, {\"Year\": 1831, \"Country\": \"India\", \"Count\": 22}, {\"Year\": 1831, \"Country\": \"Pakistan\", \"Count\": 8}, {\"Year\": 1831, \"Country\": \"Russia\", \"Count\": 9}, {\"Year\": 1831, \"Country\": \"United States\", \"Count\": 40}, {\"Year\": 1832, \"Country\": \"Brazil\", \"Count\": 10}, {\"Year\": 1832, \"Country\": \"Canada\", \"Count\": 6}, {\"Year\": 1832, \"Country\": \"China\", \"Count\": 15}, {\"Year\": 1832, \"Country\": \"India\", \"Count\": 22}, {\"Year\": 1832, \"Country\": \"Pakistan\", \"Count\": 8}, {\"Year\": 1832, \"Country\": \"Russia\", \"Count\": 9}, {\"Year\": 1832, \"Country\": \"United States\", \"Count\": 40}, {\"Year\": 1833, \"Country\": \"Brazil\", \"Count\": 10}, {\"Year\": 1833, \"Country\": \"Canada\", \"Count\": 6}, {\"Year\": 1833, \"Country\": \"China\", \"Count\": 15}, {\"Year\": 1833, \"Country\": \"India\", \"Count\": 22}, {\"Year\": 1833, \"Country\": \"Pakistan\", \"Count\": 9}, {\"Year\": 1833, \"Country\": \"Russia\", \"Count\": 9}, {\"Year\": 1833, \"Country\": \"United States\", \"Count\": 40}, {\"Year\": 1834, \"Country\": \"Brazil\", \"Count\": 10}, {\"Year\": 1834, \"Country\": \"Canada\", \"Count\": 6}, {\"Year\": 1834, \"Country\": \"China\", \"Count\": 15}, {\"Year\": 1834, \"Country\": \"India\", \"Count\": 22}, {\"Year\": 1834, \"Country\": \"Pakistan\", \"Count\": 9}, {\"Year\": 1834, \"Country\": \"Russia\", \"Count\": 9}, {\"Year\": 1834, \"Country\": \"United States\", \"Count\": 40}, {\"Year\": 1835, \"Country\": \"Brazil\", \"Count\": 10}, {\"Year\": 1835, \"Country\": \"Canada\", \"Count\": 6}, {\"Year\": 1835, \"Country\": \"China\", \"Count\": 15}, {\"Year\": 1835, \"Country\": \"India\", \"Count\": 22}, {\"Year\": 1835, \"Country\": \"Pakistan\", \"Count\": 9}, {\"Year\": 1835, \"Country\": \"Russia\", \"Count\": 9}, {\"Year\": 1835, \"Country\": \"United States\", \"Count\": 44}, {\"Year\": 1836, \"Country\": \"Brazil\", \"Count\": 10}, {\"Year\": 1836, \"Country\": \"Canada\", \"Count\": 6}, {\"Year\": 1836, \"Country\": \"China\", \"Count\": 15}, {\"Year\": 1836, \"Country\": \"India\", \"Count\": 22}, {\"Year\": 1836, \"Country\": \"Pakistan\", \"Count\": 9}, {\"Year\": 1836, \"Country\": \"Russia\", \"Count\": 9}, {\"Year\": 1836, \"Country\": \"United States\", \"Count\": 44}, {\"Year\": 1837, \"Country\": \"Brazil\", \"Count\": 10}, {\"Year\": 1837, \"Country\": \"Canada\", \"Count\": 6}, {\"Year\": 1837, \"Country\": \"China\", \"Count\": 15}, {\"Year\": 1837, \"Country\": \"India\", \"Count\": 22}, {\"Year\": 1837, \"Country\": \"Pakistan\", \"Count\": 9}, {\"Year\": 1837, \"Country\": \"Russia\", \"Count\": 9}, {\"Year\": 1837, \"Country\": \"United States\", \"Count\": 44}, {\"Year\": 1838, \"Country\": \"Brazil\", \"Count\": 10}, {\"Year\": 1838, \"Country\": \"Canada\", \"Count\": 6}, {\"Year\": 1838, \"Country\": \"China\", \"Count\": 15}, {\"Year\": 1838, \"Country\": \"India\", \"Count\": 22}, {\"Year\": 1838, \"Country\": \"Pakistan\", \"Count\": 9}, {\"Year\": 1838, \"Country\": \"Russia\", \"Count\": 9}, {\"Year\": 1838, \"Country\": \"United States\", \"Count\": 44}, {\"Year\": 1839, \"Country\": \"Brazil\", \"Count\": 10}, {\"Year\": 1839, \"Country\": \"Canada\", \"Count\": 6}, {\"Year\": 1839, \"Country\": \"China\", \"Count\": 15}, {\"Year\": 1839, \"Country\": \"India\", \"Count\": 22}, {\"Year\": 1839, \"Country\": \"Pakistan\", \"Count\": 9}, {\"Year\": 1839, \"Country\": \"Russia\", \"Count\": 9}, {\"Year\": 1839, \"Country\": \"United States\", \"Count\": 44}, {\"Year\": 1840, \"Country\": \"Brazil\", \"Count\": 10}, {\"Year\": 1840, \"Country\": \"Canada\", \"Count\": 6}, {\"Year\": 1840, \"Country\": \"China\", \"Count\": 22}, {\"Year\": 1840, \"Country\": \"India\", \"Count\": 22}, {\"Year\": 1840, \"Country\": \"Pakistan\", \"Count\": 9}, {\"Year\": 1840, \"Country\": \"Russia\", \"Count\": 9}, {\"Year\": 1840, \"Country\": \"United States\", \"Count\": 44}, {\"Year\": 1841, \"Country\": \"Brazil\", \"Count\": 10}, {\"Year\": 1841, \"Country\": \"Canada\", \"Count\": 6}, {\"Year\": 1841, \"Country\": \"China\", \"Count\": 34}, {\"Year\": 1841, \"Country\": \"India\", \"Count\": 22}, {\"Year\": 1841, \"Country\": \"Pakistan\", \"Count\": 9}, {\"Year\": 1841, \"Country\": \"Russia\", \"Count\": 9}, {\"Year\": 1841, \"Country\": \"United States\", \"Count\": 44}, {\"Year\": 1842, \"Country\": \"Brazil\", \"Count\": 10}, {\"Year\": 1842, \"Country\": \"Canada\", \"Count\": 6}, {\"Year\": 1842, \"Country\": \"China\", \"Count\": 34}, {\"Year\": 1842, \"Country\": \"India\", \"Count\": 22}, {\"Year\": 1842, \"Country\": \"Pakistan\", \"Count\": 9}, {\"Year\": 1842, \"Country\": \"Russia\", \"Count\": 9}, {\"Year\": 1842, \"Country\": \"United States\", \"Count\": 44}, {\"Year\": 1843, \"Country\": \"Brazil\", \"Count\": 10}, {\"Year\": 1843, \"Country\": \"Canada\", \"Count\": 6}, {\"Year\": 1843, \"Country\": \"China\", \"Count\": 34}, {\"Year\": 1843, \"Country\": \"India\", \"Count\": 22}, {\"Year\": 1843, \"Country\": \"Pakistan\", \"Count\": 9}, {\"Year\": 1843, \"Country\": \"Russia\", \"Count\": 9}, {\"Year\": 1843, \"Country\": \"United States\", \"Count\": 44}, {\"Year\": 1844, \"Country\": \"Brazil\", \"Count\": 10}, {\"Year\": 1844, \"Country\": \"Canada\", \"Count\": 6}, {\"Year\": 1844, \"Country\": \"China\", \"Count\": 34}, {\"Year\": 1844, \"Country\": \"India\", \"Count\": 22}, {\"Year\": 1844, \"Country\": \"Pakistan\", \"Count\": 9}, {\"Year\": 1844, \"Country\": \"Russia\", \"Count\": 9}, {\"Year\": 1844, \"Country\": \"United States\", \"Count\": 44}, {\"Year\": 1845, \"Country\": \"Brazil\", \"Count\": 11}, {\"Year\": 1845, \"Country\": \"Canada\", \"Count\": 6}, {\"Year\": 1845, \"Country\": \"China\", \"Count\": 34}, {\"Year\": 1845, \"Country\": \"India\", \"Count\": 22}, {\"Year\": 1845, \"Country\": \"Pakistan\", \"Count\": 9}, {\"Year\": 1845, \"Country\": \"Russia\", \"Count\": 9}, {\"Year\": 1845, \"Country\": \"United States\", \"Count\": 44}, {\"Year\": 1846, \"Country\": \"Brazil\", \"Count\": 11}, {\"Year\": 1846, \"Country\": \"Canada\", \"Count\": 6}, {\"Year\": 1846, \"Country\": \"China\", \"Count\": 34}, {\"Year\": 1846, \"Country\": \"India\", \"Count\": 22}, {\"Year\": 1846, \"Country\": \"Pakistan\", \"Count\": 9}, {\"Year\": 1846, \"Country\": \"Russia\", \"Count\": 9}, {\"Year\": 1846, \"Country\": \"United States\", \"Count\": 44}, {\"Year\": 1847, \"Country\": \"Brazil\", \"Count\": 11}, {\"Year\": 1847, \"Country\": \"Canada\", \"Count\": 6}, {\"Year\": 1847, \"Country\": \"China\", \"Count\": 34}, {\"Year\": 1847, \"Country\": \"India\", \"Count\": 22}, {\"Year\": 1847, \"Country\": \"Pakistan\", \"Count\": 9}, {\"Year\": 1847, \"Country\": \"Russia\", \"Count\": 9}, {\"Year\": 1847, \"Country\": \"United States\", \"Count\": 44}, {\"Year\": 1848, \"Country\": \"Brazil\", \"Count\": 11}, {\"Year\": 1848, \"Country\": \"Canada\", \"Count\": 6}, {\"Year\": 1848, \"Country\": \"China\", \"Count\": 34}, {\"Year\": 1848, \"Country\": \"India\", \"Count\": 22}, {\"Year\": 1848, \"Country\": \"Pakistan\", \"Count\": 9}, {\"Year\": 1848, \"Country\": \"Russia\", \"Count\": 9}, {\"Year\": 1848, \"Country\": \"United States\", \"Count\": 44}, {\"Year\": 1849, \"Country\": \"Brazil\", \"Count\": 11}, {\"Year\": 1849, \"Country\": \"Canada\", \"Count\": 6}, {\"Year\": 1849, \"Country\": \"China\", \"Count\": 34}, {\"Year\": 1849, \"Country\": \"India\", \"Count\": 22}, {\"Year\": 1849, \"Country\": \"Pakistan\", \"Count\": 9}, {\"Year\": 1849, \"Country\": \"Russia\", \"Count\": 9}, {\"Year\": 1849, \"Country\": \"United States\", \"Count\": 52}, {\"Year\": 1850, \"Country\": \"Brazil\", \"Count\": 11}, {\"Year\": 1850, \"Country\": \"Canada\", \"Count\": 6}, {\"Year\": 1850, \"Country\": \"China\", \"Count\": 34}, {\"Year\": 1850, \"Country\": \"India\", \"Count\": 22}, {\"Year\": 1850, \"Country\": \"Pakistan\", \"Count\": 9}, {\"Year\": 1850, \"Country\": \"Russia\", \"Count\": 9}, {\"Year\": 1850, \"Country\": \"United States\", \"Count\": 52}, {\"Year\": 1851, \"Country\": \"Brazil\", \"Count\": 11}, {\"Year\": 1851, \"Country\": \"Canada\", \"Count\": 6}, {\"Year\": 1851, \"Country\": \"China\", \"Count\": 34}, {\"Year\": 1851, \"Country\": \"India\", \"Count\": 22}, {\"Year\": 1851, \"Country\": \"Pakistan\", \"Count\": 9}, {\"Year\": 1851, \"Country\": \"Russia\", \"Count\": 9}, {\"Year\": 1851, \"Country\": \"United States\", \"Count\": 52}, {\"Year\": 1852, \"Country\": \"Brazil\", \"Count\": 11}, {\"Year\": 1852, \"Country\": \"Canada\", \"Count\": 6}, {\"Year\": 1852, \"Country\": \"China\", \"Count\": 34}, {\"Year\": 1852, \"Country\": \"India\", \"Count\": 22}, {\"Year\": 1852, \"Country\": \"Pakistan\", \"Count\": 9}, {\"Year\": 1852, \"Country\": \"Russia\", \"Count\": 9}, {\"Year\": 1852, \"Country\": \"United States\", \"Count\": 52}, {\"Year\": 1853, \"Country\": \"Brazil\", \"Count\": 11}, {\"Year\": 1853, \"Country\": \"Canada\", \"Count\": 6}, {\"Year\": 1853, \"Country\": \"China\", \"Count\": 34}, {\"Year\": 1853, \"Country\": \"India\", \"Count\": 22}, {\"Year\": 1853, \"Country\": \"Pakistan\", \"Count\": 9}, {\"Year\": 1853, \"Country\": \"Russia\", \"Count\": 9}, {\"Year\": 1853, \"Country\": \"United States\", \"Count\": 52}, {\"Year\": 1854, \"Country\": \"Brazil\", \"Count\": 11}, {\"Year\": 1854, \"Country\": \"Canada\", \"Count\": 6}, {\"Year\": 1854, \"Country\": \"China\", \"Count\": 34}, {\"Year\": 1854, \"Country\": \"India\", \"Count\": 22}, {\"Year\": 1854, \"Country\": \"Pakistan\", \"Count\": 9}, {\"Year\": 1854, \"Country\": \"Russia\", \"Count\": 9}, {\"Year\": 1854, \"Country\": \"United States\", \"Count\": 52}, {\"Year\": 1855, \"Country\": \"Brazil\", \"Count\": 11}, {\"Year\": 1855, \"Country\": \"Canada\", \"Count\": 6}, {\"Year\": 1855, \"Country\": \"China\", \"Count\": 34}, {\"Year\": 1855, \"Country\": \"India\", \"Count\": 22}, {\"Year\": 1855, \"Country\": \"Pakistan\", \"Count\": 9}, {\"Year\": 1855, \"Country\": \"Russia\", \"Count\": 9}, {\"Year\": 1855, \"Country\": \"United States\", \"Count\": 52}, {\"Year\": 1856, \"Country\": \"Brazil\", \"Count\": 11}, {\"Year\": 1856, \"Country\": \"Canada\", \"Count\": 6}, {\"Year\": 1856, \"Country\": \"China\", \"Count\": 34}, {\"Year\": 1856, \"Country\": \"India\", \"Count\": 22}, {\"Year\": 1856, \"Country\": \"Pakistan\", \"Count\": 9}, {\"Year\": 1856, \"Country\": \"Russia\", \"Count\": 9}, {\"Year\": 1856, \"Country\": \"United States\", \"Count\": 52}, {\"Year\": 1857, \"Country\": \"Brazil\", \"Count\": 11}, {\"Year\": 1857, \"Country\": \"Canada\", \"Count\": 6}, {\"Year\": 1857, \"Country\": \"China\", \"Count\": 34}, {\"Year\": 1857, \"Country\": \"India\", \"Count\": 22}, {\"Year\": 1857, \"Country\": \"Pakistan\", \"Count\": 9}, {\"Year\": 1857, \"Country\": \"Russia\", \"Count\": 9}, {\"Year\": 1857, \"Country\": \"United States\", \"Count\": 52}, {\"Year\": 1858, \"Country\": \"Brazil\", \"Count\": 11}, {\"Year\": 1858, \"Country\": \"Canada\", \"Count\": 6}, {\"Year\": 1858, \"Country\": \"China\", \"Count\": 34}, {\"Year\": 1858, \"Country\": \"India\", \"Count\": 22}, {\"Year\": 1858, \"Country\": \"Pakistan\", \"Count\": 9}, {\"Year\": 1858, \"Country\": \"Russia\", \"Count\": 9}, {\"Year\": 1858, \"Country\": \"United States\", \"Count\": 52}, {\"Year\": 1859, \"Country\": \"Brazil\", \"Count\": 11}, {\"Year\": 1859, \"Country\": \"Canada\", \"Count\": 6}, {\"Year\": 1859, \"Country\": \"China\", \"Count\": 34}, {\"Year\": 1859, \"Country\": \"India\", \"Count\": 22}, {\"Year\": 1859, \"Country\": \"Pakistan\", \"Count\": 9}, {\"Year\": 1859, \"Country\": \"Russia\", \"Count\": 9}, {\"Year\": 1859, \"Country\": \"United States\", \"Count\": 52}, {\"Year\": 1860, \"Country\": \"Brazil\", \"Count\": 11}, {\"Year\": 1860, \"Country\": \"Canada\", \"Count\": 6}, {\"Year\": 1860, \"Country\": \"China\", \"Count\": 34}, {\"Year\": 1860, \"Country\": \"India\", \"Count\": 22}, {\"Year\": 1860, \"Country\": \"Pakistan\", \"Count\": 9}, {\"Year\": 1860, \"Country\": \"Russia\", \"Count\": 9}, {\"Year\": 1860, \"Country\": \"United States\", \"Count\": 52}, {\"Year\": 1861, \"Country\": \"Brazil\", \"Count\": 11}, {\"Year\": 1861, \"Country\": \"Canada\", \"Count\": 6}, {\"Year\": 1861, \"Country\": \"China\", \"Count\": 34}, {\"Year\": 1861, \"Country\": \"India\", \"Count\": 22}, {\"Year\": 1861, \"Country\": \"Pakistan\", \"Count\": 9}, {\"Year\": 1861, \"Country\": \"Russia\", \"Count\": 9}, {\"Year\": 1861, \"Country\": \"United States\", \"Count\": 52}, {\"Year\": 1862, \"Country\": \"Brazil\", \"Count\": 11}, {\"Year\": 1862, \"Country\": \"Canada\", \"Count\": 6}, {\"Year\": 1862, \"Country\": \"China\", \"Count\": 34}, {\"Year\": 1862, \"Country\": \"India\", \"Count\": 22}, {\"Year\": 1862, \"Country\": \"Pakistan\", \"Count\": 9}, {\"Year\": 1862, \"Country\": \"Russia\", \"Count\": 9}, {\"Year\": 1862, \"Country\": \"United States\", \"Count\": 52}, {\"Year\": 1863, \"Country\": \"Brazil\", \"Count\": 11}, {\"Year\": 1863, \"Country\": \"Canada\", \"Count\": 6}, {\"Year\": 1863, \"Country\": \"China\", \"Count\": 34}, {\"Year\": 1863, \"Country\": \"India\", \"Count\": 22}, {\"Year\": 1863, \"Country\": \"Pakistan\", \"Count\": 9}, {\"Year\": 1863, \"Country\": \"Russia\", \"Count\": 9}, {\"Year\": 1863, \"Country\": \"United States\", \"Count\": 52}, {\"Year\": 1864, \"Country\": \"Brazil\", \"Count\": 11}, {\"Year\": 1864, \"Country\": \"Canada\", \"Count\": 6}, {\"Year\": 1864, \"Country\": \"China\", \"Count\": 34}, {\"Year\": 1864, \"Country\": \"India\", \"Count\": 22}, {\"Year\": 1864, \"Country\": \"Pakistan\", \"Count\": 9}, {\"Year\": 1864, \"Country\": \"Russia\", \"Count\": 9}, {\"Year\": 1864, \"Country\": \"United States\", \"Count\": 52}, {\"Year\": 1865, \"Country\": \"Brazil\", \"Count\": 11}, {\"Year\": 1865, \"Country\": \"Canada\", \"Count\": 6}, {\"Year\": 1865, \"Country\": \"China\", \"Count\": 34}, {\"Year\": 1865, \"Country\": \"India\", \"Count\": 22}, {\"Year\": 1865, \"Country\": \"Pakistan\", \"Count\": 9}, {\"Year\": 1865, \"Country\": \"Russia\", \"Count\": 9}, {\"Year\": 1865, \"Country\": \"United States\", \"Count\": 52}, {\"Year\": 1866, \"Country\": \"Brazil\", \"Count\": 11}, {\"Year\": 1866, \"Country\": \"Canada\", \"Count\": 6}, {\"Year\": 1866, \"Country\": \"China\", \"Count\": 34}, {\"Year\": 1866, \"Country\": \"India\", \"Count\": 22}, {\"Year\": 1866, \"Country\": \"Pakistan\", \"Count\": 9}, {\"Year\": 1866, \"Country\": \"Russia\", \"Count\": 9}, {\"Year\": 1866, \"Country\": \"United States\", \"Count\": 52}, {\"Year\": 1867, \"Country\": \"Brazil\", \"Count\": 11}, {\"Year\": 1867, \"Country\": \"Canada\", \"Count\": 6}, {\"Year\": 1867, \"Country\": \"China\", \"Count\": 34}, {\"Year\": 1867, \"Country\": \"India\", \"Count\": 22}, {\"Year\": 1867, \"Country\": \"Pakistan\", \"Count\": 9}, {\"Year\": 1867, \"Country\": \"Russia\", \"Count\": 9}, {\"Year\": 1867, \"Country\": \"United States\", \"Count\": 52}, {\"Year\": 1868, \"Country\": \"Brazil\", \"Count\": 11}, {\"Year\": 1868, \"Country\": \"Canada\", \"Count\": 6}, {\"Year\": 1868, \"Country\": \"China\", \"Count\": 34}, {\"Year\": 1868, \"Country\": \"India\", \"Count\": 22}, {\"Year\": 1868, \"Country\": \"Pakistan\", \"Count\": 9}, {\"Year\": 1868, \"Country\": \"Russia\", \"Count\": 9}, {\"Year\": 1868, \"Country\": \"United States\", \"Count\": 52}, {\"Year\": 1869, \"Country\": \"Brazil\", \"Count\": 11}, {\"Year\": 1869, \"Country\": \"Canada\", \"Count\": 6}, {\"Year\": 1869, \"Country\": \"China\", \"Count\": 34}, {\"Year\": 1869, \"Country\": \"India\", \"Count\": 22}, {\"Year\": 1869, \"Country\": \"Pakistan\", \"Count\": 9}, {\"Year\": 1869, \"Country\": \"Russia\", \"Count\": 9}, {\"Year\": 1869, \"Country\": \"United States\", \"Count\": 52}, {\"Year\": 1870, \"Country\": \"Brazil\", \"Count\": 11}, {\"Year\": 1870, \"Country\": \"Canada\", \"Count\": 6}, {\"Year\": 1870, \"Country\": \"China\", \"Count\": 34}, {\"Year\": 1870, \"Country\": \"India\", \"Count\": 22}, {\"Year\": 1870, \"Country\": \"Pakistan\", \"Count\": 9}, {\"Year\": 1870, \"Country\": \"Russia\", \"Count\": 9}, {\"Year\": 1870, \"Country\": \"United States\", \"Count\": 52}, {\"Year\": 1871, \"Country\": \"Brazil\", \"Count\": 11}, {\"Year\": 1871, \"Country\": \"Canada\", \"Count\": 6}, {\"Year\": 1871, \"Country\": \"China\", \"Count\": 34}, {\"Year\": 1871, \"Country\": \"India\", \"Count\": 22}, {\"Year\": 1871, \"Country\": \"Pakistan\", \"Count\": 9}, {\"Year\": 1871, \"Country\": \"Russia\", \"Count\": 9}, {\"Year\": 1871, \"Country\": \"United States\", \"Count\": 52}, {\"Year\": 1872, \"Country\": \"Brazil\", \"Count\": 11}, {\"Year\": 1872, \"Country\": \"Canada\", \"Count\": 6}, {\"Year\": 1872, \"Country\": \"China\", \"Count\": 34}, {\"Year\": 1872, \"Country\": \"India\", \"Count\": 22}, {\"Year\": 1872, \"Country\": \"Pakistan\", \"Count\": 9}, {\"Year\": 1872, \"Country\": \"Russia\", \"Count\": 9}, {\"Year\": 1872, \"Country\": \"United States\", \"Count\": 52}, {\"Year\": 1873, \"Country\": \"Brazil\", \"Count\": 11}, {\"Year\": 1873, \"Country\": \"Canada\", \"Count\": 6}, {\"Year\": 1873, \"Country\": \"China\", \"Count\": 34}, {\"Year\": 1873, \"Country\": \"India\", \"Count\": 22}, {\"Year\": 1873, \"Country\": \"Pakistan\", \"Count\": 9}, {\"Year\": 1873, \"Country\": \"Russia\", \"Count\": 9}, {\"Year\": 1873, \"Country\": \"United States\", \"Count\": 52}, {\"Year\": 1874, \"Country\": \"Brazil\", \"Count\": 11}, {\"Year\": 1874, \"Country\": \"Canada\", \"Count\": 6}, {\"Year\": 1874, \"Country\": \"China\", \"Count\": 34}, {\"Year\": 1874, \"Country\": \"India\", \"Count\": 22}, {\"Year\": 1874, \"Country\": \"Pakistan\", \"Count\": 9}, {\"Year\": 1874, \"Country\": \"Russia\", \"Count\": 9}, {\"Year\": 1874, \"Country\": \"United States\", \"Count\": 52}, {\"Year\": 1875, \"Country\": \"Brazil\", \"Count\": 11}, {\"Year\": 1875, \"Country\": \"Canada\", \"Count\": 6}, {\"Year\": 1875, \"Country\": \"China\", \"Count\": 34}, {\"Year\": 1875, \"Country\": \"India\", \"Count\": 22}, {\"Year\": 1875, \"Country\": \"Pakistan\", \"Count\": 9}, {\"Year\": 1875, \"Country\": \"Russia\", \"Count\": 9}, {\"Year\": 1875, \"Country\": \"United States\", \"Count\": 52}, {\"Year\": 1876, \"Country\": \"Brazil\", \"Count\": 11}, {\"Year\": 1876, \"Country\": \"Canada\", \"Count\": 6}, {\"Year\": 1876, \"Country\": \"China\", \"Count\": 34}, {\"Year\": 1876, \"Country\": \"India\", \"Count\": 22}, {\"Year\": 1876, \"Country\": \"Pakistan\", \"Count\": 9}, {\"Year\": 1876, \"Country\": \"Russia\", \"Count\": 9}, {\"Year\": 1876, \"Country\": \"United States\", \"Count\": 52}, {\"Year\": 1877, \"Country\": \"Brazil\", \"Count\": 11}, {\"Year\": 1877, \"Country\": \"Canada\", \"Count\": 6}, {\"Year\": 1877, \"Country\": \"China\", \"Count\": 34}, {\"Year\": 1877, \"Country\": \"India\", \"Count\": 22}, {\"Year\": 1877, \"Country\": \"Pakistan\", \"Count\": 9}, {\"Year\": 1877, \"Country\": \"Russia\", \"Count\": 9}, {\"Year\": 1877, \"Country\": \"United States\", \"Count\": 52}, {\"Year\": 1878, \"Country\": \"Brazil\", \"Count\": 11}, {\"Year\": 1878, \"Country\": \"Canada\", \"Count\": 6}, {\"Year\": 1878, \"Country\": \"China\", \"Count\": 34}, {\"Year\": 1878, \"Country\": \"India\", \"Count\": 22}, {\"Year\": 1878, \"Country\": \"Pakistan\", \"Count\": 9}, {\"Year\": 1878, \"Country\": \"Russia\", \"Count\": 9}, {\"Year\": 1878, \"Country\": \"United States\", \"Count\": 52}, {\"Year\": 1879, \"Country\": \"Brazil\", \"Count\": 11}, {\"Year\": 1879, \"Country\": \"Canada\", \"Count\": 6}, {\"Year\": 1879, \"Country\": \"China\", \"Count\": 34}, {\"Year\": 1879, \"Country\": \"India\", \"Count\": 22}, {\"Year\": 1879, \"Country\": \"Pakistan\", \"Count\": 9}, {\"Year\": 1879, \"Country\": \"Russia\", \"Count\": 9}, {\"Year\": 1879, \"Country\": \"United States\", \"Count\": 52}, {\"Year\": 1880, \"Country\": \"Brazil\", \"Count\": 11}, {\"Year\": 1880, \"Country\": \"Canada\", \"Count\": 6}, {\"Year\": 1880, \"Country\": \"China\", \"Count\": 34}, {\"Year\": 1880, \"Country\": \"India\", \"Count\": 22}, {\"Year\": 1880, \"Country\": \"Pakistan\", \"Count\": 9}, {\"Year\": 1880, \"Country\": \"Russia\", \"Count\": 9}, {\"Year\": 1880, \"Country\": \"United States\", \"Count\": 52}, {\"Year\": 1881, \"Country\": \"Brazil\", \"Count\": 11}, {\"Year\": 1881, \"Country\": \"Canada\", \"Count\": 6}, {\"Year\": 1881, \"Country\": \"China\", \"Count\": 34}, {\"Year\": 1881, \"Country\": \"India\", \"Count\": 22}, {\"Year\": 1881, \"Country\": \"Pakistan\", \"Count\": 9}, {\"Year\": 1881, \"Country\": \"Russia\", \"Count\": 9}, {\"Year\": 1881, \"Country\": \"United States\", \"Count\": 52}, {\"Year\": 1882, \"Country\": \"Brazil\", \"Count\": 11}, {\"Year\": 1882, \"Country\": \"Canada\", \"Count\": 6}, {\"Year\": 1882, \"Country\": \"China\", \"Count\": 34}, {\"Year\": 1882, \"Country\": \"India\", \"Count\": 22}, {\"Year\": 1882, \"Country\": \"Pakistan\", \"Count\": 9}, {\"Year\": 1882, \"Country\": \"Russia\", \"Count\": 9}, {\"Year\": 1882, \"Country\": \"United States\", \"Count\": 52}, {\"Year\": 1883, \"Country\": \"Brazil\", \"Count\": 11}, {\"Year\": 1883, \"Country\": \"Canada\", \"Count\": 6}, {\"Year\": 1883, \"Country\": \"China\", \"Count\": 34}, {\"Year\": 1883, \"Country\": \"India\", \"Count\": 22}, {\"Year\": 1883, \"Country\": \"Pakistan\", \"Count\": 9}, {\"Year\": 1883, \"Country\": \"Russia\", \"Count\": 9}, {\"Year\": 1883, \"Country\": \"United States\", \"Count\": 52}, {\"Year\": 1884, \"Country\": \"Brazil\", \"Count\": 11}, {\"Year\": 1884, \"Country\": \"Canada\", \"Count\": 6}, {\"Year\": 1884, \"Country\": \"China\", \"Count\": 34}, {\"Year\": 1884, \"Country\": \"India\", \"Count\": 22}, {\"Year\": 1884, \"Country\": \"Pakistan\", \"Count\": 9}, {\"Year\": 1884, \"Country\": \"Russia\", \"Count\": 9}, {\"Year\": 1884, \"Country\": \"United States\", \"Count\": 52}, {\"Year\": 1885, \"Country\": \"Brazil\", \"Count\": 11}, {\"Year\": 1885, \"Country\": \"Canada\", \"Count\": 6}, {\"Year\": 1885, \"Country\": \"China\", \"Count\": 34}, {\"Year\": 1885, \"Country\": \"India\", \"Count\": 22}, {\"Year\": 1885, \"Country\": \"Pakistan\", \"Count\": 9}, {\"Year\": 1885, \"Country\": \"Russia\", \"Count\": 9}, {\"Year\": 1885, \"Country\": \"United States\", \"Count\": 52}, {\"Year\": 1886, \"Country\": \"Brazil\", \"Count\": 11}, {\"Year\": 1886, \"Country\": \"Canada\", \"Count\": 6}, {\"Year\": 1886, \"Country\": \"China\", \"Count\": 34}, {\"Year\": 1886, \"Country\": \"India\", \"Count\": 22}, {\"Year\": 1886, \"Country\": \"Pakistan\", \"Count\": 9}, {\"Year\": 1886, \"Country\": \"Russia\", \"Count\": 9}, {\"Year\": 1886, \"Country\": \"United States\", \"Count\": 52}, {\"Year\": 1887, \"Country\": \"Brazil\", \"Count\": 11}, {\"Year\": 1887, \"Country\": \"Canada\", \"Count\": 6}, {\"Year\": 1887, \"Country\": \"China\", \"Count\": 34}, {\"Year\": 1887, \"Country\": \"India\", \"Count\": 22}, {\"Year\": 1887, \"Country\": \"Pakistan\", \"Count\": 9}, {\"Year\": 1887, \"Country\": \"Russia\", \"Count\": 9}, {\"Year\": 1887, \"Country\": \"United States\", \"Count\": 52}, {\"Year\": 1888, \"Country\": \"Brazil\", \"Count\": 11}, {\"Year\": 1888, \"Country\": \"Canada\", \"Count\": 6}, {\"Year\": 1888, \"Country\": \"China\", \"Count\": 34}, {\"Year\": 1888, \"Country\": \"India\", \"Count\": 22}, {\"Year\": 1888, \"Country\": \"Pakistan\", \"Count\": 9}, {\"Year\": 1888, \"Country\": \"Russia\", \"Count\": 9}, {\"Year\": 1888, \"Country\": \"United States\", \"Count\": 52}, {\"Year\": 1889, \"Country\": \"Brazil\", \"Count\": 11}, {\"Year\": 1889, \"Country\": \"Canada\", \"Count\": 6}, {\"Year\": 1889, \"Country\": \"China\", \"Count\": 34}, {\"Year\": 1889, \"Country\": \"India\", \"Count\": 22}, {\"Year\": 1889, \"Country\": \"Pakistan\", \"Count\": 9}, {\"Year\": 1889, \"Country\": \"Russia\", \"Count\": 9}, {\"Year\": 1889, \"Country\": \"United States\", \"Count\": 52}, {\"Year\": 1890, \"Country\": \"Brazil\", \"Count\": 11}, {\"Year\": 1890, \"Country\": \"Canada\", \"Count\": 6}, {\"Year\": 1890, \"Country\": \"China\", \"Count\": 34}, {\"Year\": 1890, \"Country\": \"India\", \"Count\": 22}, {\"Year\": 1890, \"Country\": \"Pakistan\", \"Count\": 9}, {\"Year\": 1890, \"Country\": \"Russia\", \"Count\": 9}, {\"Year\": 1890, \"Country\": \"United States\", \"Count\": 52}, {\"Year\": 1891, \"Country\": \"Brazil\", \"Count\": 11}, {\"Year\": 1891, \"Country\": \"Canada\", \"Count\": 6}, {\"Year\": 1891, \"Country\": \"China\", \"Count\": 34}, {\"Year\": 1891, \"Country\": \"India\", \"Count\": 22}, {\"Year\": 1891, \"Country\": \"Pakistan\", \"Count\": 9}, {\"Year\": 1891, \"Country\": \"Russia\", \"Count\": 9}, {\"Year\": 1891, \"Country\": \"United States\", \"Count\": 52}, {\"Year\": 1892, \"Country\": \"Brazil\", \"Count\": 11}, {\"Year\": 1892, \"Country\": \"Canada\", \"Count\": 6}, {\"Year\": 1892, \"Country\": \"China\", \"Count\": 34}, {\"Year\": 1892, \"Country\": \"India\", \"Count\": 22}, {\"Year\": 1892, \"Country\": \"Pakistan\", \"Count\": 9}, {\"Year\": 1892, \"Country\": \"Russia\", \"Count\": 9}, {\"Year\": 1892, \"Country\": \"United States\", \"Count\": 52}, {\"Year\": 1893, \"Country\": \"Brazil\", \"Count\": 11}, {\"Year\": 1893, \"Country\": \"Canada\", \"Count\": 6}, {\"Year\": 1893, \"Country\": \"China\", \"Count\": 34}, {\"Year\": 1893, \"Country\": \"India\", \"Count\": 22}, {\"Year\": 1893, \"Country\": \"Pakistan\", \"Count\": 9}, {\"Year\": 1893, \"Country\": \"Russia\", \"Count\": 9}, {\"Year\": 1893, \"Country\": \"United States\", \"Count\": 52}, {\"Year\": 1894, \"Country\": \"Brazil\", \"Count\": 11}, {\"Year\": 1894, \"Country\": \"Canada\", \"Count\": 6}, {\"Year\": 1894, \"Country\": \"China\", \"Count\": 34}, {\"Year\": 1894, \"Country\": \"India\", \"Count\": 22}, {\"Year\": 1894, \"Country\": \"Pakistan\", \"Count\": 9}, {\"Year\": 1894, \"Country\": \"Russia\", \"Count\": 9}, {\"Year\": 1894, \"Country\": \"United States\", \"Count\": 52}, {\"Year\": 1895, \"Country\": \"Brazil\", \"Count\": 11}, {\"Year\": 1895, \"Country\": \"Canada\", \"Count\": 6}, {\"Year\": 1895, \"Country\": \"China\", \"Count\": 34}, {\"Year\": 1895, \"Country\": \"India\", \"Count\": 22}, {\"Year\": 1895, \"Country\": \"Pakistan\", \"Count\": 9}, {\"Year\": 1895, \"Country\": \"Russia\", \"Count\": 9}, {\"Year\": 1895, \"Country\": \"United States\", \"Count\": 52}, {\"Year\": 1896, \"Country\": \"Brazil\", \"Count\": 11}, {\"Year\": 1896, \"Country\": \"Canada\", \"Count\": 6}, {\"Year\": 1896, \"Country\": \"China\", \"Count\": 34}, {\"Year\": 1896, \"Country\": \"India\", \"Count\": 22}, {\"Year\": 1896, \"Country\": \"Pakistan\", \"Count\": 9}, {\"Year\": 1896, \"Country\": \"Russia\", \"Count\": 9}, {\"Year\": 1896, \"Country\": \"United States\", \"Count\": 52}, {\"Year\": 1897, \"Country\": \"Brazil\", \"Count\": 11}, {\"Year\": 1897, \"Country\": \"Canada\", \"Count\": 6}, {\"Year\": 1897, \"Country\": \"China\", \"Count\": 34}, {\"Year\": 1897, \"Country\": \"India\", \"Count\": 22}, {\"Year\": 1897, \"Country\": \"Pakistan\", \"Count\": 9}, {\"Year\": 1897, \"Country\": \"Russia\", \"Count\": 9}, {\"Year\": 1897, \"Country\": \"United States\", \"Count\": 52}, {\"Year\": 1898, \"Country\": \"Brazil\", \"Count\": 11}, {\"Year\": 1898, \"Country\": \"Canada\", \"Count\": 6}, {\"Year\": 1898, \"Country\": \"China\", \"Count\": 34}, {\"Year\": 1898, \"Country\": \"India\", \"Count\": 22}, {\"Year\": 1898, \"Country\": \"Pakistan\", \"Count\": 9}, {\"Year\": 1898, \"Country\": \"Russia\", \"Count\": 9}, {\"Year\": 1898, \"Country\": \"United States\", \"Count\": 52}, {\"Year\": 1899, \"Country\": \"Brazil\", \"Count\": 11}, {\"Year\": 1899, \"Country\": \"Canada\", \"Count\": 6}, {\"Year\": 1899, \"Country\": \"China\", \"Count\": 34}, {\"Year\": 1899, \"Country\": \"India\", \"Count\": 22}, {\"Year\": 1899, \"Country\": \"Pakistan\", \"Count\": 9}, {\"Year\": 1899, \"Country\": \"Russia\", \"Count\": 9}, {\"Year\": 1899, \"Country\": \"United States\", \"Count\": 52}, {\"Year\": 1900, \"Country\": \"Brazil\", \"Count\": 11}, {\"Year\": 1900, \"Country\": \"Canada\", \"Count\": 6}, {\"Year\": 1900, \"Country\": \"China\", \"Count\": 34}, {\"Year\": 1900, \"Country\": \"India\", \"Count\": 22}, {\"Year\": 1900, \"Country\": \"Pakistan\", \"Count\": 9}, {\"Year\": 1900, \"Country\": \"Russia\", \"Count\": 9}, {\"Year\": 1900, \"Country\": \"United States\", \"Count\": 52}, {\"Year\": 1901, \"Country\": \"Brazil\", \"Count\": 11}, {\"Year\": 1901, \"Country\": \"Canada\", \"Count\": 6}, {\"Year\": 1901, \"Country\": \"China\", \"Count\": 34}, {\"Year\": 1901, \"Country\": \"India\", \"Count\": 22}, {\"Year\": 1901, \"Country\": \"Pakistan\", \"Count\": 9}, {\"Year\": 1901, \"Country\": \"Russia\", \"Count\": 9}, {\"Year\": 1901, \"Country\": \"United States\", \"Count\": 52}, {\"Year\": 1902, \"Country\": \"Brazil\", \"Count\": 11}, {\"Year\": 1902, \"Country\": \"Canada\", \"Count\": 6}, {\"Year\": 1902, \"Country\": \"China\", \"Count\": 34}, {\"Year\": 1902, \"Country\": \"India\", \"Count\": 22}, {\"Year\": 1902, \"Country\": \"Pakistan\", \"Count\": 9}, {\"Year\": 1902, \"Country\": \"Russia\", \"Count\": 9}, {\"Year\": 1902, \"Country\": \"United States\", \"Count\": 52}, {\"Year\": 1903, \"Country\": \"Brazil\", \"Count\": 11}, {\"Year\": 1903, \"Country\": \"Canada\", \"Count\": 6}, {\"Year\": 1903, \"Country\": \"China\", \"Count\": 34}, {\"Year\": 1903, \"Country\": \"India\", \"Count\": 22}, {\"Year\": 1903, \"Country\": \"Pakistan\", \"Count\": 9}, {\"Year\": 1903, \"Country\": \"Russia\", \"Count\": 9}, {\"Year\": 1903, \"Country\": \"United States\", \"Count\": 52}, {\"Year\": 1904, \"Country\": \"Brazil\", \"Count\": 11}, {\"Year\": 1904, \"Country\": \"Canada\", \"Count\": 6}, {\"Year\": 1904, \"Country\": \"China\", \"Count\": 34}, {\"Year\": 1904, \"Country\": \"India\", \"Count\": 22}, {\"Year\": 1904, \"Country\": \"Pakistan\", \"Count\": 9}, {\"Year\": 1904, \"Country\": \"Russia\", \"Count\": 9}, {\"Year\": 1904, \"Country\": \"United States\", \"Count\": 52}, {\"Year\": 1905, \"Country\": \"Brazil\", \"Count\": 11}, {\"Year\": 1905, \"Country\": \"Canada\", \"Count\": 6}, {\"Year\": 1905, \"Country\": \"China\", \"Count\": 34}, {\"Year\": 1905, \"Country\": \"India\", \"Count\": 22}, {\"Year\": 1905, \"Country\": \"Pakistan\", \"Count\": 9}, {\"Year\": 1905, \"Country\": \"Russia\", \"Count\": 9}, {\"Year\": 1905, \"Country\": \"United States\", \"Count\": 52}, {\"Year\": 1906, \"Country\": \"Brazil\", \"Count\": 11}, {\"Year\": 1906, \"Country\": \"Canada\", \"Count\": 6}, {\"Year\": 1906, \"Country\": \"China\", \"Count\": 34}, {\"Year\": 1906, \"Country\": \"India\", \"Count\": 22}, {\"Year\": 1906, \"Country\": \"Pakistan\", \"Count\": 9}, {\"Year\": 1906, \"Country\": \"Russia\", \"Count\": 9}, {\"Year\": 1906, \"Country\": \"United States\", \"Count\": 52}, {\"Year\": 1907, \"Country\": \"Brazil\", \"Count\": 11}, {\"Year\": 1907, \"Country\": \"Canada\", \"Count\": 6}, {\"Year\": 1907, \"Country\": \"China\", \"Count\": 34}, {\"Year\": 1907, \"Country\": \"India\", \"Count\": 22}, {\"Year\": 1907, \"Country\": \"Pakistan\", \"Count\": 9}, {\"Year\": 1907, \"Country\": \"Russia\", \"Count\": 9}, {\"Year\": 1907, \"Country\": \"United States\", \"Count\": 52}, {\"Year\": 1908, \"Country\": \"Brazil\", \"Count\": 11}, {\"Year\": 1908, \"Country\": \"Canada\", \"Count\": 6}, {\"Year\": 1908, \"Country\": \"China\", \"Count\": 34}, {\"Year\": 1908, \"Country\": \"India\", \"Count\": 22}, {\"Year\": 1908, \"Country\": \"Pakistan\", \"Count\": 9}, {\"Year\": 1908, \"Country\": \"Russia\", \"Count\": 9}, {\"Year\": 1908, \"Country\": \"United States\", \"Count\": 52}, {\"Year\": 1909, \"Country\": \"Brazil\", \"Count\": 11}, {\"Year\": 1909, \"Country\": \"Canada\", \"Count\": 6}, {\"Year\": 1909, \"Country\": \"China\", \"Count\": 34}, {\"Year\": 1909, \"Country\": \"India\", \"Count\": 22}, {\"Year\": 1909, \"Country\": \"Pakistan\", \"Count\": 9}, {\"Year\": 1909, \"Country\": \"Russia\", \"Count\": 9}, {\"Year\": 1909, \"Country\": \"United States\", \"Count\": 52}, {\"Year\": 1910, \"Country\": \"Brazil\", \"Count\": 11}, {\"Year\": 1910, \"Country\": \"Canada\", \"Count\": 6}, {\"Year\": 1910, \"Country\": \"China\", \"Count\": 34}, {\"Year\": 1910, \"Country\": \"India\", \"Count\": 22}, {\"Year\": 1910, \"Country\": \"Pakistan\", \"Count\": 9}, {\"Year\": 1910, \"Country\": \"Russia\", \"Count\": 9}, {\"Year\": 1910, \"Country\": \"United States\", \"Count\": 52}, {\"Year\": 1911, \"Country\": \"Brazil\", \"Count\": 11}, {\"Year\": 1911, \"Country\": \"Canada\", \"Count\": 6}, {\"Year\": 1911, \"Country\": \"China\", \"Count\": 34}, {\"Year\": 1911, \"Country\": \"India\", \"Count\": 22}, {\"Year\": 1911, \"Country\": \"Pakistan\", \"Count\": 9}, {\"Year\": 1911, \"Country\": \"Russia\", \"Count\": 9}, {\"Year\": 1911, \"Country\": \"United States\", \"Count\": 52}, {\"Year\": 1912, \"Country\": \"Brazil\", \"Count\": 11}, {\"Year\": 1912, \"Country\": \"Canada\", \"Count\": 6}, {\"Year\": 1912, \"Country\": \"China\", \"Count\": 34}, {\"Year\": 1912, \"Country\": \"India\", \"Count\": 22}, {\"Year\": 1912, \"Country\": \"Pakistan\", \"Count\": 9}, {\"Year\": 1912, \"Country\": \"Russia\", \"Count\": 9}, {\"Year\": 1912, \"Country\": \"United States\", \"Count\": 52}, {\"Year\": 1913, \"Country\": \"Brazil\", \"Count\": 11}, {\"Year\": 1913, \"Country\": \"Canada\", \"Count\": 6}, {\"Year\": 1913, \"Country\": \"China\", \"Count\": 34}, {\"Year\": 1913, \"Country\": \"India\", \"Count\": 22}, {\"Year\": 1913, \"Country\": \"Pakistan\", \"Count\": 9}, {\"Year\": 1913, \"Country\": \"Russia\", \"Count\": 9}, {\"Year\": 1913, \"Country\": \"United States\", \"Count\": 52}, {\"Year\": 1914, \"Country\": \"Brazil\", \"Count\": 11}, {\"Year\": 1914, \"Country\": \"Canada\", \"Count\": 6}, {\"Year\": 1914, \"Country\": \"China\", \"Count\": 34}, {\"Year\": 1914, \"Country\": \"India\", \"Count\": 22}, {\"Year\": 1914, \"Country\": \"Pakistan\", \"Count\": 9}, {\"Year\": 1914, \"Country\": \"Russia\", \"Count\": 9}, {\"Year\": 1914, \"Country\": \"United States\", \"Count\": 52}, {\"Year\": 1915, \"Country\": \"Brazil\", \"Count\": 11}, {\"Year\": 1915, \"Country\": \"Canada\", \"Count\": 6}, {\"Year\": 1915, \"Country\": \"China\", \"Count\": 34}, {\"Year\": 1915, \"Country\": \"India\", \"Count\": 22}, {\"Year\": 1915, \"Country\": \"Pakistan\", \"Count\": 9}, {\"Year\": 1915, \"Country\": \"Russia\", \"Count\": 9}, {\"Year\": 1915, \"Country\": \"United States\", \"Count\": 52}, {\"Year\": 1916, \"Country\": \"Brazil\", \"Count\": 11}, {\"Year\": 1916, \"Country\": \"Canada\", \"Count\": 6}, {\"Year\": 1916, \"Country\": \"China\", \"Count\": 34}, {\"Year\": 1916, \"Country\": \"India\", \"Count\": 22}, {\"Year\": 1916, \"Country\": \"Pakistan\", \"Count\": 9}, {\"Year\": 1916, \"Country\": \"Russia\", \"Count\": 9}, {\"Year\": 1916, \"Country\": \"United States\", \"Count\": 52}, {\"Year\": 1917, \"Country\": \"Brazil\", \"Count\": 11}, {\"Year\": 1917, \"Country\": \"Canada\", \"Count\": 6}, {\"Year\": 1917, \"Country\": \"China\", \"Count\": 34}, {\"Year\": 1917, \"Country\": \"India\", \"Count\": 22}, {\"Year\": 1917, \"Country\": \"Pakistan\", \"Count\": 9}, {\"Year\": 1917, \"Country\": \"Russia\", \"Count\": 9}, {\"Year\": 1917, \"Country\": \"United States\", \"Count\": 52}, {\"Year\": 1918, \"Country\": \"Brazil\", \"Count\": 11}, {\"Year\": 1918, \"Country\": \"Canada\", \"Count\": 6}, {\"Year\": 1918, \"Country\": \"China\", \"Count\": 34}, {\"Year\": 1918, \"Country\": \"India\", \"Count\": 22}, {\"Year\": 1918, \"Country\": \"Pakistan\", \"Count\": 9}, {\"Year\": 1918, \"Country\": \"Russia\", \"Count\": 9}, {\"Year\": 1918, \"Country\": \"United States\", \"Count\": 52}, {\"Year\": 1919, \"Country\": \"Brazil\", \"Count\": 11}, {\"Year\": 1919, \"Country\": \"Canada\", \"Count\": 6}, {\"Year\": 1919, \"Country\": \"China\", \"Count\": 34}, {\"Year\": 1919, \"Country\": \"India\", \"Count\": 22}, {\"Year\": 1919, \"Country\": \"Pakistan\", \"Count\": 9}, {\"Year\": 1919, \"Country\": \"Russia\", \"Count\": 9}, {\"Year\": 1919, \"Country\": \"United States\", \"Count\": 52}, {\"Year\": 1920, \"Country\": \"Brazil\", \"Count\": 11}, {\"Year\": 1920, \"Country\": \"Canada\", \"Count\": 6}, {\"Year\": 1920, \"Country\": \"China\", \"Count\": 34}, {\"Year\": 1920, \"Country\": \"India\", \"Count\": 22}, {\"Year\": 1920, \"Country\": \"Pakistan\", \"Count\": 9}, {\"Year\": 1920, \"Country\": \"Russia\", \"Count\": 9}, {\"Year\": 1920, \"Country\": \"United States\", \"Count\": 52}, {\"Year\": 1921, \"Country\": \"Brazil\", \"Count\": 11}, {\"Year\": 1921, \"Country\": \"Canada\", \"Count\": 6}, {\"Year\": 1921, \"Country\": \"China\", \"Count\": 34}, {\"Year\": 1921, \"Country\": \"India\", \"Count\": 22}, {\"Year\": 1921, \"Country\": \"Pakistan\", \"Count\": 9}, {\"Year\": 1921, \"Country\": \"Russia\", \"Count\": 9}, {\"Year\": 1921, \"Country\": \"United States\", \"Count\": 52}, {\"Year\": 1922, \"Country\": \"Brazil\", \"Count\": 11}, {\"Year\": 1922, \"Country\": \"Canada\", \"Count\": 6}, {\"Year\": 1922, \"Country\": \"China\", \"Count\": 34}, {\"Year\": 1922, \"Country\": \"India\", \"Count\": 22}, {\"Year\": 1922, \"Country\": \"Pakistan\", \"Count\": 9}, {\"Year\": 1922, \"Country\": \"Russia\", \"Count\": 9}, {\"Year\": 1922, \"Country\": \"United States\", \"Count\": 52}, {\"Year\": 1923, \"Country\": \"Brazil\", \"Count\": 11}, {\"Year\": 1923, \"Country\": \"Canada\", \"Count\": 6}, {\"Year\": 1923, \"Country\": \"China\", \"Count\": 34}, {\"Year\": 1923, \"Country\": \"India\", \"Count\": 22}, {\"Year\": 1923, \"Country\": \"Pakistan\", \"Count\": 9}, {\"Year\": 1923, \"Country\": \"Russia\", \"Count\": 9}, {\"Year\": 1923, \"Country\": \"United States\", \"Count\": 52}, {\"Year\": 1924, \"Country\": \"Brazil\", \"Count\": 11}, {\"Year\": 1924, \"Country\": \"Canada\", \"Count\": 6}, {\"Year\": 1924, \"Country\": \"China\", \"Count\": 34}, {\"Year\": 1924, \"Country\": \"India\", \"Count\": 22}, {\"Year\": 1924, \"Country\": \"Pakistan\", \"Count\": 9}, {\"Year\": 1924, \"Country\": \"Russia\", \"Count\": 9}, {\"Year\": 1924, \"Country\": \"United States\", \"Count\": 52}, {\"Year\": 1925, \"Country\": \"Brazil\", \"Count\": 11}, {\"Year\": 1925, \"Country\": \"Canada\", \"Count\": 6}, {\"Year\": 1925, \"Country\": \"China\", \"Count\": 34}, {\"Year\": 1925, \"Country\": \"India\", \"Count\": 22}, {\"Year\": 1925, \"Country\": \"Pakistan\", \"Count\": 9}, {\"Year\": 1925, \"Country\": \"Russia\", \"Count\": 9}, {\"Year\": 1925, \"Country\": \"United States\", \"Count\": 52}, {\"Year\": 1926, \"Country\": \"Brazil\", \"Count\": 11}, {\"Year\": 1926, \"Country\": \"Canada\", \"Count\": 6}, {\"Year\": 1926, \"Country\": \"China\", \"Count\": 34}, {\"Year\": 1926, \"Country\": \"India\", \"Count\": 22}, {\"Year\": 1926, \"Country\": \"Pakistan\", \"Count\": 9}, {\"Year\": 1926, \"Country\": \"Russia\", \"Count\": 9}, {\"Year\": 1926, \"Country\": \"United States\", \"Count\": 52}, {\"Year\": 1927, \"Country\": \"Brazil\", \"Count\": 11}, {\"Year\": 1927, \"Country\": \"Canada\", \"Count\": 6}, {\"Year\": 1927, \"Country\": \"China\", \"Count\": 34}, {\"Year\": 1927, \"Country\": \"India\", \"Count\": 22}, {\"Year\": 1927, \"Country\": \"Pakistan\", \"Count\": 9}, {\"Year\": 1927, \"Country\": \"Russia\", \"Count\": 9}, {\"Year\": 1927, \"Country\": \"United States\", \"Count\": 52}, {\"Year\": 1928, \"Country\": \"Brazil\", \"Count\": 11}, {\"Year\": 1928, \"Country\": \"Canada\", \"Count\": 6}, {\"Year\": 1928, \"Country\": \"China\", \"Count\": 34}, {\"Year\": 1928, \"Country\": \"India\", \"Count\": 22}, {\"Year\": 1928, \"Country\": \"Pakistan\", \"Count\": 9}, {\"Year\": 1928, \"Country\": \"Russia\", \"Count\": 9}, {\"Year\": 1928, \"Country\": \"United States\", \"Count\": 52}, {\"Year\": 1929, \"Country\": \"Brazil\", \"Count\": 11}, {\"Year\": 1929, \"Country\": \"Canada\", \"Count\": 6}, {\"Year\": 1929, \"Country\": \"China\", \"Count\": 34}, {\"Year\": 1929, \"Country\": \"India\", \"Count\": 22}, {\"Year\": 1929, \"Country\": \"Pakistan\", \"Count\": 9}, {\"Year\": 1929, \"Country\": \"Russia\", \"Count\": 9}, {\"Year\": 1929, \"Country\": \"United States\", \"Count\": 52}, {\"Year\": 1930, \"Country\": \"Brazil\", \"Count\": 11}, {\"Year\": 1930, \"Country\": \"Canada\", \"Count\": 6}, {\"Year\": 1930, \"Country\": \"China\", \"Count\": 34}, {\"Year\": 1930, \"Country\": \"India\", \"Count\": 22}, {\"Year\": 1930, \"Country\": \"Pakistan\", \"Count\": 9}, {\"Year\": 1930, \"Country\": \"Russia\", \"Count\": 9}, {\"Year\": 1930, \"Country\": \"United States\", \"Count\": 52}, {\"Year\": 1931, \"Country\": \"Brazil\", \"Count\": 11}, {\"Year\": 1931, \"Country\": \"Canada\", \"Count\": 6}, {\"Year\": 1931, \"Country\": \"China\", \"Count\": 34}, {\"Year\": 1931, \"Country\": \"India\", \"Count\": 22}, {\"Year\": 1931, \"Country\": \"Pakistan\", \"Count\": 9}, {\"Year\": 1931, \"Country\": \"Russia\", \"Count\": 9}, {\"Year\": 1931, \"Country\": \"United States\", \"Count\": 52}, {\"Year\": 1932, \"Country\": \"Brazil\", \"Count\": 11}, {\"Year\": 1932, \"Country\": \"Canada\", \"Count\": 6}, {\"Year\": 1932, \"Country\": \"China\", \"Count\": 34}, {\"Year\": 1932, \"Country\": \"India\", \"Count\": 22}, {\"Year\": 1932, \"Country\": \"Pakistan\", \"Count\": 9}, {\"Year\": 1932, \"Country\": \"Russia\", \"Count\": 9}, {\"Year\": 1932, \"Country\": \"United States\", \"Count\": 52}, {\"Year\": 1933, \"Country\": \"Brazil\", \"Count\": 11}, {\"Year\": 1933, \"Country\": \"Canada\", \"Count\": 6}, {\"Year\": 1933, \"Country\": \"China\", \"Count\": 34}, {\"Year\": 1933, \"Country\": \"India\", \"Count\": 22}, {\"Year\": 1933, \"Country\": \"Pakistan\", \"Count\": 9}, {\"Year\": 1933, \"Country\": \"Russia\", \"Count\": 9}, {\"Year\": 1933, \"Country\": \"United States\", \"Count\": 52}, {\"Year\": 1934, \"Country\": \"Brazil\", \"Count\": 11}, {\"Year\": 1934, \"Country\": \"Canada\", \"Count\": 6}, {\"Year\": 1934, \"Country\": \"China\", \"Count\": 34}, {\"Year\": 1934, \"Country\": \"India\", \"Count\": 22}, {\"Year\": 1934, \"Country\": \"Pakistan\", \"Count\": 9}, {\"Year\": 1934, \"Country\": \"Russia\", \"Count\": 9}, {\"Year\": 1934, \"Country\": \"United States\", \"Count\": 52}, {\"Year\": 1935, \"Country\": \"Brazil\", \"Count\": 11}, {\"Year\": 1935, \"Country\": \"Canada\", \"Count\": 6}, {\"Year\": 1935, \"Country\": \"China\", \"Count\": 34}, {\"Year\": 1935, \"Country\": \"India\", \"Count\": 22}, {\"Year\": 1935, \"Country\": \"Pakistan\", \"Count\": 9}, {\"Year\": 1935, \"Country\": \"Russia\", \"Count\": 9}, {\"Year\": 1935, \"Country\": \"United States\", \"Count\": 52}, {\"Year\": 1936, \"Country\": \"Brazil\", \"Count\": 11}, {\"Year\": 1936, \"Country\": \"Canada\", \"Count\": 6}, {\"Year\": 1936, \"Country\": \"China\", \"Count\": 34}, {\"Year\": 1936, \"Country\": \"India\", \"Count\": 22}, {\"Year\": 1936, \"Country\": \"Pakistan\", \"Count\": 9}, {\"Year\": 1936, \"Country\": \"Russia\", \"Count\": 9}, {\"Year\": 1936, \"Country\": \"United States\", \"Count\": 52}, {\"Year\": 1937, \"Country\": \"Brazil\", \"Count\": 11}, {\"Year\": 1937, \"Country\": \"Canada\", \"Count\": 6}, {\"Year\": 1937, \"Country\": \"China\", \"Count\": 34}, {\"Year\": 1937, \"Country\": \"India\", \"Count\": 22}, {\"Year\": 1937, \"Country\": \"Pakistan\", \"Count\": 9}, {\"Year\": 1937, \"Country\": \"Russia\", \"Count\": 9}, {\"Year\": 1937, \"Country\": \"United States\", \"Count\": 52}, {\"Year\": 1938, \"Country\": \"Brazil\", \"Count\": 11}, {\"Year\": 1938, \"Country\": \"Canada\", \"Count\": 6}, {\"Year\": 1938, \"Country\": \"China\", \"Count\": 34}, {\"Year\": 1938, \"Country\": \"India\", \"Count\": 22}, {\"Year\": 1938, \"Country\": \"Pakistan\", \"Count\": 9}, {\"Year\": 1938, \"Country\": \"Russia\", \"Count\": 9}, {\"Year\": 1938, \"Country\": \"United States\", \"Count\": 52}, {\"Year\": 1939, \"Country\": \"Brazil\", \"Count\": 11}, {\"Year\": 1939, \"Country\": \"Canada\", \"Count\": 6}, {\"Year\": 1939, \"Country\": \"China\", \"Count\": 34}, {\"Year\": 1939, \"Country\": \"India\", \"Count\": 22}, {\"Year\": 1939, \"Country\": \"Pakistan\", \"Count\": 9}, {\"Year\": 1939, \"Country\": \"Russia\", \"Count\": 9}, {\"Year\": 1939, \"Country\": \"United States\", \"Count\": 52}, {\"Year\": 1940, \"Country\": \"Brazil\", \"Count\": 11}, {\"Year\": 1940, \"Country\": \"Canada\", \"Count\": 6}, {\"Year\": 1940, \"Country\": \"China\", \"Count\": 34}, {\"Year\": 1940, \"Country\": \"India\", \"Count\": 22}, {\"Year\": 1940, \"Country\": \"Pakistan\", \"Count\": 9}, {\"Year\": 1940, \"Country\": \"Russia\", \"Count\": 9}, {\"Year\": 1940, \"Country\": \"United States\", \"Count\": 52}, {\"Year\": 1941, \"Country\": \"Brazil\", \"Count\": 11}, {\"Year\": 1941, \"Country\": \"Canada\", \"Count\": 6}, {\"Year\": 1941, \"Country\": \"China\", \"Count\": 34}, {\"Year\": 1941, \"Country\": \"India\", \"Count\": 22}, {\"Year\": 1941, \"Country\": \"Pakistan\", \"Count\": 9}, {\"Year\": 1941, \"Country\": \"Russia\", \"Count\": 9}, {\"Year\": 1941, \"Country\": \"United States\", \"Count\": 52}, {\"Year\": 1942, \"Country\": \"Brazil\", \"Count\": 11}, {\"Year\": 1942, \"Country\": \"Canada\", \"Count\": 6}, {\"Year\": 1942, \"Country\": \"China\", \"Count\": 34}, {\"Year\": 1942, \"Country\": \"India\", \"Count\": 22}, {\"Year\": 1942, \"Country\": \"Pakistan\", \"Count\": 9}, {\"Year\": 1942, \"Country\": \"Russia\", \"Count\": 9}, {\"Year\": 1942, \"Country\": \"United States\", \"Count\": 52}, {\"Year\": 1943, \"Country\": \"Brazil\", \"Count\": 11}, {\"Year\": 1943, \"Country\": \"Canada\", \"Count\": 6}, {\"Year\": 1943, \"Country\": \"China\", \"Count\": 34}, {\"Year\": 1943, \"Country\": \"India\", \"Count\": 22}, {\"Year\": 1943, \"Country\": \"Pakistan\", \"Count\": 9}, {\"Year\": 1943, \"Country\": \"Russia\", \"Count\": 9}, {\"Year\": 1943, \"Country\": \"United States\", \"Count\": 52}, {\"Year\": 1944, \"Country\": \"Brazil\", \"Count\": 11}, {\"Year\": 1944, \"Country\": \"Canada\", \"Count\": 6}, {\"Year\": 1944, \"Country\": \"China\", \"Count\": 34}, {\"Year\": 1944, \"Country\": \"India\", \"Count\": 22}, {\"Year\": 1944, \"Country\": \"Pakistan\", \"Count\": 9}, {\"Year\": 1944, \"Country\": \"Russia\", \"Count\": 9}, {\"Year\": 1944, \"Country\": \"United States\", \"Count\": 52}, {\"Year\": 1945, \"Country\": \"Brazil\", \"Count\": 11}, {\"Year\": 1945, \"Country\": \"Canada\", \"Count\": 6}, {\"Year\": 1945, \"Country\": \"China\", \"Count\": 34}, {\"Year\": 1945, \"Country\": \"India\", \"Count\": 22}, {\"Year\": 1945, \"Country\": \"Pakistan\", \"Count\": 9}, {\"Year\": 1945, \"Country\": \"Russia\", \"Count\": 9}, {\"Year\": 1945, \"Country\": \"United States\", \"Count\": 52}, {\"Year\": 1946, \"Country\": \"Brazil\", \"Count\": 11}, {\"Year\": 1946, \"Country\": \"Canada\", \"Count\": 6}, {\"Year\": 1946, \"Country\": \"China\", \"Count\": 34}, {\"Year\": 1946, \"Country\": \"India\", \"Count\": 22}, {\"Year\": 1946, \"Country\": \"Pakistan\", \"Count\": 9}, {\"Year\": 1946, \"Country\": \"Russia\", \"Count\": 9}, {\"Year\": 1946, \"Country\": \"United States\", \"Count\": 52}, {\"Year\": 1947, \"Country\": \"Brazil\", \"Count\": 11}, {\"Year\": 1947, \"Country\": \"Canada\", \"Count\": 6}, {\"Year\": 1947, \"Country\": \"China\", \"Count\": 34}, {\"Year\": 1947, \"Country\": \"India\", \"Count\": 22}, {\"Year\": 1947, \"Country\": \"Pakistan\", \"Count\": 9}, {\"Year\": 1947, \"Country\": \"Russia\", \"Count\": 9}, {\"Year\": 1947, \"Country\": \"United States\", \"Count\": 52}, {\"Year\": 1948, \"Country\": \"Brazil\", \"Count\": 11}, {\"Year\": 1948, \"Country\": \"Canada\", \"Count\": 6}, {\"Year\": 1948, \"Country\": \"China\", \"Count\": 34}, {\"Year\": 1948, \"Country\": \"India\", \"Count\": 22}, {\"Year\": 1948, \"Country\": \"Pakistan\", \"Count\": 9}, {\"Year\": 1948, \"Country\": \"Russia\", \"Count\": 9}, {\"Year\": 1948, \"Country\": \"United States\", \"Count\": 52}, {\"Year\": 1949, \"Country\": \"Brazil\", \"Count\": 11}, {\"Year\": 1949, \"Country\": \"Canada\", \"Count\": 6}, {\"Year\": 1949, \"Country\": \"China\", \"Count\": 34}, {\"Year\": 1949, \"Country\": \"India\", \"Count\": 22}, {\"Year\": 1949, \"Country\": \"Pakistan\", \"Count\": 9}, {\"Year\": 1949, \"Country\": \"Russia\", \"Count\": 9}, {\"Year\": 1949, \"Country\": \"United States\", \"Count\": 52}, {\"Year\": 1950, \"Country\": \"Brazil\", \"Count\": 11}, {\"Year\": 1950, \"Country\": \"Canada\", \"Count\": 6}, {\"Year\": 1950, \"Country\": \"China\", \"Count\": 34}, {\"Year\": 1950, \"Country\": \"India\", \"Count\": 22}, {\"Year\": 1950, \"Country\": \"Pakistan\", \"Count\": 9}, {\"Year\": 1950, \"Country\": \"Russia\", \"Count\": 9}, {\"Year\": 1950, \"Country\": \"United States\", \"Count\": 52}, {\"Year\": 1951, \"Country\": \"Brazil\", \"Count\": 11}, {\"Year\": 1951, \"Country\": \"Canada\", \"Count\": 6}, {\"Year\": 1951, \"Country\": \"China\", \"Count\": 34}, {\"Year\": 1951, \"Country\": \"India\", \"Count\": 22}, {\"Year\": 1951, \"Country\": \"Pakistan\", \"Count\": 9}, {\"Year\": 1951, \"Country\": \"Russia\", \"Count\": 9}, {\"Year\": 1951, \"Country\": \"United States\", \"Count\": 52}, {\"Year\": 1952, \"Country\": \"Brazil\", \"Count\": 11}, {\"Year\": 1952, \"Country\": \"Canada\", \"Count\": 6}, {\"Year\": 1952, \"Country\": \"China\", \"Count\": 34}, {\"Year\": 1952, \"Country\": \"India\", \"Count\": 22}, {\"Year\": 1952, \"Country\": \"Pakistan\", \"Count\": 9}, {\"Year\": 1952, \"Country\": \"Russia\", \"Count\": 9}, {\"Year\": 1952, \"Country\": \"United States\", \"Count\": 52}, {\"Year\": 1953, \"Country\": \"Brazil\", \"Count\": 11}, {\"Year\": 1953, \"Country\": \"Canada\", \"Count\": 6}, {\"Year\": 1953, \"Country\": \"China\", \"Count\": 34}, {\"Year\": 1953, \"Country\": \"India\", \"Count\": 22}, {\"Year\": 1953, \"Country\": \"Pakistan\", \"Count\": 9}, {\"Year\": 1953, \"Country\": \"Russia\", \"Count\": 9}, {\"Year\": 1953, \"Country\": \"United States\", \"Count\": 52}, {\"Year\": 1954, \"Country\": \"Brazil\", \"Count\": 11}, {\"Year\": 1954, \"Country\": \"Canada\", \"Count\": 6}, {\"Year\": 1954, \"Country\": \"China\", \"Count\": 34}, {\"Year\": 1954, \"Country\": \"India\", \"Count\": 22}, {\"Year\": 1954, \"Country\": \"Pakistan\", \"Count\": 9}, {\"Year\": 1954, \"Country\": \"Russia\", \"Count\": 9}, {\"Year\": 1954, \"Country\": \"United States\", \"Count\": 52}, {\"Year\": 1955, \"Country\": \"Brazil\", \"Count\": 11}, {\"Year\": 1955, \"Country\": \"Canada\", \"Count\": 6}, {\"Year\": 1955, \"Country\": \"China\", \"Count\": 34}, {\"Year\": 1955, \"Country\": \"India\", \"Count\": 22}, {\"Year\": 1955, \"Country\": \"Pakistan\", \"Count\": 9}, {\"Year\": 1955, \"Country\": \"Russia\", \"Count\": 9}, {\"Year\": 1955, \"Country\": \"United States\", \"Count\": 52}, {\"Year\": 1956, \"Country\": \"Brazil\", \"Count\": 11}, {\"Year\": 1956, \"Country\": \"Canada\", \"Count\": 6}, {\"Year\": 1956, \"Country\": \"China\", \"Count\": 34}, {\"Year\": 1956, \"Country\": \"India\", \"Count\": 22}, {\"Year\": 1956, \"Country\": \"Pakistan\", \"Count\": 9}, {\"Year\": 1956, \"Country\": \"Russia\", \"Count\": 9}, {\"Year\": 1956, \"Country\": \"United States\", \"Count\": 52}, {\"Year\": 1957, \"Country\": \"Brazil\", \"Count\": 11}, {\"Year\": 1957, \"Country\": \"Canada\", \"Count\": 6}, {\"Year\": 1957, \"Country\": \"China\", \"Count\": 34}, {\"Year\": 1957, \"Country\": \"India\", \"Count\": 22}, {\"Year\": 1957, \"Country\": \"Pakistan\", \"Count\": 9}, {\"Year\": 1957, \"Country\": \"Russia\", \"Count\": 9}, {\"Year\": 1957, \"Country\": \"United States\", \"Count\": 52}, {\"Year\": 1958, \"Country\": \"Brazil\", \"Count\": 11}, {\"Year\": 1958, \"Country\": \"Canada\", \"Count\": 6}, {\"Year\": 1958, \"Country\": \"China\", \"Count\": 34}, {\"Year\": 1958, \"Country\": \"India\", \"Count\": 22}, {\"Year\": 1958, \"Country\": \"Pakistan\", \"Count\": 9}, {\"Year\": 1958, \"Country\": \"Russia\", \"Count\": 9}, {\"Year\": 1958, \"Country\": \"United States\", \"Count\": 52}, {\"Year\": 1959, \"Country\": \"Brazil\", \"Count\": 11}, {\"Year\": 1959, \"Country\": \"Canada\", \"Count\": 6}, {\"Year\": 1959, \"Country\": \"China\", \"Count\": 34}, {\"Year\": 1959, \"Country\": \"India\", \"Count\": 22}, {\"Year\": 1959, \"Country\": \"Pakistan\", \"Count\": 9}, {\"Year\": 1959, \"Country\": \"Russia\", \"Count\": 9}, {\"Year\": 1959, \"Country\": \"United States\", \"Count\": 52}, {\"Year\": 1960, \"Country\": \"Brazil\", \"Count\": 11}, {\"Year\": 1960, \"Country\": \"Canada\", \"Count\": 6}, {\"Year\": 1960, \"Country\": \"China\", \"Count\": 34}, {\"Year\": 1960, \"Country\": \"India\", \"Count\": 22}, {\"Year\": 1960, \"Country\": \"Pakistan\", \"Count\": 9}, {\"Year\": 1960, \"Country\": \"Russia\", \"Count\": 9}, {\"Year\": 1960, \"Country\": \"United States\", \"Count\": 52}, {\"Year\": 1961, \"Country\": \"Brazil\", \"Count\": 11}, {\"Year\": 1961, \"Country\": \"Canada\", \"Count\": 6}, {\"Year\": 1961, \"Country\": \"China\", \"Count\": 34}, {\"Year\": 1961, \"Country\": \"India\", \"Count\": 22}, {\"Year\": 1961, \"Country\": \"Pakistan\", \"Count\": 9}, {\"Year\": 1961, \"Country\": \"Russia\", \"Count\": 9}, {\"Year\": 1961, \"Country\": \"United States\", \"Count\": 52}, {\"Year\": 1962, \"Country\": \"Brazil\", \"Count\": 11}, {\"Year\": 1962, \"Country\": \"Canada\", \"Count\": 6}, {\"Year\": 1962, \"Country\": \"China\", \"Count\": 34}, {\"Year\": 1962, \"Country\": \"India\", \"Count\": 22}, {\"Year\": 1962, \"Country\": \"Pakistan\", \"Count\": 9}, {\"Year\": 1962, \"Country\": \"Russia\", \"Count\": 9}, {\"Year\": 1962, \"Country\": \"United States\", \"Count\": 52}, {\"Year\": 1963, \"Country\": \"Brazil\", \"Count\": 11}, {\"Year\": 1963, \"Country\": \"Canada\", \"Count\": 6}, {\"Year\": 1963, \"Country\": \"China\", \"Count\": 34}, {\"Year\": 1963, \"Country\": \"India\", \"Count\": 22}, {\"Year\": 1963, \"Country\": \"Pakistan\", \"Count\": 9}, {\"Year\": 1963, \"Country\": \"Russia\", \"Count\": 9}, {\"Year\": 1963, \"Country\": \"United States\", \"Count\": 52}, {\"Year\": 1964, \"Country\": \"Brazil\", \"Count\": 11}, {\"Year\": 1964, \"Country\": \"Canada\", \"Count\": 6}, {\"Year\": 1964, \"Country\": \"China\", \"Count\": 34}, {\"Year\": 1964, \"Country\": \"India\", \"Count\": 22}, {\"Year\": 1964, \"Country\": \"Pakistan\", \"Count\": 9}, {\"Year\": 1964, \"Country\": \"Russia\", \"Count\": 9}, {\"Year\": 1964, \"Country\": \"United States\", \"Count\": 52}, {\"Year\": 1965, \"Country\": \"Brazil\", \"Count\": 11}, {\"Year\": 1965, \"Country\": \"Canada\", \"Count\": 6}, {\"Year\": 1965, \"Country\": \"China\", \"Count\": 34}, {\"Year\": 1965, \"Country\": \"India\", \"Count\": 22}, {\"Year\": 1965, \"Country\": \"Pakistan\", \"Count\": 9}, {\"Year\": 1965, \"Country\": \"Russia\", \"Count\": 9}, {\"Year\": 1965, \"Country\": \"United States\", \"Count\": 52}, {\"Year\": 1966, \"Country\": \"Brazil\", \"Count\": 11}, {\"Year\": 1966, \"Country\": \"Canada\", \"Count\": 6}, {\"Year\": 1966, \"Country\": \"China\", \"Count\": 34}, {\"Year\": 1966, \"Country\": \"India\", \"Count\": 22}, {\"Year\": 1966, \"Country\": \"Pakistan\", \"Count\": 9}, {\"Year\": 1966, \"Country\": \"Russia\", \"Count\": 9}, {\"Year\": 1966, \"Country\": \"United States\", \"Count\": 52}, {\"Year\": 1967, \"Country\": \"Brazil\", \"Count\": 11}, {\"Year\": 1967, \"Country\": \"Canada\", \"Count\": 6}, {\"Year\": 1967, \"Country\": \"China\", \"Count\": 34}, {\"Year\": 1967, \"Country\": \"India\", \"Count\": 22}, {\"Year\": 1967, \"Country\": \"Pakistan\", \"Count\": 9}, {\"Year\": 1967, \"Country\": \"Russia\", \"Count\": 9}, {\"Year\": 1967, \"Country\": \"United States\", \"Count\": 52}, {\"Year\": 1968, \"Country\": \"Brazil\", \"Count\": 11}, {\"Year\": 1968, \"Country\": \"Canada\", \"Count\": 6}, {\"Year\": 1968, \"Country\": \"China\", \"Count\": 34}, {\"Year\": 1968, \"Country\": \"India\", \"Count\": 22}, {\"Year\": 1968, \"Country\": \"Pakistan\", \"Count\": 9}, {\"Year\": 1968, \"Country\": \"Russia\", \"Count\": 9}, {\"Year\": 1968, \"Country\": \"United States\", \"Count\": 52}, {\"Year\": 1969, \"Country\": \"Brazil\", \"Count\": 11}, {\"Year\": 1969, \"Country\": \"Canada\", \"Count\": 6}, {\"Year\": 1969, \"Country\": \"China\", \"Count\": 34}, {\"Year\": 1969, \"Country\": \"India\", \"Count\": 22}, {\"Year\": 1969, \"Country\": \"Pakistan\", \"Count\": 9}, {\"Year\": 1969, \"Country\": \"Russia\", \"Count\": 9}, {\"Year\": 1969, \"Country\": \"United States\", \"Count\": 52}, {\"Year\": 1970, \"Country\": \"Brazil\", \"Count\": 11}, {\"Year\": 1970, \"Country\": \"Canada\", \"Count\": 6}, {\"Year\": 1970, \"Country\": \"China\", \"Count\": 34}, {\"Year\": 1970, \"Country\": \"India\", \"Count\": 22}, {\"Year\": 1970, \"Country\": \"Pakistan\", \"Count\": 9}, {\"Year\": 1970, \"Country\": \"Russia\", \"Count\": 9}, {\"Year\": 1970, \"Country\": \"United States\", \"Count\": 52}, {\"Year\": 1971, \"Country\": \"Brazil\", \"Count\": 11}, {\"Year\": 1971, \"Country\": \"Canada\", \"Count\": 6}, {\"Year\": 1971, \"Country\": \"China\", \"Count\": 34}, {\"Year\": 1971, \"Country\": \"India\", \"Count\": 22}, {\"Year\": 1971, \"Country\": \"Pakistan\", \"Count\": 9}, {\"Year\": 1971, \"Country\": \"Russia\", \"Count\": 9}, {\"Year\": 1971, \"Country\": \"United States\", \"Count\": 52}, {\"Year\": 1972, \"Country\": \"Brazil\", \"Count\": 11}, {\"Year\": 1972, \"Country\": \"Canada\", \"Count\": 6}, {\"Year\": 1972, \"Country\": \"China\", \"Count\": 34}, {\"Year\": 1972, \"Country\": \"India\", \"Count\": 22}, {\"Year\": 1972, \"Country\": \"Pakistan\", \"Count\": 9}, {\"Year\": 1972, \"Country\": \"Russia\", \"Count\": 9}, {\"Year\": 1972, \"Country\": \"United States\", \"Count\": 52}, {\"Year\": 1973, \"Country\": \"Brazil\", \"Count\": 11}, {\"Year\": 1973, \"Country\": \"Canada\", \"Count\": 6}, {\"Year\": 1973, \"Country\": \"China\", \"Count\": 34}, {\"Year\": 1973, \"Country\": \"India\", \"Count\": 22}, {\"Year\": 1973, \"Country\": \"Pakistan\", \"Count\": 9}, {\"Year\": 1973, \"Country\": \"Russia\", \"Count\": 9}, {\"Year\": 1973, \"Country\": \"United States\", \"Count\": 52}, {\"Year\": 1974, \"Country\": \"Brazil\", \"Count\": 11}, {\"Year\": 1974, \"Country\": \"Canada\", \"Count\": 6}, {\"Year\": 1974, \"Country\": \"China\", \"Count\": 34}, {\"Year\": 1974, \"Country\": \"India\", \"Count\": 22}, {\"Year\": 1974, \"Country\": \"Pakistan\", \"Count\": 9}, {\"Year\": 1974, \"Country\": \"Russia\", \"Count\": 9}, {\"Year\": 1974, \"Country\": \"United States\", \"Count\": 52}, {\"Year\": 1975, \"Country\": \"Brazil\", \"Count\": 11}, {\"Year\": 1975, \"Country\": \"Canada\", \"Count\": 6}, {\"Year\": 1975, \"Country\": \"China\", \"Count\": 34}, {\"Year\": 1975, \"Country\": \"India\", \"Count\": 22}, {\"Year\": 1975, \"Country\": \"Pakistan\", \"Count\": 9}, {\"Year\": 1975, \"Country\": \"Russia\", \"Count\": 9}, {\"Year\": 1975, \"Country\": \"United States\", \"Count\": 52}, {\"Year\": 1976, \"Country\": \"Brazil\", \"Count\": 11}, {\"Year\": 1976, \"Country\": \"Canada\", \"Count\": 6}, {\"Year\": 1976, \"Country\": \"China\", \"Count\": 34}, {\"Year\": 1976, \"Country\": \"India\", \"Count\": 22}, {\"Year\": 1976, \"Country\": \"Pakistan\", \"Count\": 9}, {\"Year\": 1976, \"Country\": \"Russia\", \"Count\": 9}, {\"Year\": 1976, \"Country\": \"United States\", \"Count\": 52}, {\"Year\": 1977, \"Country\": \"Brazil\", \"Count\": 11}, {\"Year\": 1977, \"Country\": \"Canada\", \"Count\": 6}, {\"Year\": 1977, \"Country\": \"China\", \"Count\": 34}, {\"Year\": 1977, \"Country\": \"India\", \"Count\": 22}, {\"Year\": 1977, \"Country\": \"Pakistan\", \"Count\": 9}, {\"Year\": 1977, \"Country\": \"Russia\", \"Count\": 9}, {\"Year\": 1977, \"Country\": \"United States\", \"Count\": 52}, {\"Year\": 1978, \"Country\": \"Brazil\", \"Count\": 11}, {\"Year\": 1978, \"Country\": \"Canada\", \"Count\": 6}, {\"Year\": 1978, \"Country\": \"China\", \"Count\": 34}, {\"Year\": 1978, \"Country\": \"India\", \"Count\": 22}, {\"Year\": 1978, \"Country\": \"Pakistan\", \"Count\": 9}, {\"Year\": 1978, \"Country\": \"Russia\", \"Count\": 9}, {\"Year\": 1978, \"Country\": \"United States\", \"Count\": 52}, {\"Year\": 1979, \"Country\": \"Brazil\", \"Count\": 11}, {\"Year\": 1979, \"Country\": \"Canada\", \"Count\": 6}, {\"Year\": 1979, \"Country\": \"China\", \"Count\": 34}, {\"Year\": 1979, \"Country\": \"India\", \"Count\": 22}, {\"Year\": 1979, \"Country\": \"Pakistan\", \"Count\": 9}, {\"Year\": 1979, \"Country\": \"Russia\", \"Count\": 9}, {\"Year\": 1979, \"Country\": \"United States\", \"Count\": 52}, {\"Year\": 1980, \"Country\": \"Brazil\", \"Count\": 11}, {\"Year\": 1980, \"Country\": \"Canada\", \"Count\": 6}, {\"Year\": 1980, \"Country\": \"China\", \"Count\": 34}, {\"Year\": 1980, \"Country\": \"India\", \"Count\": 22}, {\"Year\": 1980, \"Country\": \"Pakistan\", \"Count\": 9}, {\"Year\": 1980, \"Country\": \"Russia\", \"Count\": 9}, {\"Year\": 1980, \"Country\": \"United States\", \"Count\": 52}, {\"Year\": 1981, \"Country\": \"Brazil\", \"Count\": 11}, {\"Year\": 1981, \"Country\": \"Canada\", \"Count\": 6}, {\"Year\": 1981, \"Country\": \"China\", \"Count\": 34}, {\"Year\": 1981, \"Country\": \"India\", \"Count\": 22}, {\"Year\": 1981, \"Country\": \"Pakistan\", \"Count\": 9}, {\"Year\": 1981, \"Country\": \"Russia\", \"Count\": 9}, {\"Year\": 1981, \"Country\": \"United States\", \"Count\": 52}, {\"Year\": 1982, \"Country\": \"Brazil\", \"Count\": 11}, {\"Year\": 1982, \"Country\": \"Canada\", \"Count\": 6}, {\"Year\": 1982, \"Country\": \"China\", \"Count\": 34}, {\"Year\": 1982, \"Country\": \"India\", \"Count\": 22}, {\"Year\": 1982, \"Country\": \"Pakistan\", \"Count\": 9}, {\"Year\": 1982, \"Country\": \"Russia\", \"Count\": 9}, {\"Year\": 1982, \"Country\": \"United States\", \"Count\": 52}, {\"Year\": 1983, \"Country\": \"Brazil\", \"Count\": 11}, {\"Year\": 1983, \"Country\": \"Canada\", \"Count\": 6}, {\"Year\": 1983, \"Country\": \"China\", \"Count\": 34}, {\"Year\": 1983, \"Country\": \"India\", \"Count\": 22}, {\"Year\": 1983, \"Country\": \"Pakistan\", \"Count\": 9}, {\"Year\": 1983, \"Country\": \"Russia\", \"Count\": 9}, {\"Year\": 1983, \"Country\": \"United States\", \"Count\": 52}, {\"Year\": 1984, \"Country\": \"Brazil\", \"Count\": 11}, {\"Year\": 1984, \"Country\": \"Canada\", \"Count\": 6}, {\"Year\": 1984, \"Country\": \"China\", \"Count\": 34}, {\"Year\": 1984, \"Country\": \"India\", \"Count\": 22}, {\"Year\": 1984, \"Country\": \"Pakistan\", \"Count\": 9}, {\"Year\": 1984, \"Country\": \"Russia\", \"Count\": 9}, {\"Year\": 1984, \"Country\": \"United States\", \"Count\": 52}, {\"Year\": 1985, \"Country\": \"Brazil\", \"Count\": 11}, {\"Year\": 1985, \"Country\": \"Canada\", \"Count\": 6}, {\"Year\": 1985, \"Country\": \"China\", \"Count\": 34}, {\"Year\": 1985, \"Country\": \"India\", \"Count\": 22}, {\"Year\": 1985, \"Country\": \"Pakistan\", \"Count\": 9}, {\"Year\": 1985, \"Country\": \"Russia\", \"Count\": 9}, {\"Year\": 1985, \"Country\": \"United States\", \"Count\": 52}, {\"Year\": 1986, \"Country\": \"Brazil\", \"Count\": 11}, {\"Year\": 1986, \"Country\": \"Canada\", \"Count\": 6}, {\"Year\": 1986, \"Country\": \"China\", \"Count\": 34}, {\"Year\": 1986, \"Country\": \"India\", \"Count\": 22}, {\"Year\": 1986, \"Country\": \"Pakistan\", \"Count\": 9}, {\"Year\": 1986, \"Country\": \"Russia\", \"Count\": 9}, {\"Year\": 1986, \"Country\": \"United States\", \"Count\": 52}, {\"Year\": 1987, \"Country\": \"Brazil\", \"Count\": 11}, {\"Year\": 1987, \"Country\": \"Canada\", \"Count\": 6}, {\"Year\": 1987, \"Country\": \"China\", \"Count\": 34}, {\"Year\": 1987, \"Country\": \"India\", \"Count\": 22}, {\"Year\": 1987, \"Country\": \"Pakistan\", \"Count\": 9}, {\"Year\": 1987, \"Country\": \"Russia\", \"Count\": 9}, {\"Year\": 1987, \"Country\": \"United States\", \"Count\": 52}, {\"Year\": 1988, \"Country\": \"Brazil\", \"Count\": 11}, {\"Year\": 1988, \"Country\": \"Canada\", \"Count\": 6}, {\"Year\": 1988, \"Country\": \"China\", \"Count\": 34}, {\"Year\": 1988, \"Country\": \"India\", \"Count\": 22}, {\"Year\": 1988, \"Country\": \"Pakistan\", \"Count\": 9}, {\"Year\": 1988, \"Country\": \"Russia\", \"Count\": 9}, {\"Year\": 1988, \"Country\": \"United States\", \"Count\": 52}, {\"Year\": 1989, \"Country\": \"Brazil\", \"Count\": 11}, {\"Year\": 1989, \"Country\": \"Canada\", \"Count\": 6}, {\"Year\": 1989, \"Country\": \"China\", \"Count\": 34}, {\"Year\": 1989, \"Country\": \"India\", \"Count\": 22}, {\"Year\": 1989, \"Country\": \"Pakistan\", \"Count\": 9}, {\"Year\": 1989, \"Country\": \"Russia\", \"Count\": 9}, {\"Year\": 1989, \"Country\": \"United States\", \"Count\": 52}, {\"Year\": 1990, \"Country\": \"Brazil\", \"Count\": 11}, {\"Year\": 1990, \"Country\": \"Canada\", \"Count\": 6}, {\"Year\": 1990, \"Country\": \"China\", \"Count\": 34}, {\"Year\": 1990, \"Country\": \"India\", \"Count\": 22}, {\"Year\": 1990, \"Country\": \"Pakistan\", \"Count\": 9}, {\"Year\": 1990, \"Country\": \"Russia\", \"Count\": 9}, {\"Year\": 1990, \"Country\": \"United States\", \"Count\": 52}, {\"Year\": 1991, \"Country\": \"Brazil\", \"Count\": 11}, {\"Year\": 1991, \"Country\": \"Canada\", \"Count\": 6}, {\"Year\": 1991, \"Country\": \"China\", \"Count\": 34}, {\"Year\": 1991, \"Country\": \"India\", \"Count\": 22}, {\"Year\": 1991, \"Country\": \"Pakistan\", \"Count\": 9}, {\"Year\": 1991, \"Country\": \"Russia\", \"Count\": 9}, {\"Year\": 1991, \"Country\": \"United States\", \"Count\": 52}, {\"Year\": 1992, \"Country\": \"Brazil\", \"Count\": 11}, {\"Year\": 1992, \"Country\": \"Canada\", \"Count\": 6}, {\"Year\": 1992, \"Country\": \"China\", \"Count\": 34}, {\"Year\": 1992, \"Country\": \"India\", \"Count\": 22}, {\"Year\": 1992, \"Country\": \"Pakistan\", \"Count\": 9}, {\"Year\": 1992, \"Country\": \"Russia\", \"Count\": 9}, {\"Year\": 1992, \"Country\": \"United States\", \"Count\": 52}, {\"Year\": 1993, \"Country\": \"Brazil\", \"Count\": 11}, {\"Year\": 1993, \"Country\": \"Canada\", \"Count\": 6}, {\"Year\": 1993, \"Country\": \"China\", \"Count\": 34}, {\"Year\": 1993, \"Country\": \"India\", \"Count\": 22}, {\"Year\": 1993, \"Country\": \"Pakistan\", \"Count\": 9}, {\"Year\": 1993, \"Country\": \"Russia\", \"Count\": 9}, {\"Year\": 1993, \"Country\": \"United States\", \"Count\": 52}, {\"Year\": 1994, \"Country\": \"Brazil\", \"Count\": 11}, {\"Year\": 1994, \"Country\": \"Canada\", \"Count\": 6}, {\"Year\": 1994, \"Country\": \"China\", \"Count\": 34}, {\"Year\": 1994, \"Country\": \"India\", \"Count\": 22}, {\"Year\": 1994, \"Country\": \"Pakistan\", \"Count\": 9}, {\"Year\": 1994, \"Country\": \"Russia\", \"Count\": 9}, {\"Year\": 1994, \"Country\": \"United States\", \"Count\": 52}, {\"Year\": 1995, \"Country\": \"Brazil\", \"Count\": 11}, {\"Year\": 1995, \"Country\": \"Canada\", \"Count\": 6}, {\"Year\": 1995, \"Country\": \"China\", \"Count\": 34}, {\"Year\": 1995, \"Country\": \"India\", \"Count\": 22}, {\"Year\": 1995, \"Country\": \"Pakistan\", \"Count\": 9}, {\"Year\": 1995, \"Country\": \"Russia\", \"Count\": 9}, {\"Year\": 1995, \"Country\": \"United States\", \"Count\": 52}, {\"Year\": 1996, \"Country\": \"Brazil\", \"Count\": 11}, {\"Year\": 1996, \"Country\": \"Canada\", \"Count\": 6}, {\"Year\": 1996, \"Country\": \"China\", \"Count\": 34}, {\"Year\": 1996, \"Country\": \"India\", \"Count\": 22}, {\"Year\": 1996, \"Country\": \"Pakistan\", \"Count\": 9}, {\"Year\": 1996, \"Country\": \"Russia\", \"Count\": 9}, {\"Year\": 1996, \"Country\": \"United States\", \"Count\": 52}, {\"Year\": 1997, \"Country\": \"Brazil\", \"Count\": 11}, {\"Year\": 1997, \"Country\": \"Canada\", \"Count\": 6}, {\"Year\": 1997, \"Country\": \"China\", \"Count\": 34}, {\"Year\": 1997, \"Country\": \"India\", \"Count\": 22}, {\"Year\": 1997, \"Country\": \"Pakistan\", \"Count\": 9}, {\"Year\": 1997, \"Country\": \"Russia\", \"Count\": 9}, {\"Year\": 1997, \"Country\": \"United States\", \"Count\": 52}, {\"Year\": 1998, \"Country\": \"Brazil\", \"Count\": 11}, {\"Year\": 1998, \"Country\": \"Canada\", \"Count\": 6}, {\"Year\": 1998, \"Country\": \"China\", \"Count\": 34}, {\"Year\": 1998, \"Country\": \"India\", \"Count\": 22}, {\"Year\": 1998, \"Country\": \"Pakistan\", \"Count\": 9}, {\"Year\": 1998, \"Country\": \"Russia\", \"Count\": 9}, {\"Year\": 1998, \"Country\": \"United States\", \"Count\": 52}, {\"Year\": 1999, \"Country\": \"Brazil\", \"Count\": 11}, {\"Year\": 1999, \"Country\": \"Canada\", \"Count\": 6}, {\"Year\": 1999, \"Country\": \"China\", \"Count\": 34}, {\"Year\": 1999, \"Country\": \"India\", \"Count\": 22}, {\"Year\": 1999, \"Country\": \"Pakistan\", \"Count\": 9}, {\"Year\": 1999, \"Country\": \"Russia\", \"Count\": 9}, {\"Year\": 1999, \"Country\": \"United States\", \"Count\": 52}, {\"Year\": 2000, \"Country\": \"Brazil\", \"Count\": 11}, {\"Year\": 2000, \"Country\": \"Canada\", \"Count\": 6}, {\"Year\": 2000, \"Country\": \"China\", \"Count\": 34}, {\"Year\": 2000, \"Country\": \"India\", \"Count\": 22}, {\"Year\": 2000, \"Country\": \"Pakistan\", \"Count\": 9}, {\"Year\": 2000, \"Country\": \"Russia\", \"Count\": 9}, {\"Year\": 2000, \"Country\": \"United States\", \"Count\": 52}, {\"Year\": 2001, \"Country\": \"Brazil\", \"Count\": 11}, {\"Year\": 2001, \"Country\": \"Canada\", \"Count\": 6}, {\"Year\": 2001, \"Country\": \"China\", \"Count\": 34}, {\"Year\": 2001, \"Country\": \"India\", \"Count\": 22}, {\"Year\": 2001, \"Country\": \"Pakistan\", \"Count\": 9}, {\"Year\": 2001, \"Country\": \"Russia\", \"Count\": 9}, {\"Year\": 2001, \"Country\": \"United States\", \"Count\": 52}, {\"Year\": 2002, \"Country\": \"Brazil\", \"Count\": 11}, {\"Year\": 2002, \"Country\": \"Canada\", \"Count\": 6}, {\"Year\": 2002, \"Country\": \"China\", \"Count\": 34}, {\"Year\": 2002, \"Country\": \"India\", \"Count\": 22}, {\"Year\": 2002, \"Country\": \"Pakistan\", \"Count\": 9}, {\"Year\": 2002, \"Country\": \"Russia\", \"Count\": 9}, {\"Year\": 2002, \"Country\": \"United States\", \"Count\": 52}, {\"Year\": 2003, \"Country\": \"Brazil\", \"Count\": 11}, {\"Year\": 2003, \"Country\": \"Canada\", \"Count\": 6}, {\"Year\": 2003, \"Country\": \"China\", \"Count\": 34}, {\"Year\": 2003, \"Country\": \"India\", \"Count\": 22}, {\"Year\": 2003, \"Country\": \"Pakistan\", \"Count\": 9}, {\"Year\": 2003, \"Country\": \"Russia\", \"Count\": 9}, {\"Year\": 2003, \"Country\": \"United States\", \"Count\": 52}, {\"Year\": 2004, \"Country\": \"Brazil\", \"Count\": 11}, {\"Year\": 2004, \"Country\": \"Canada\", \"Count\": 6}, {\"Year\": 2004, \"Country\": \"China\", \"Count\": 34}, {\"Year\": 2004, \"Country\": \"India\", \"Count\": 22}, {\"Year\": 2004, \"Country\": \"Pakistan\", \"Count\": 9}, {\"Year\": 2004, \"Country\": \"Russia\", \"Count\": 9}, {\"Year\": 2004, \"Country\": \"United States\", \"Count\": 52}, {\"Year\": 2005, \"Country\": \"Brazil\", \"Count\": 11}, {\"Year\": 2005, \"Country\": \"Canada\", \"Count\": 6}, {\"Year\": 2005, \"Country\": \"China\", \"Count\": 34}, {\"Year\": 2005, \"Country\": \"India\", \"Count\": 22}, {\"Year\": 2005, \"Country\": \"Pakistan\", \"Count\": 9}, {\"Year\": 2005, \"Country\": \"Russia\", \"Count\": 9}, {\"Year\": 2005, \"Country\": \"United States\", \"Count\": 52}, {\"Year\": 2006, \"Country\": \"Brazil\", \"Count\": 11}, {\"Year\": 2006, \"Country\": \"Canada\", \"Count\": 6}, {\"Year\": 2006, \"Country\": \"China\", \"Count\": 34}, {\"Year\": 2006, \"Country\": \"India\", \"Count\": 22}, {\"Year\": 2006, \"Country\": \"Pakistan\", \"Count\": 9}, {\"Year\": 2006, \"Country\": \"Russia\", \"Count\": 9}, {\"Year\": 2006, \"Country\": \"United States\", \"Count\": 52}, {\"Year\": 2007, \"Country\": \"Brazil\", \"Count\": 11}, {\"Year\": 2007, \"Country\": \"Canada\", \"Count\": 6}, {\"Year\": 2007, \"Country\": \"China\", \"Count\": 34}, {\"Year\": 2007, \"Country\": \"India\", \"Count\": 22}, {\"Year\": 2007, \"Country\": \"Pakistan\", \"Count\": 9}, {\"Year\": 2007, \"Country\": \"Russia\", \"Count\": 9}, {\"Year\": 2007, \"Country\": \"United States\", \"Count\": 52}, {\"Year\": 2008, \"Country\": \"Brazil\", \"Count\": 11}, {\"Year\": 2008, \"Country\": \"Canada\", \"Count\": 6}, {\"Year\": 2008, \"Country\": \"China\", \"Count\": 34}, {\"Year\": 2008, \"Country\": \"India\", \"Count\": 22}, {\"Year\": 2008, \"Country\": \"Pakistan\", \"Count\": 9}, {\"Year\": 2008, \"Country\": \"Russia\", \"Count\": 9}, {\"Year\": 2008, \"Country\": \"United States\", \"Count\": 52}, {\"Year\": 2009, \"Country\": \"Brazil\", \"Count\": 11}, {\"Year\": 2009, \"Country\": \"Canada\", \"Count\": 6}, {\"Year\": 2009, \"Country\": \"China\", \"Count\": 34}, {\"Year\": 2009, \"Country\": \"India\", \"Count\": 22}, {\"Year\": 2009, \"Country\": \"Pakistan\", \"Count\": 9}, {\"Year\": 2009, \"Country\": \"Russia\", \"Count\": 9}, {\"Year\": 2009, \"Country\": \"United States\", \"Count\": 52}, {\"Year\": 2010, \"Country\": \"Brazil\", \"Count\": 11}, {\"Year\": 2010, \"Country\": \"Canada\", \"Count\": 6}, {\"Year\": 2010, \"Country\": \"China\", \"Count\": 34}, {\"Year\": 2010, \"Country\": \"India\", \"Count\": 22}, {\"Year\": 2010, \"Country\": \"Pakistan\", \"Count\": 9}, {\"Year\": 2010, \"Country\": \"Russia\", \"Count\": 9}, {\"Year\": 2010, \"Country\": \"United States\", \"Count\": 52}, {\"Year\": 2011, \"Country\": \"Brazil\", \"Count\": 11}, {\"Year\": 2011, \"Country\": \"Canada\", \"Count\": 6}, {\"Year\": 2011, \"Country\": \"China\", \"Count\": 34}, {\"Year\": 2011, \"Country\": \"India\", \"Count\": 22}, {\"Year\": 2011, \"Country\": \"Pakistan\", \"Count\": 9}, {\"Year\": 2011, \"Country\": \"Russia\", \"Count\": 9}, {\"Year\": 2011, \"Country\": \"United States\", \"Count\": 52}, {\"Year\": 2012, \"Country\": \"Brazil\", \"Count\": 11}, {\"Year\": 2012, \"Country\": \"Canada\", \"Count\": 6}, {\"Year\": 2012, \"Country\": \"China\", \"Count\": 34}, {\"Year\": 2012, \"Country\": \"India\", \"Count\": 22}, {\"Year\": 2012, \"Country\": \"Pakistan\", \"Count\": 9}, {\"Year\": 2012, \"Country\": \"Russia\", \"Count\": 9}, {\"Year\": 2012, \"Country\": \"United States\", \"Count\": 52}, {\"Year\": 2013, \"Country\": \"Brazil\", \"Count\": 11}, {\"Year\": 2013, \"Country\": \"Canada\", \"Count\": 6}, {\"Year\": 2013, \"Country\": \"China\", \"Count\": 34}, {\"Year\": 2013, \"Country\": \"India\", \"Count\": 22}, {\"Year\": 2013, \"Country\": \"Pakistan\", \"Count\": 9}, {\"Year\": 2013, \"Country\": \"Russia\", \"Count\": 9}, {\"Year\": 2013, \"Country\": \"United States\", \"Count\": 52}]}}, {\"mode\": \"vega-lite\"});\n",
       "</script>"
      ],
      "text/plain": [
       "alt.Chart(...)"
      ]
     },
     "execution_count": 74,
     "metadata": {},
     "output_type": "execute_result"
    }
   ],
   "source": [
    "top_countries = duplicate_counts_temp.groupby('Country')['Count'].sum().nlargest(7).index.tolist()\n",
    "\n",
    "filtered_data = duplicate_counts_temp[duplicate_counts_temp['Country'].isin(top_countries)]\n",
    "\n",
    "chart = alt.Chart(filtered_data).mark_line().encode(\n",
    "    x='Year',\n",
    "    y='Count',\n",
    "    color='Country',\n",
    "    tooltip=['Year', 'Count', 'Country']\n",
    ").properties(\n",
    "    title='Duplicate Counts by Year for Top 7 Countries',\n",
    "    width=600,\n",
    "    height=300\n",
    ")\n",
    "\n",
    "chart"
   ]
  },
  {
   "cell_type": "markdown",
   "id": "51e44cbb-e4cc-4269-8a58-a7d4de0b2ebc",
   "metadata": {},
   "source": [
    "From this chart we can see that there a few countries with multiple duplicates per year consistently over time. Given that these are larger countries, these temperature values may represent different geographical areas within the country. Again, this can add some complication to our analysis given the missing information."
   ]
  },
  {
   "cell_type": "code",
   "execution_count": null,
   "id": "0e93c00e-1edf-4da2-a2bd-f40112226cd2",
   "metadata": {},
   "outputs": [],
   "source": []
  }
 ],
 "metadata": {
  "kernelspec": {
   "display_name": "milestone",
   "language": "python",
   "name": "milestone"
  },
  "language_info": {
   "codemirror_mode": {
    "name": "ipython",
    "version": 3
   },
   "file_extension": ".py",
   "mimetype": "text/x-python",
   "name": "python",
   "nbconvert_exporter": "python",
   "pygments_lexer": "ipython3",
   "version": "3.11.4"
  }
 },
 "nbformat": 4,
 "nbformat_minor": 5
}
