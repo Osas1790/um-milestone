{
 "cells": [
  {
   "cell_type": "markdown",
   "metadata": {},
   "source": [
    "### Data Cleaning\n",
    "\n",
    "Data cleaning is the process of identifying and correcting (or removing) errors and inconsistencies in data to improve its quality. This is a crucial step in the data preparation phase before analysis or model training. Dirty data can significantly distort the outcomes of any analytical process, leading to inaccurate or misleading conclusions.\n",
    "\n",
    "#### Common Data Cleaning Tasks\n",
    "- Handling Missing Values: Filling in missing values, imputing data, or deciding to remove rows or columns with missing data.\n",
    "- Removing Outliers: Identifying and removing the outliers that are not representative of the data distribution.\n",
    "- Normalization and Scaling: Converting numerical features to a similar scale.\n",
    "- Encoding Categorical Values: Transforming categorical variables into a format that can be used by machine learning algorithms, like one-hot encoding.\n",
    "\n",
    "#### Importance of Data Cleaning\n",
    "- Accuracy: Dirty data can lead to false conclusions and poor decisions.\n",
    "- Efficiency: Clean data speeds up the data analysis process by reducing the volume of erroneous data that needs to be processed.\n",
    "- Reliability: Consistent and high-quality data allows for more robust and reliable analytical models and algorithms.\n",
    "- Compliance: Ensuring that data is clean and high-quality can be essential for meeting legal and governance standards.\n",
    "- Integrity: Maintaining the integrity of datasets is crucial for any form of statistical or data-driven work.\n",
    "\n",
    "\n",
    "Data cleaning is labor-intensive and complex task that often requires domain-specific knowledge. However, it is a critical component of this milestone project, as it directly impacts the quality of the insights. Numerous tools and libraries will be use to assist in automating various aspects of this cleaning process."
   ]
  },
  {
   "cell_type": "code",
   "execution_count": 1,
   "metadata": {},
   "outputs": [],
   "source": [
    "import pandas as pd\n",
    "import numpy as np\n",
    "import altair as alt\n",
    "import geopandas as gpd\n",
    "import matplotlib.pyplot as plt\n",
    "import seaborn as sns\n",
    "from matplotlib.colors import Normalize\n",
    "from IPython.display import display, Markdown\n",
    "\n",
    "import warnings\n",
    "warnings.simplefilter(action='ignore', category=FutureWarning)"
   ]
  },
  {
   "cell_type": "code",
   "execution_count": 2,
   "metadata": {},
   "outputs": [],
   "source": [
    "pest_df = pd.read_csv('pesticides.csv')\n",
    "rain_df = pd.read_csv('rainfall.csv')\n",
    "temp_df = pd.read_csv('temp.csv')\n",
    "yield_df = pd.read_csv('yield.csv')"
   ]
  },
  {
   "cell_type": "code",
   "execution_count": 3,
   "metadata": {},
   "outputs": [
    {
     "data": {
      "text/html": [
       "<div>\n",
       "<style scoped>\n",
       "    .dataframe tbody tr th:only-of-type {\n",
       "        vertical-align: middle;\n",
       "    }\n",
       "\n",
       "    .dataframe tbody tr th {\n",
       "        vertical-align: top;\n",
       "    }\n",
       "\n",
       "    .dataframe thead th {\n",
       "        text-align: right;\n",
       "    }\n",
       "</style>\n",
       "<table border=\"1\" class=\"dataframe\">\n",
       "  <thead>\n",
       "    <tr style=\"text-align: right;\">\n",
       "      <th></th>\n",
       "      <th>Domain</th>\n",
       "      <th>Area</th>\n",
       "      <th>Element</th>\n",
       "      <th>Item</th>\n",
       "      <th>Year</th>\n",
       "      <th>Unit</th>\n",
       "      <th>Value</th>\n",
       "    </tr>\n",
       "  </thead>\n",
       "  <tbody>\n",
       "    <tr>\n",
       "      <th>0</th>\n",
       "      <td>Pesticides Use</td>\n",
       "      <td>Albania</td>\n",
       "      <td>Use</td>\n",
       "      <td>Pesticides (total)</td>\n",
       "      <td>1990</td>\n",
       "      <td>tonnes of active ingredients</td>\n",
       "      <td>121.0</td>\n",
       "    </tr>\n",
       "    <tr>\n",
       "      <th>1</th>\n",
       "      <td>Pesticides Use</td>\n",
       "      <td>Albania</td>\n",
       "      <td>Use</td>\n",
       "      <td>Pesticides (total)</td>\n",
       "      <td>1991</td>\n",
       "      <td>tonnes of active ingredients</td>\n",
       "      <td>121.0</td>\n",
       "    </tr>\n",
       "    <tr>\n",
       "      <th>2</th>\n",
       "      <td>Pesticides Use</td>\n",
       "      <td>Albania</td>\n",
       "      <td>Use</td>\n",
       "      <td>Pesticides (total)</td>\n",
       "      <td>1992</td>\n",
       "      <td>tonnes of active ingredients</td>\n",
       "      <td>121.0</td>\n",
       "    </tr>\n",
       "    <tr>\n",
       "      <th>3</th>\n",
       "      <td>Pesticides Use</td>\n",
       "      <td>Albania</td>\n",
       "      <td>Use</td>\n",
       "      <td>Pesticides (total)</td>\n",
       "      <td>1993</td>\n",
       "      <td>tonnes of active ingredients</td>\n",
       "      <td>121.0</td>\n",
       "    </tr>\n",
       "    <tr>\n",
       "      <th>4</th>\n",
       "      <td>Pesticides Use</td>\n",
       "      <td>Albania</td>\n",
       "      <td>Use</td>\n",
       "      <td>Pesticides (total)</td>\n",
       "      <td>1994</td>\n",
       "      <td>tonnes of active ingredients</td>\n",
       "      <td>201.0</td>\n",
       "    </tr>\n",
       "  </tbody>\n",
       "</table>\n",
       "</div>"
      ],
      "text/plain": [
       "           Domain     Area Element                Item  Year  \\\n",
       "0  Pesticides Use  Albania     Use  Pesticides (total)  1990   \n",
       "1  Pesticides Use  Albania     Use  Pesticides (total)  1991   \n",
       "2  Pesticides Use  Albania     Use  Pesticides (total)  1992   \n",
       "3  Pesticides Use  Albania     Use  Pesticides (total)  1993   \n",
       "4  Pesticides Use  Albania     Use  Pesticides (total)  1994   \n",
       "\n",
       "                           Unit  Value  \n",
       "0  tonnes of active ingredients  121.0  \n",
       "1  tonnes of active ingredients  121.0  \n",
       "2  tonnes of active ingredients  121.0  \n",
       "3  tonnes of active ingredients  121.0  \n",
       "4  tonnes of active ingredients  201.0  "
      ]
     },
     "execution_count": 3,
     "metadata": {},
     "output_type": "execute_result"
    }
   ],
   "source": [
    "# reading the dataset\n",
    "def read_dataset(file_path):\n",
    "    try:\n",
    "        pest_df = pd.read_csv(file_path)\n",
    "        return pest_df\n",
    "    except Exception as e:\n",
    "        return f'An error occured: {e}'\n",
    "    \n",
    "# reading the dataset\n",
    "pest_df = read_dataset('pesticides.csv')\n",
    "pest_df.head()"
   ]
  },
  {
   "cell_type": "markdown",
   "metadata": {},
   "source": [
    "# **Observations**\n"
   ]
  },
  {
   "cell_type": "markdown",
   "metadata": {},
   "source": [
    "#### **Pesticides file**\n",
    "- The dataset contains information about pesticide use across different years and areas (presumably countries).\n",
    "#### Attributes:\n",
    " - Domain: Appears to indicate the subject area of the data, which is 'Pesticides Use' in this case.\n",
    " - Area: The geographical area, which looks like the name of the country.\n",
    " - Element: Specifies what the data represents, i.e., 'Use' of pesticides.\n",
    " - Item: The type of pesticide used. It is listed as 'Pesticides (total)' in the initial rows.\n",
    " - Year: The year in which the data was collected.\n",
    " - Unit: The unit of measurement, which is 'tonnes of active ingredients'.\n",
    " - Value: The actual value, representing the amount of pesticides used."
   ]
  },
  {
   "cell_type": "code",
   "execution_count": 4,
   "metadata": {},
   "outputs": [
    {
     "data": {
      "text/html": [
       "<div>\n",
       "<style scoped>\n",
       "    .dataframe tbody tr th:only-of-type {\n",
       "        vertical-align: middle;\n",
       "    }\n",
       "\n",
       "    .dataframe tbody tr th {\n",
       "        vertical-align: top;\n",
       "    }\n",
       "\n",
       "    .dataframe thead th {\n",
       "        text-align: right;\n",
       "    }\n",
       "</style>\n",
       "<table border=\"1\" class=\"dataframe\">\n",
       "  <thead>\n",
       "    <tr style=\"text-align: right;\">\n",
       "      <th></th>\n",
       "      <th>Area</th>\n",
       "      <th>Year</th>\n",
       "      <th>average_rain_fall_mm_per_year</th>\n",
       "    </tr>\n",
       "  </thead>\n",
       "  <tbody>\n",
       "    <tr>\n",
       "      <th>0</th>\n",
       "      <td>Afghanistan</td>\n",
       "      <td>1985</td>\n",
       "      <td>327</td>\n",
       "    </tr>\n",
       "    <tr>\n",
       "      <th>1</th>\n",
       "      <td>Afghanistan</td>\n",
       "      <td>1986</td>\n",
       "      <td>327</td>\n",
       "    </tr>\n",
       "    <tr>\n",
       "      <th>2</th>\n",
       "      <td>Afghanistan</td>\n",
       "      <td>1987</td>\n",
       "      <td>327</td>\n",
       "    </tr>\n",
       "    <tr>\n",
       "      <th>3</th>\n",
       "      <td>Afghanistan</td>\n",
       "      <td>1989</td>\n",
       "      <td>327</td>\n",
       "    </tr>\n",
       "    <tr>\n",
       "      <th>4</th>\n",
       "      <td>Afghanistan</td>\n",
       "      <td>1990</td>\n",
       "      <td>327</td>\n",
       "    </tr>\n",
       "  </tbody>\n",
       "</table>\n",
       "</div>"
      ],
      "text/plain": [
       "          Area  Year average_rain_fall_mm_per_year\n",
       "0  Afghanistan  1985                           327\n",
       "1  Afghanistan  1986                           327\n",
       "2  Afghanistan  1987                           327\n",
       "3  Afghanistan  1989                           327\n",
       "4  Afghanistan  1990                           327"
      ]
     },
     "execution_count": 4,
     "metadata": {},
     "output_type": "execute_result"
    }
   ],
   "source": [
    "# reading the rainfall dataset\n",
    "rain_df = read_dataset('rainfall.csv')\n",
    "rain_df.head()"
   ]
  },
  {
   "cell_type": "markdown",
   "metadata": {},
   "source": [
    "#### **Rain file**\n",
    " - Area: This seems to represent geographical areas, likely countries with a 0 missing value\n",
    " - Year: This represents the year for the data point also with a 0 missing value\n",
    " - average_rain_fall_mm_per_year: This appears to represent the average rainfall in mm per year for the given area and year.\n",
    " and has a missing values of 774\n",
    " - Data type inconsistencies can hinder numerical analyses and visualizations. The presence of string data in what should be a numeric column (average_rain_fall_mm_per_year) will need conversion to float or integer for meaningful statistical operations.\n",
    " - The broad scope in terms of years and areas provides a rich dataset but also introduces complexity when combining with other datasets. Data alignment and aggregation may be needed."
   ]
  },
  {
   "cell_type": "code",
   "execution_count": 5,
   "metadata": {},
   "outputs": [
    {
     "data": {
      "text/html": [
       "<div>\n",
       "<style scoped>\n",
       "    .dataframe tbody tr th:only-of-type {\n",
       "        vertical-align: middle;\n",
       "    }\n",
       "\n",
       "    .dataframe tbody tr th {\n",
       "        vertical-align: top;\n",
       "    }\n",
       "\n",
       "    .dataframe thead th {\n",
       "        text-align: right;\n",
       "    }\n",
       "</style>\n",
       "<table border=\"1\" class=\"dataframe\">\n",
       "  <thead>\n",
       "    <tr style=\"text-align: right;\">\n",
       "      <th></th>\n",
       "      <th>year</th>\n",
       "      <th>country</th>\n",
       "      <th>avg_temp</th>\n",
       "    </tr>\n",
       "  </thead>\n",
       "  <tbody>\n",
       "    <tr>\n",
       "      <th>0</th>\n",
       "      <td>1849</td>\n",
       "      <td>Côte D'Ivoire</td>\n",
       "      <td>25.58</td>\n",
       "    </tr>\n",
       "    <tr>\n",
       "      <th>1</th>\n",
       "      <td>1850</td>\n",
       "      <td>Côte D'Ivoire</td>\n",
       "      <td>25.52</td>\n",
       "    </tr>\n",
       "    <tr>\n",
       "      <th>2</th>\n",
       "      <td>1851</td>\n",
       "      <td>Côte D'Ivoire</td>\n",
       "      <td>25.67</td>\n",
       "    </tr>\n",
       "    <tr>\n",
       "      <th>3</th>\n",
       "      <td>1852</td>\n",
       "      <td>Côte D'Ivoire</td>\n",
       "      <td>NaN</td>\n",
       "    </tr>\n",
       "    <tr>\n",
       "      <th>4</th>\n",
       "      <td>1853</td>\n",
       "      <td>Côte D'Ivoire</td>\n",
       "      <td>NaN</td>\n",
       "    </tr>\n",
       "  </tbody>\n",
       "</table>\n",
       "</div>"
      ],
      "text/plain": [
       "   year        country  avg_temp\n",
       "0  1849  Côte D'Ivoire     25.58\n",
       "1  1850  Côte D'Ivoire     25.52\n",
       "2  1851  Côte D'Ivoire     25.67\n",
       "3  1852  Côte D'Ivoire       NaN\n",
       "4  1853  Côte D'Ivoire       NaN"
      ]
     },
     "execution_count": 5,
     "metadata": {},
     "output_type": "execute_result"
    }
   ],
   "source": [
    "# reading the temperature dataset\n",
    "temp_df = read_dataset('temp.csv')\n",
    "temp_df.head()"
   ]
  },
  {
   "cell_type": "markdown",
   "metadata": {},
   "source": [
    "### **Temp.csv file**\n",
    "- The dataset contains information about average annual temperature across different years and countries.\n",
    "##### Attributes:\n",
    " - year: The year in which the data was collected and as 0 missing value\n",
    " - country: The name of the country and has 0 missing value.\n",
    " - avg_temp: The average annual temperature in presumably degrees Celsius (although the unit is not explicitly stated) with a missing values of 2,547."
   ]
  },
  {
   "cell_type": "code",
   "execution_count": 6,
   "metadata": {},
   "outputs": [
    {
     "data": {
      "text/html": [
       "<div>\n",
       "<style scoped>\n",
       "    .dataframe tbody tr th:only-of-type {\n",
       "        vertical-align: middle;\n",
       "    }\n",
       "\n",
       "    .dataframe tbody tr th {\n",
       "        vertical-align: top;\n",
       "    }\n",
       "\n",
       "    .dataframe thead th {\n",
       "        text-align: right;\n",
       "    }\n",
       "</style>\n",
       "<table border=\"1\" class=\"dataframe\">\n",
       "  <thead>\n",
       "    <tr style=\"text-align: right;\">\n",
       "      <th></th>\n",
       "      <th>Domain Code</th>\n",
       "      <th>Domain</th>\n",
       "      <th>Area Code</th>\n",
       "      <th>Area</th>\n",
       "      <th>Element Code</th>\n",
       "      <th>Element</th>\n",
       "      <th>Item Code</th>\n",
       "      <th>Item</th>\n",
       "      <th>Year Code</th>\n",
       "      <th>Year</th>\n",
       "      <th>Unit</th>\n",
       "      <th>Value</th>\n",
       "    </tr>\n",
       "  </thead>\n",
       "  <tbody>\n",
       "    <tr>\n",
       "      <th>0</th>\n",
       "      <td>QC</td>\n",
       "      <td>Crops</td>\n",
       "      <td>2</td>\n",
       "      <td>Afghanistan</td>\n",
       "      <td>5419</td>\n",
       "      <td>Yield</td>\n",
       "      <td>56</td>\n",
       "      <td>Maize</td>\n",
       "      <td>1961</td>\n",
       "      <td>1961</td>\n",
       "      <td>hg/ha</td>\n",
       "      <td>14000</td>\n",
       "    </tr>\n",
       "    <tr>\n",
       "      <th>1</th>\n",
       "      <td>QC</td>\n",
       "      <td>Crops</td>\n",
       "      <td>2</td>\n",
       "      <td>Afghanistan</td>\n",
       "      <td>5419</td>\n",
       "      <td>Yield</td>\n",
       "      <td>56</td>\n",
       "      <td>Maize</td>\n",
       "      <td>1962</td>\n",
       "      <td>1962</td>\n",
       "      <td>hg/ha</td>\n",
       "      <td>14000</td>\n",
       "    </tr>\n",
       "    <tr>\n",
       "      <th>2</th>\n",
       "      <td>QC</td>\n",
       "      <td>Crops</td>\n",
       "      <td>2</td>\n",
       "      <td>Afghanistan</td>\n",
       "      <td>5419</td>\n",
       "      <td>Yield</td>\n",
       "      <td>56</td>\n",
       "      <td>Maize</td>\n",
       "      <td>1963</td>\n",
       "      <td>1963</td>\n",
       "      <td>hg/ha</td>\n",
       "      <td>14260</td>\n",
       "    </tr>\n",
       "    <tr>\n",
       "      <th>3</th>\n",
       "      <td>QC</td>\n",
       "      <td>Crops</td>\n",
       "      <td>2</td>\n",
       "      <td>Afghanistan</td>\n",
       "      <td>5419</td>\n",
       "      <td>Yield</td>\n",
       "      <td>56</td>\n",
       "      <td>Maize</td>\n",
       "      <td>1964</td>\n",
       "      <td>1964</td>\n",
       "      <td>hg/ha</td>\n",
       "      <td>14257</td>\n",
       "    </tr>\n",
       "    <tr>\n",
       "      <th>4</th>\n",
       "      <td>QC</td>\n",
       "      <td>Crops</td>\n",
       "      <td>2</td>\n",
       "      <td>Afghanistan</td>\n",
       "      <td>5419</td>\n",
       "      <td>Yield</td>\n",
       "      <td>56</td>\n",
       "      <td>Maize</td>\n",
       "      <td>1965</td>\n",
       "      <td>1965</td>\n",
       "      <td>hg/ha</td>\n",
       "      <td>14400</td>\n",
       "    </tr>\n",
       "  </tbody>\n",
       "</table>\n",
       "</div>"
      ],
      "text/plain": [
       "  Domain Code Domain  Area Code         Area  Element Code Element  Item Code  \\\n",
       "0          QC  Crops          2  Afghanistan          5419   Yield         56   \n",
       "1          QC  Crops          2  Afghanistan          5419   Yield         56   \n",
       "2          QC  Crops          2  Afghanistan          5419   Yield         56   \n",
       "3          QC  Crops          2  Afghanistan          5419   Yield         56   \n",
       "4          QC  Crops          2  Afghanistan          5419   Yield         56   \n",
       "\n",
       "    Item  Year Code  Year   Unit  Value  \n",
       "0  Maize       1961  1961  hg/ha  14000  \n",
       "1  Maize       1962  1962  hg/ha  14000  \n",
       "2  Maize       1963  1963  hg/ha  14260  \n",
       "3  Maize       1964  1964  hg/ha  14257  \n",
       "4  Maize       1965  1965  hg/ha  14400  "
      ]
     },
     "execution_count": 6,
     "metadata": {},
     "output_type": "execute_result"
    }
   ],
   "source": [
    "# reading the yield dataset\n",
    "yield_df = read_dataset('yield.csv')\n",
    "yield_df.head()"
   ]
  },
  {
   "cell_type": "markdown",
   "metadata": {},
   "source": [
    "#### **Yield file**\n",
    "- The dataset contains 56,717 records and 12 columns.\n",
    "##### Attributes\n",
    " - Domain Code, Domain, Element Code, Element, and Unit: These columns contain only 1 unique value and are likely to be redundant for analysis.\n",
    " - Area Code and Area: Represent the geographical location with 212 unique areas.\n",
    " - Item Code and Item: Indicate the type of crop, with 10 unique crop types.\n",
    " - Year Code and Year: Represent the year data was collected, with 56 unique years.\n",
    " - Value: Represents crop yield and contains 36,815 unique values."
   ]
  },
  {
   "cell_type": "markdown",
   "metadata": {},
   "source": [
    "#### **Data Types**\n",
    "- The data types are mixed: integer types (Area Code, Element Code, Item Code, Year Code, Year, Value) and object types (Domain Code, Domain, Area, Element, Item, Unit).\n",
    "#### **Considerations for Analysis**\n",
    "Redundant columns from each files and Unit may be dropped during data preprocessing to streamline the dataset.\n",
    "Some columns contain string or object types and may need conversion to numerical types for analysis.\n",
    "The datasets seems to have multiple columns that provide similar or identical information in different formats (e.g., \"Domain Code\" and \"Domain\", \"Area Code\" and \"Area\", \"Element Code\" and \"Element\", \"Year Code\" and \"Year\"). These may need to be streamlined during the data preprocessing stage."
   ]
  },
  {
   "cell_type": "code",
   "execution_count": 7,
   "metadata": {},
   "outputs": [
    {
     "data": {
      "text/plain": [
       "{'Domain': 1,\n",
       " 'Area': 168,\n",
       " 'Element': 1,\n",
       " 'Item': 1,\n",
       " 'Year': 27,\n",
       " 'Unit': 1,\n",
       " 'Value': 2825}"
      ]
     },
     "execution_count": 7,
     "metadata": {},
     "output_type": "execute_result"
    }
   ],
   "source": [
    "# Define a function to count the number of unique values in each column of the dataset\n",
    "def count_unique(df):\n",
    "    \"\"\"\n",
    "    This function takes the DataFrame as an argument.\n",
    "    It returns a dictionary containing the count of unique values for each column.\n",
    "    \n",
    "    Parameters:\n",
    "    df (DataFrame): The DataFrame to analyze (DataFrame)\n",
    "    \n",
    "    Returns:\n",
    "    unique_count (dict): A dictionary containing the count of unique values for each column\n",
    "    \"\"\"\n",
    "    try:\n",
    "        unique_count = df.nunique().to_dict()\n",
    "        return unique_count\n",
    "    except Exception as e:\n",
    "        return f\"An error occurred: {e}\"\n",
    "\n",
    "# Count the number of unique values in the Pest DataFrame\n",
    "unique_pest = count_unique(pest_df)\n",
    "unique_pest"
   ]
  },
  {
   "cell_type": "markdown",
   "metadata": {},
   "source": [
    "#### **Findings**\n",
    "For Number of Unique Values in Pesticides Dataset (pesticides_df)\n",
    "- Domain: 1 unique value\n",
    "- Area: 168 unique areas or countries\n",
    "- Element: 1 unique value\n",
    "- Item: 1 unique item (likely representing a specific type of pesticide or aggregate measure)\n",
    "- Year: 27 unique years\n",
    "- Unit: 1 unique unit\n",
    "- Value: 2,825 unique pesticide usage values\n",
    "\n",
    "The Pesticides dataset contains data from 168 different areas or countries and spans 27 unique years. It seems to focus on a specific type or aggregate measure of pesticide, as indicated by the single unique item. The dataset has 2,825 unique pesticide usage values, suggesting a range of pesticide practices across different regions and timeframes."
   ]
  },
  {
   "cell_type": "code",
   "execution_count": 8,
   "metadata": {},
   "outputs": [
    {
     "data": {
      "text/plain": [
       "{' Area': 217, 'Year': 31, 'average_rain_fall_mm_per_year': 173}"
      ]
     },
     "execution_count": 8,
     "metadata": {},
     "output_type": "execute_result"
    }
   ],
   "source": [
    "# Count the number of unique values in the Rain DataFrame\n",
    "unique_rain = count_unique(rain_df)\n",
    "unique_rain"
   ]
  },
  {
   "cell_type": "markdown",
   "metadata": {},
   "source": [
    "#### **Findings**\n",
    "For Number of Unique Values in Rainfall Dataset (rainfall_df)\n",
    "- Area: 217 unique areas or countries\n",
    "- Year: 31 unique years\n",
    "- Average_Rain_Fall_mm_per_Year: 173 unique average rainfall values per year\n",
    "\n",
    "The Rainfall dataset contains data from 217 different areas or countries and spans 31 unique years. There are 173 unique values for average rainfall, indicating a variety of rainfall measurements across different regions and time periods"
   ]
  },
  {
   "cell_type": "code",
   "execution_count": 9,
   "metadata": {},
   "outputs": [
    {
     "data": {
      "text/plain": [
       "{'year': 271, 'country': 137, 'avg_temp': 3303}"
      ]
     },
     "execution_count": 9,
     "metadata": {},
     "output_type": "execute_result"
    }
   ],
   "source": [
    "# Count the number of unique values in the Temperature DataFrame\n",
    "unique_temp = count_unique(temp_df)\n",
    "unique_temp"
   ]
  },
  {
   "cell_type": "markdown",
   "metadata": {},
   "source": [
    "#### **Findings**\n",
    "For Number of Unique Values in Temperature Dataset (temp_df)\n",
    "- Year: 271 unique years\n",
    "- Country: 137 unique countries\n",
    "- Avg_Temp: 3,303 unique average temperature values\n",
    "\n",
    "The dataset spans 271 unique years and covers 137 different countries. The average temperature (avg_temp) has 3,303 unique values, which suggests a wide range of temperature data points across countries and years."
   ]
  },
  {
   "cell_type": "code",
   "execution_count": 10,
   "metadata": {},
   "outputs": [
    {
     "data": {
      "text/plain": [
       "{'Domain Code': 1,\n",
       " 'Domain': 1,\n",
       " 'Area Code': 212,\n",
       " 'Area': 212,\n",
       " 'Element Code': 1,\n",
       " 'Element': 1,\n",
       " 'Item Code': 10,\n",
       " 'Item': 10,\n",
       " 'Year Code': 56,\n",
       " 'Year': 56,\n",
       " 'Unit': 1,\n",
       " 'Value': 36815}"
      ]
     },
     "execution_count": 10,
     "metadata": {},
     "output_type": "execute_result"
    }
   ],
   "source": [
    "# Count the number of unique values in the Yield DataFrame\n",
    "unique_yield = count_unique(yield_df)\n",
    "unique_yield"
   ]
  },
  {
   "cell_type": "markdown",
   "metadata": {},
   "source": [
    "#### **Findings**\n",
    "For Number of Unique Values in Yield Dataset (yield_df)\n",
    "- Domain Code: 1 unique value\n",
    "- Domain: 1 unique value\n",
    "- Area Code: 212 unique area codes\n",
    "- Area: 212 unique areas or countries\n",
    "- Element Code: 1 unique value\n",
    "- Element: 1 unique value\n",
    "- Item Code: 10 unique item codes (likely representing different crops)\n",
    "- Item: 10 unique items (likely representing different crops)\n",
    "- Year Code: 56 unique year codes\n",
    "- ear: 56 unique years\n",
    "- Unit: 1 unique unit\n",
    "V- alue: 36,815 unique yield values\n",
    "\n",
    "The Yield dataset contains data from 212 different areas or countries and spans 56 unique years. There are 10 unique crops represented. The yield values are quite diverse, with 36,815 unique measurements.\n",
    "Many columns have only one unique value, indicating that they might not be very informative for the analysis."
   ]
  },
  {
   "cell_type": "markdown",
   "metadata": {},
   "source": [
    "### Renaming some columns"
   ]
  },
  {
   "cell_type": "code",
   "execution_count": 11,
   "metadata": {},
   "outputs": [
    {
     "data": {
      "text/html": [
       "<div>\n",
       "<style scoped>\n",
       "    .dataframe tbody tr th:only-of-type {\n",
       "        vertical-align: middle;\n",
       "    }\n",
       "\n",
       "    .dataframe tbody tr th {\n",
       "        vertical-align: top;\n",
       "    }\n",
       "\n",
       "    .dataframe thead th {\n",
       "        text-align: right;\n",
       "    }\n",
       "</style>\n",
       "<table border=\"1\" class=\"dataframe\">\n",
       "  <thead>\n",
       "    <tr style=\"text-align: right;\">\n",
       "      <th></th>\n",
       "      <th>Domain</th>\n",
       "      <th>Country</th>\n",
       "      <th>Element</th>\n",
       "      <th>Item</th>\n",
       "      <th>Year</th>\n",
       "      <th>Unit</th>\n",
       "      <th>Pesticides</th>\n",
       "    </tr>\n",
       "  </thead>\n",
       "  <tbody>\n",
       "    <tr>\n",
       "      <th>0</th>\n",
       "      <td>Pesticides Use</td>\n",
       "      <td>Albania</td>\n",
       "      <td>Use</td>\n",
       "      <td>Pesticides (total)</td>\n",
       "      <td>1990</td>\n",
       "      <td>tonnes of active ingredients</td>\n",
       "      <td>121.0</td>\n",
       "    </tr>\n",
       "    <tr>\n",
       "      <th>1</th>\n",
       "      <td>Pesticides Use</td>\n",
       "      <td>Albania</td>\n",
       "      <td>Use</td>\n",
       "      <td>Pesticides (total)</td>\n",
       "      <td>1991</td>\n",
       "      <td>tonnes of active ingredients</td>\n",
       "      <td>121.0</td>\n",
       "    </tr>\n",
       "    <tr>\n",
       "      <th>2</th>\n",
       "      <td>Pesticides Use</td>\n",
       "      <td>Albania</td>\n",
       "      <td>Use</td>\n",
       "      <td>Pesticides (total)</td>\n",
       "      <td>1992</td>\n",
       "      <td>tonnes of active ingredients</td>\n",
       "      <td>121.0</td>\n",
       "    </tr>\n",
       "    <tr>\n",
       "      <th>3</th>\n",
       "      <td>Pesticides Use</td>\n",
       "      <td>Albania</td>\n",
       "      <td>Use</td>\n",
       "      <td>Pesticides (total)</td>\n",
       "      <td>1993</td>\n",
       "      <td>tonnes of active ingredients</td>\n",
       "      <td>121.0</td>\n",
       "    </tr>\n",
       "    <tr>\n",
       "      <th>4</th>\n",
       "      <td>Pesticides Use</td>\n",
       "      <td>Albania</td>\n",
       "      <td>Use</td>\n",
       "      <td>Pesticides (total)</td>\n",
       "      <td>1994</td>\n",
       "      <td>tonnes of active ingredients</td>\n",
       "      <td>201.0</td>\n",
       "    </tr>\n",
       "  </tbody>\n",
       "</table>\n",
       "</div>"
      ],
      "text/plain": [
       "           Domain  Country Element                Item  Year  \\\n",
       "0  Pesticides Use  Albania     Use  Pesticides (total)  1990   \n",
       "1  Pesticides Use  Albania     Use  Pesticides (total)  1991   \n",
       "2  Pesticides Use  Albania     Use  Pesticides (total)  1992   \n",
       "3  Pesticides Use  Albania     Use  Pesticides (total)  1993   \n",
       "4  Pesticides Use  Albania     Use  Pesticides (total)  1994   \n",
       "\n",
       "                           Unit  Pesticides  \n",
       "0  tonnes of active ingredients       121.0  \n",
       "1  tonnes of active ingredients       121.0  \n",
       "2  tonnes of active ingredients       121.0  \n",
       "3  tonnes of active ingredients       121.0  \n",
       "4  tonnes of active ingredients       201.0  "
      ]
     },
     "execution_count": 11,
     "metadata": {},
     "output_type": "execute_result"
    }
   ],
   "source": [
    "# Define a function to rename columns in the Pesticides DataFrame\n",
    "def rename_columns(df):\n",
    "    \"\"\"\n",
    "    This function takes the Pesticides DataFrame as an argument and renames specific columns.\n",
    "    \n",
    "    Parameters:\n",
    "    df (DataFrame): The DataFrame to rename columns ( DataFrame)\n",
    "    \n",
    "    Returns:\n",
    "    df (DataFrame): The DataFrame with renamed columns\n",
    "    \"\"\"\n",
    "    try:\n",
    "        df.rename(columns={'Area': 'Country', 'Value': 'Pesticides'}, inplace=True)\n",
    "        return df\n",
    "    except Exception as e:\n",
    "        return f\"An error occurred: {e}\"\n",
    "\n",
    "# Test the function to rename columns for the pesticides DataFrame\n",
    "pest_df = rename_columns(pest_df)\n",
    "pest_df.head()"
   ]
  },
  {
   "cell_type": "code",
   "execution_count": 12,
   "metadata": {},
   "outputs": [
    {
     "data": {
      "text/html": [
       "<div>\n",
       "<style scoped>\n",
       "    .dataframe tbody tr th:only-of-type {\n",
       "        vertical-align: middle;\n",
       "    }\n",
       "\n",
       "    .dataframe tbody tr th {\n",
       "        vertical-align: top;\n",
       "    }\n",
       "\n",
       "    .dataframe thead th {\n",
       "        text-align: right;\n",
       "    }\n",
       "</style>\n",
       "<table border=\"1\" class=\"dataframe\">\n",
       "  <thead>\n",
       "    <tr style=\"text-align: right;\">\n",
       "      <th></th>\n",
       "      <th>Country</th>\n",
       "      <th>Year</th>\n",
       "      <th>Average_Rainfall</th>\n",
       "    </tr>\n",
       "  </thead>\n",
       "  <tbody>\n",
       "    <tr>\n",
       "      <th>0</th>\n",
       "      <td>Afghanistan</td>\n",
       "      <td>1985</td>\n",
       "      <td>327</td>\n",
       "    </tr>\n",
       "    <tr>\n",
       "      <th>1</th>\n",
       "      <td>Afghanistan</td>\n",
       "      <td>1986</td>\n",
       "      <td>327</td>\n",
       "    </tr>\n",
       "    <tr>\n",
       "      <th>2</th>\n",
       "      <td>Afghanistan</td>\n",
       "      <td>1987</td>\n",
       "      <td>327</td>\n",
       "    </tr>\n",
       "    <tr>\n",
       "      <th>3</th>\n",
       "      <td>Afghanistan</td>\n",
       "      <td>1989</td>\n",
       "      <td>327</td>\n",
       "    </tr>\n",
       "    <tr>\n",
       "      <th>4</th>\n",
       "      <td>Afghanistan</td>\n",
       "      <td>1990</td>\n",
       "      <td>327</td>\n",
       "    </tr>\n",
       "  </tbody>\n",
       "</table>\n",
       "</div>"
      ],
      "text/plain": [
       "       Country  Year Average_Rainfall\n",
       "0  Afghanistan  1985              327\n",
       "1  Afghanistan  1986              327\n",
       "2  Afghanistan  1987              327\n",
       "3  Afghanistan  1989              327\n",
       "4  Afghanistan  1990              327"
      ]
     },
     "execution_count": 12,
     "metadata": {},
     "output_type": "execute_result"
    }
   ],
   "source": [
    "rain_df.rename(columns={' Area': 'Country', 'average_rain_fall_mm_per_year': 'Average_Rainfall'}, inplace=True)\n",
    "# Test the function to rename columns for the rain DataFrame\n",
    "rain_df = rename_columns(rain_df)\n",
    "rain_df.head()"
   ]
  },
  {
   "cell_type": "code",
   "execution_count": 13,
   "metadata": {},
   "outputs": [
    {
     "data": {
      "text/html": [
       "<div>\n",
       "<style scoped>\n",
       "    .dataframe tbody tr th:only-of-type {\n",
       "        vertical-align: middle;\n",
       "    }\n",
       "\n",
       "    .dataframe tbody tr th {\n",
       "        vertical-align: top;\n",
       "    }\n",
       "\n",
       "    .dataframe thead th {\n",
       "        text-align: right;\n",
       "    }\n",
       "</style>\n",
       "<table border=\"1\" class=\"dataframe\">\n",
       "  <thead>\n",
       "    <tr style=\"text-align: right;\">\n",
       "      <th></th>\n",
       "      <th>Year</th>\n",
       "      <th>Country</th>\n",
       "      <th>Average_Temperature</th>\n",
       "    </tr>\n",
       "  </thead>\n",
       "  <tbody>\n",
       "    <tr>\n",
       "      <th>0</th>\n",
       "      <td>1849</td>\n",
       "      <td>Côte D'Ivoire</td>\n",
       "      <td>25.58</td>\n",
       "    </tr>\n",
       "    <tr>\n",
       "      <th>1</th>\n",
       "      <td>1850</td>\n",
       "      <td>Côte D'Ivoire</td>\n",
       "      <td>25.52</td>\n",
       "    </tr>\n",
       "    <tr>\n",
       "      <th>2</th>\n",
       "      <td>1851</td>\n",
       "      <td>Côte D'Ivoire</td>\n",
       "      <td>25.67</td>\n",
       "    </tr>\n",
       "    <tr>\n",
       "      <th>3</th>\n",
       "      <td>1852</td>\n",
       "      <td>Côte D'Ivoire</td>\n",
       "      <td>NaN</td>\n",
       "    </tr>\n",
       "    <tr>\n",
       "      <th>4</th>\n",
       "      <td>1853</td>\n",
       "      <td>Côte D'Ivoire</td>\n",
       "      <td>NaN</td>\n",
       "    </tr>\n",
       "  </tbody>\n",
       "</table>\n",
       "</div>"
      ],
      "text/plain": [
       "   Year        Country  Average_Temperature\n",
       "0  1849  Côte D'Ivoire                25.58\n",
       "1  1850  Côte D'Ivoire                25.52\n",
       "2  1851  Côte D'Ivoire                25.67\n",
       "3  1852  Côte D'Ivoire                  NaN\n",
       "4  1853  Côte D'Ivoire                  NaN"
      ]
     },
     "execution_count": 13,
     "metadata": {},
     "output_type": "execute_result"
    }
   ],
   "source": [
    "temp_df.rename(columns={'year': 'Year', 'country': 'Country', 'avg_temp': 'Average_Temperature'}, inplace=True)\n",
    "# Test the function to rename columns for the Temperature DataFrame\n",
    "temp_df = rename_columns(temp_df)\n",
    "temp_df.head()"
   ]
  },
  {
   "cell_type": "code",
   "execution_count": 14,
   "metadata": {},
   "outputs": [
    {
     "data": {
      "text/html": [
       "<div>\n",
       "<style scoped>\n",
       "    .dataframe tbody tr th:only-of-type {\n",
       "        vertical-align: middle;\n",
       "    }\n",
       "\n",
       "    .dataframe tbody tr th {\n",
       "        vertical-align: top;\n",
       "    }\n",
       "\n",
       "    .dataframe thead th {\n",
       "        text-align: right;\n",
       "    }\n",
       "</style>\n",
       "<table border=\"1\" class=\"dataframe\">\n",
       "  <thead>\n",
       "    <tr style=\"text-align: right;\">\n",
       "      <th></th>\n",
       "      <th>Domain Code</th>\n",
       "      <th>Domain</th>\n",
       "      <th>Area Code</th>\n",
       "      <th>Country</th>\n",
       "      <th>Element Code</th>\n",
       "      <th>Element</th>\n",
       "      <th>Item Code</th>\n",
       "      <th>Item</th>\n",
       "      <th>Year Code</th>\n",
       "      <th>Year</th>\n",
       "      <th>Unit</th>\n",
       "      <th>Yield</th>\n",
       "    </tr>\n",
       "  </thead>\n",
       "  <tbody>\n",
       "    <tr>\n",
       "      <th>0</th>\n",
       "      <td>QC</td>\n",
       "      <td>Crops</td>\n",
       "      <td>2</td>\n",
       "      <td>Afghanistan</td>\n",
       "      <td>5419</td>\n",
       "      <td>Yield</td>\n",
       "      <td>56</td>\n",
       "      <td>Maize</td>\n",
       "      <td>1961</td>\n",
       "      <td>1961</td>\n",
       "      <td>hg/ha</td>\n",
       "      <td>14000</td>\n",
       "    </tr>\n",
       "    <tr>\n",
       "      <th>1</th>\n",
       "      <td>QC</td>\n",
       "      <td>Crops</td>\n",
       "      <td>2</td>\n",
       "      <td>Afghanistan</td>\n",
       "      <td>5419</td>\n",
       "      <td>Yield</td>\n",
       "      <td>56</td>\n",
       "      <td>Maize</td>\n",
       "      <td>1962</td>\n",
       "      <td>1962</td>\n",
       "      <td>hg/ha</td>\n",
       "      <td>14000</td>\n",
       "    </tr>\n",
       "    <tr>\n",
       "      <th>2</th>\n",
       "      <td>QC</td>\n",
       "      <td>Crops</td>\n",
       "      <td>2</td>\n",
       "      <td>Afghanistan</td>\n",
       "      <td>5419</td>\n",
       "      <td>Yield</td>\n",
       "      <td>56</td>\n",
       "      <td>Maize</td>\n",
       "      <td>1963</td>\n",
       "      <td>1963</td>\n",
       "      <td>hg/ha</td>\n",
       "      <td>14260</td>\n",
       "    </tr>\n",
       "    <tr>\n",
       "      <th>3</th>\n",
       "      <td>QC</td>\n",
       "      <td>Crops</td>\n",
       "      <td>2</td>\n",
       "      <td>Afghanistan</td>\n",
       "      <td>5419</td>\n",
       "      <td>Yield</td>\n",
       "      <td>56</td>\n",
       "      <td>Maize</td>\n",
       "      <td>1964</td>\n",
       "      <td>1964</td>\n",
       "      <td>hg/ha</td>\n",
       "      <td>14257</td>\n",
       "    </tr>\n",
       "    <tr>\n",
       "      <th>4</th>\n",
       "      <td>QC</td>\n",
       "      <td>Crops</td>\n",
       "      <td>2</td>\n",
       "      <td>Afghanistan</td>\n",
       "      <td>5419</td>\n",
       "      <td>Yield</td>\n",
       "      <td>56</td>\n",
       "      <td>Maize</td>\n",
       "      <td>1965</td>\n",
       "      <td>1965</td>\n",
       "      <td>hg/ha</td>\n",
       "      <td>14400</td>\n",
       "    </tr>\n",
       "  </tbody>\n",
       "</table>\n",
       "</div>"
      ],
      "text/plain": [
       "  Domain Code Domain  Area Code      Country  Element Code Element  Item Code  \\\n",
       "0          QC  Crops          2  Afghanistan          5419   Yield         56   \n",
       "1          QC  Crops          2  Afghanistan          5419   Yield         56   \n",
       "2          QC  Crops          2  Afghanistan          5419   Yield         56   \n",
       "3          QC  Crops          2  Afghanistan          5419   Yield         56   \n",
       "4          QC  Crops          2  Afghanistan          5419   Yield         56   \n",
       "\n",
       "    Item  Year Code  Year   Unit  Yield  \n",
       "0  Maize       1961  1961  hg/ha  14000  \n",
       "1  Maize       1962  1962  hg/ha  14000  \n",
       "2  Maize       1963  1963  hg/ha  14260  \n",
       "3  Maize       1964  1964  hg/ha  14257  \n",
       "4  Maize       1965  1965  hg/ha  14400  "
      ]
     },
     "execution_count": 14,
     "metadata": {},
     "output_type": "execute_result"
    }
   ],
   "source": [
    "yield_df.rename(columns={'Area': 'Country', 'Value': 'Yield'}, inplace=True)\n",
    "# Test the function to rename columns for the yield DataFrame\n",
    "yield_df = rename_columns(yield_df)\n",
    "yield_df.head()"
   ]
  },
  {
   "cell_type": "markdown",
   "metadata": {},
   "source": [
    "### Checking for duplicates values"
   ]
  },
  {
   "cell_type": "code",
   "execution_count": 15,
   "metadata": {},
   "outputs": [
    {
     "data": {
      "text/plain": [
       "0"
      ]
     },
     "execution_count": 15,
     "metadata": {},
     "output_type": "execute_result"
    }
   ],
   "source": [
    "# Define a function to check for duplicate rows in the DataFrame\n",
    "def check_duplicates(df):\n",
    "    \"\"\"\n",
    "    This function takes the Temperature DataFrame as an argument.\n",
    "    It checks for duplicate rows and returns the number of duplicate rows found.\n",
    "    \n",
    "    Parameters:\n",
    "    df (DataFrame): The DataFrame to check for duplicates (pesticides DataFrame)\n",
    "    \n",
    "    Returns:\n",
    "    num_duplicates (int): The number of duplicate rows found\n",
    "    \"\"\"\n",
    "    try:\n",
    "        num_duplicates = df.duplicated().sum()\n",
    "        return num_duplicates\n",
    "    except Exception as e:\n",
    "        return f\"An error occurred: {e}\"\n",
    "\n",
    "# Check for duplicate rows in the Pesticides DataFrame\n",
    "num_duplicates_pest = check_duplicates(pest_df)\n",
    "num_duplicates_pest"
   ]
  },
  {
   "cell_type": "code",
   "execution_count": 16,
   "metadata": {},
   "outputs": [
    {
     "data": {
      "text/plain": [
       "0"
      ]
     },
     "execution_count": 16,
     "metadata": {},
     "output_type": "execute_result"
    }
   ],
   "source": [
    "# Check for duplicate rows in the rain DataFrame\n",
    "num_duplicates_rain = check_duplicates(rain_df)\n",
    "num_duplicates_rain"
   ]
  },
  {
   "cell_type": "code",
   "execution_count": 17,
   "metadata": {},
   "outputs": [
    {
     "data": {
      "text/plain": [
       "6958"
      ]
     },
     "execution_count": 17,
     "metadata": {},
     "output_type": "execute_result"
    }
   ],
   "source": [
    "# Check for duplicate rows in the Temperature DataFrame\n",
    "num_duplicates_temp = check_duplicates(temp_df)\n",
    "num_duplicates_temp"
   ]
  },
  {
   "cell_type": "markdown",
   "metadata": {},
   "source": [
    "The temperature dataset contains 6,958 duplicate rows. Depending on the type of analysis we're conducting, these duplicates could skew our results. We may need to investigate why these duplicates exist and decide whether to keep them, remove them, or take some other action"
   ]
  },
  {
   "cell_type": "code",
   "execution_count": 18,
   "metadata": {},
   "outputs": [
    {
     "data": {
      "text/plain": [
       "0"
      ]
     },
     "execution_count": 18,
     "metadata": {},
     "output_type": "execute_result"
    }
   ],
   "source": [
    "# Check for duplicate rows in the Temperature DataFrame\n",
    "num_duplicates_yield = check_duplicates(yield_df)\n",
    "num_duplicates_yield"
   ]
  },
  {
   "cell_type": "markdown",
   "metadata": {},
   "source": [
    "### Data Integrity Check"
   ]
  },
  {
   "cell_type": "code",
   "execution_count": 19,
   "metadata": {},
   "outputs": [
    {
     "name": "stdout",
     "output_type": "stream",
     "text": [
      "Missing values in temp_df:\n",
      "_____________________________\n",
      "Year                      0\n",
      "Country                   0\n",
      "Average_Temperature    2547\n",
      "dtype: int64\n",
      "\n",
      "\n",
      "Missing values in rain_df:\n",
      "_____________________________\n",
      "Country               0\n",
      "Year                  0\n",
      "Average_Rainfall    774\n",
      "dtype: int64\n",
      "\n",
      "\n",
      "Missing values in pest_df:\n",
      "_____________________________\n",
      "Domain        0\n",
      "Country       0\n",
      "Element       0\n",
      "Item          0\n",
      "Year          0\n",
      "Unit          0\n",
      "Pesticides    0\n",
      "dtype: int64\n",
      "\n",
      "\n",
      "Missing values in yield_df:\n",
      "_____________________________\n",
      "Domain Code     0\n",
      "Domain          0\n",
      "Area Code       0\n",
      "Country         0\n",
      "Element Code    0\n",
      "Element         0\n",
      "Item Code       0\n",
      "Item            0\n",
      "Year Code       0\n",
      "Year            0\n",
      "Unit            0\n",
      "Yield           0\n",
      "dtype: int64\n",
      "\n",
      "\n"
     ]
    }
   ],
   "source": [
    "# checking for missing values\n",
    "def print_missing_values(df, name):\n",
    "    print(f\"Missing values in {name}:\")\n",
    "    print('_____________________________')\n",
    "    print(df.isna().sum())\n",
    "    print('\\n')\n",
    "\n",
    "print_missing_values(temp_df, 'temp_df')\n",
    "print_missing_values(rain_df, 'rain_df')\n",
    "print_missing_values(pest_df, 'pest_df')\n",
    "print_missing_values(yield_df, 'yield_df')"
   ]
  },
  {
   "cell_type": "markdown",
   "metadata": {},
   "source": [
    "## **Findings**\n",
    "#### Rain file\n",
    "1. Missing Values: The column average_rain_fall_mm_per_year has 774 missing values.\n",
    "2. Duplicates: There are no duplicate rows in the dataset.\n",
    "3. Data Types:\n",
    "   - Area is of object (string) type, which is expected.\n",
    "   - Year is an integer, which is also expected.\n",
    "   - average_rain_fall_mm_per_year is of object type, which is not expected for a numerical feature. This suggests that some non-numeric characters might be present in this column.\n",
    "\n",
    "#### Temp file\n",
    "A total of 2,547 is missing in avg_temp this will need to be addressed. The strategy for this will depend on the nature of these missing values. Whether they are missing completely at random, missing at random, or missing not at random."
   ]
  },
  {
   "cell_type": "markdown",
   "metadata": {},
   "source": [
    "#### **Handing Missing Values**\n",
    "Handling missing values in a dataset is crucial for ensuring that the data is accurate, complete, and suitable for analysis or machine learning, thereby resulting in more reliable outcomes. Secondly, handling missing values helps improve data quality, enhances data visualization etc. By adaquately handling these missing values in this milestone will pave way for more accurate and insightful data analysis."
   ]
  },
  {
   "cell_type": "code",
   "execution_count": 20,
   "metadata": {},
   "outputs": [
    {
     "data": {
      "text/plain": [
       "Country             0\n",
       "Year                0\n",
       "Average_Rainfall    0\n",
       "dtype: int64"
      ]
     },
     "execution_count": 20,
     "metadata": {},
     "output_type": "execute_result"
    }
   ],
   "source": [
    "# Handle missing values in the Rainfall DataFrame using mean\n",
    "def handle_missing_values(df):\n",
    "    \"\"\"\n",
    "    This function takes the Rainfall DataFrame as an argument.\n",
    "    It replaces missing values in numerical columns with their mean.\n",
    "    \n",
    "    Parameters:\n",
    "    df (DataFrame): The DataFrame to handle missing values (Rainfall DataFrame)\n",
    "    \n",
    "    Returns:\n",
    "    df (DataFrame): The DataFrame with missing values replaced by mean\n",
    "    \"\"\"\n",
    "    try:\n",
    "        # Convert the 'Average_Rainfall' column to numeric, coercing errors to NaN for replacement\n",
    "        df['Average_Rainfall'] = pd.to_numeric(df['Average_Rainfall'], errors='coerce')\n",
    "        \n",
    "        for col in df.select_dtypes(include=['float64', 'int64']).columns:\n",
    "            df[col].fillna(df[col].mean(), inplace=True)\n",
    "        return df\n",
    "    except Exception as e:\n",
    "        return f\"An error occurred: {e}\"\n",
    "\n",
    "# Handle missing values in the Rainfall DataFrame\n",
    "rainfall_df = handle_missing_values(rain_df)\n",
    "rainfall_df.isnull().sum()\n"
   ]
  },
  {
   "cell_type": "code",
   "execution_count": 21,
   "metadata": {},
   "outputs": [
    {
     "data": {
      "text/plain": [
       "Year                   0\n",
       "Country                0\n",
       "Average_Temperature    0\n",
       "dtype: int64"
      ]
     },
     "execution_count": 21,
     "metadata": {},
     "output_type": "execute_result"
    }
   ],
   "source": [
    "def handle_missing_values_temp(df):\n",
    "    \"\"\"\n",
    "    This function takes the Temperature DataFrame as an argument.\n",
    "    It replaces missing values in numerical columns with their mean.\n",
    "    \n",
    "    Parameters:\n",
    "    df (DataFrame): The DataFrame to handle missing values (Temperature DataFrame)\n",
    "    \n",
    "    Returns:\n",
    "    df (DataFrame): The DataFrame with missing values replaced by mean\n",
    "    \"\"\"\n",
    "    try:\n",
    "        for col in df.select_dtypes(include=['float64', 'int64']).columns:\n",
    "            df[col].fillna(df[col].mean(), inplace=True)\n",
    "        return df\n",
    "    except Exception as e:\n",
    "        print(f\"An error occurred: {e}\")\n",
    "        return df  # Returning the original DataFrame\n",
    "\n",
    "# Now, run the function on the dataset\n",
    "handled_temp_df = handle_missing_values_temp(temp_df)\n",
    "\n",
    "# Check for missing values after handling them\n",
    "handled_temp_df.isnull().sum()\n"
   ]
  },
  {
   "cell_type": "markdown",
   "metadata": {},
   "source": [
    "### Purpose of Using the Mean:\n",
    "\n",
    "Using the mean to impute missing values is a common technique in data analysis. The mean provides a central tendency of the data, effectively balancing out the impact of extremely high or low values. By replacing missing values with the mean, we maintain the dataset's overall statistical properties, such as the mean and variance, thereby minimizing the distortion that missing data could otherwise introduce into our analysis."
   ]
  },
  {
   "cell_type": "markdown",
   "metadata": {},
   "source": [
    "### Removing Redundant Columns\n",
    "\n",
    "Redundant columns are those that do not add any informational value to the dataset. These columns will be removed to streamline the dataset and make subsequent analyses more efficient."
   ]
  },
  {
   "cell_type": "code",
   "execution_count": 22,
   "metadata": {},
   "outputs": [
    {
     "data": {
      "text/html": [
       "<div>\n",
       "<style scoped>\n",
       "    .dataframe tbody tr th:only-of-type {\n",
       "        vertical-align: middle;\n",
       "    }\n",
       "\n",
       "    .dataframe tbody tr th {\n",
       "        vertical-align: top;\n",
       "    }\n",
       "\n",
       "    .dataframe thead th {\n",
       "        text-align: right;\n",
       "    }\n",
       "</style>\n",
       "<table border=\"1\" class=\"dataframe\">\n",
       "  <thead>\n",
       "    <tr style=\"text-align: right;\">\n",
       "      <th></th>\n",
       "      <th>Country</th>\n",
       "      <th>Item</th>\n",
       "      <th>Year</th>\n",
       "      <th>Yield</th>\n",
       "    </tr>\n",
       "  </thead>\n",
       "  <tbody>\n",
       "    <tr>\n",
       "      <th>0</th>\n",
       "      <td>Afghanistan</td>\n",
       "      <td>Maize</td>\n",
       "      <td>1961</td>\n",
       "      <td>14000</td>\n",
       "    </tr>\n",
       "    <tr>\n",
       "      <th>1</th>\n",
       "      <td>Afghanistan</td>\n",
       "      <td>Maize</td>\n",
       "      <td>1962</td>\n",
       "      <td>14000</td>\n",
       "    </tr>\n",
       "    <tr>\n",
       "      <th>2</th>\n",
       "      <td>Afghanistan</td>\n",
       "      <td>Maize</td>\n",
       "      <td>1963</td>\n",
       "      <td>14260</td>\n",
       "    </tr>\n",
       "    <tr>\n",
       "      <th>3</th>\n",
       "      <td>Afghanistan</td>\n",
       "      <td>Maize</td>\n",
       "      <td>1964</td>\n",
       "      <td>14257</td>\n",
       "    </tr>\n",
       "    <tr>\n",
       "      <th>4</th>\n",
       "      <td>Afghanistan</td>\n",
       "      <td>Maize</td>\n",
       "      <td>1965</td>\n",
       "      <td>14400</td>\n",
       "    </tr>\n",
       "  </tbody>\n",
       "</table>\n",
       "</div>"
      ],
      "text/plain": [
       "       Country   Item  Year  Yield\n",
       "0  Afghanistan  Maize  1961  14000\n",
       "1  Afghanistan  Maize  1962  14000\n",
       "2  Afghanistan  Maize  1963  14260\n",
       "3  Afghanistan  Maize  1964  14257\n",
       "4  Afghanistan  Maize  1965  14400"
      ]
     },
     "execution_count": 22,
     "metadata": {},
     "output_type": "execute_result"
    }
   ],
   "source": [
    "# Droping redundant columns from the Yield DataFrame\n",
    "def drop_redundant_columns(df):\n",
    "    \"\"\"\n",
    "    This function takes the Yield DataFrame as an argument.\n",
    "    It drops redundant or unnecessary columns.\n",
    "    \n",
    "    Parameters:\n",
    "    df (DataFrame): The DataFrame from which to drop columns (Yield DataFrame)\n",
    "    \n",
    "    Returns:\n",
    "    df (DataFrame): The DataFrame with redundant columns dropped\n",
    "    \"\"\"\n",
    "    try:\n",
    "        # Drop columns that are not useful for our analysis\n",
    "        columns_to_drop = ['Domain Code', 'Domain', 'Area Code', 'Element Code', 'Element', 'Item Code', 'Year Code', 'Unit']\n",
    "        df.drop(columns=columns_to_drop, inplace=True, errors='ignore')\n",
    "        return df\n",
    "    except Exception as e:\n",
    "        return f\"An error occurred: {e}\"\n",
    "    \n",
    "# Test one of the functions to drop redundant columns (for the Yield DataFrame)  \n",
    "yield_df = drop_redundant_columns(yield_df)\n",
    "yield_df.head()"
   ]
  },
  {
   "cell_type": "code",
   "execution_count": 23,
   "metadata": {},
   "outputs": [
    {
     "data": {
      "text/html": [
       "<div>\n",
       "<style scoped>\n",
       "    .dataframe tbody tr th:only-of-type {\n",
       "        vertical-align: middle;\n",
       "    }\n",
       "\n",
       "    .dataframe tbody tr th {\n",
       "        vertical-align: top;\n",
       "    }\n",
       "\n",
       "    .dataframe thead th {\n",
       "        text-align: right;\n",
       "    }\n",
       "</style>\n",
       "<table border=\"1\" class=\"dataframe\">\n",
       "  <thead>\n",
       "    <tr style=\"text-align: right;\">\n",
       "      <th></th>\n",
       "      <th>Country</th>\n",
       "      <th>Year</th>\n",
       "      <th>Pesticides</th>\n",
       "    </tr>\n",
       "  </thead>\n",
       "  <tbody>\n",
       "    <tr>\n",
       "      <th>0</th>\n",
       "      <td>Albania</td>\n",
       "      <td>1990</td>\n",
       "      <td>121.0</td>\n",
       "    </tr>\n",
       "    <tr>\n",
       "      <th>1</th>\n",
       "      <td>Albania</td>\n",
       "      <td>1991</td>\n",
       "      <td>121.0</td>\n",
       "    </tr>\n",
       "    <tr>\n",
       "      <th>2</th>\n",
       "      <td>Albania</td>\n",
       "      <td>1992</td>\n",
       "      <td>121.0</td>\n",
       "    </tr>\n",
       "    <tr>\n",
       "      <th>3</th>\n",
       "      <td>Albania</td>\n",
       "      <td>1993</td>\n",
       "      <td>121.0</td>\n",
       "    </tr>\n",
       "    <tr>\n",
       "      <th>4</th>\n",
       "      <td>Albania</td>\n",
       "      <td>1994</td>\n",
       "      <td>201.0</td>\n",
       "    </tr>\n",
       "  </tbody>\n",
       "</table>\n",
       "</div>"
      ],
      "text/plain": [
       "   Country  Year  Pesticides\n",
       "0  Albania  1990       121.0\n",
       "1  Albania  1991       121.0\n",
       "2  Albania  1992       121.0\n",
       "3  Albania  1993       121.0\n",
       "4  Albania  1994       201.0"
      ]
     },
     "execution_count": 23,
     "metadata": {},
     "output_type": "execute_result"
    }
   ],
   "source": [
    "# Drop columns that are not useful for our analysis\n",
    "columns_to_drop = ['Domain', 'Element', 'Item', 'Unit']\n",
    "pest_df.drop(columns=columns_to_drop, inplace=True, errors='ignore')\n",
    "# Test one of the functions to drop redundant columns (for the Yield DataFrame)\n",
    "pest_df = drop_redundant_columns(pest_df)\n",
    "pest_df.head()"
   ]
  },
  {
   "cell_type": "code",
   "execution_count": 28,
   "metadata": {},
   "outputs": [
    {
     "name": "stdout",
     "output_type": "stream",
     "text": [
      "Successfully merged Temperature and Rainfall DataFrames.\n",
      "Successfully merged with Yield DataFrame.\n",
      "Successfully merged with Pesticides DataFrame.\n",
      "   Year Country  Average_Temperature  Average_Rainfall                  Item  \\\n",
      "0  1990   Ghana                26.73            1187.0               Cassava   \n",
      "1  1990   Ghana                26.73            1187.0                 Maize   \n",
      "2  1990   Ghana                26.73            1187.0  Plantains and others   \n",
      "3  1990   Ghana                26.73            1187.0           Rice, paddy   \n",
      "4  1990   Ghana                26.73            1187.0               Sorghum   \n",
      "\n",
      "   Yield  Pesticides  \n",
      "0  84170        65.8  \n",
      "1  11889        65.8  \n",
      "2  61890        65.8  \n",
      "3  16510        65.8  \n",
      "4   6310        65.8  \n"
     ]
    }
   ],
   "source": [
    "def merge_datasets(temp_df, rain_df, yield_df, pest_df):\n",
    "    \"\"\"\n",
    "    This function takes the four DataFrames as arguments.\n",
    "    It merges them based on the common columns 'Country' and 'Year'.\n",
    "    \n",
    "    Returns:\n",
    "    DataFrame: The DataFrame resulting from merging the four DataFrames\n",
    "    \"\"\"\n",
    "    try:\n",
    "        # Merge Temperature and Rainfall DataFrames\n",
    "        merged_1 = pd.merge(temp_df, rain_df, how='inner', on=['Country', 'Year'])\n",
    "        print(\"Successfully merged Temperature and Rainfall DataFrames.\")\n",
    "        \n",
    "        # Merge the above DataFrame (merged_1) with the Yield DataFrame\n",
    "        merged_2 = pd.merge(merged_1, yield_df, how='inner', on=['Country', 'Year'])\n",
    "        print(\"Successfully merged with Yield DataFrame.\")\n",
    "        \n",
    "        # Merge the above DataFrame (merged_2) with the Pesticides DataFrame\n",
    "        temporal_merged_df = pd.merge(merged_2, pest_df, how='inner', on=['Country', 'Year'])\n",
    "        print(\"Successfully merged with Pesticides DataFrame.\")\n",
    "        \n",
    "        return temporal_merged_df\n",
    "    \n",
    "    except Exception as e:\n",
    "        print(f\"An error occurred while merging: {e}\")\n",
    "        return None\n",
    "\n",
    "# Assuming temp_df, rain_df, yield_df, and pest_df are your DataFrames\n",
    "temporal_merged_df = merge_datasets(temp_df, rain_df, yield_df, pest_df)\n",
    "\n",
    "# Uncomment the following line only after you've loaded your DataFrames\n",
    "print(temporal_merged_df.head())"
   ]
  },
  {
   "cell_type": "code",
   "execution_count": 29,
   "metadata": {},
   "outputs": [
    {
     "data": {
      "text/html": [
       "<div>\n",
       "<style scoped>\n",
       "    .dataframe tbody tr th:only-of-type {\n",
       "        vertical-align: middle;\n",
       "    }\n",
       "\n",
       "    .dataframe tbody tr th {\n",
       "        vertical-align: top;\n",
       "    }\n",
       "\n",
       "    .dataframe thead th {\n",
       "        text-align: right;\n",
       "    }\n",
       "</style>\n",
       "<table border=\"1\" class=\"dataframe\">\n",
       "  <thead>\n",
       "    <tr style=\"text-align: right;\">\n",
       "      <th></th>\n",
       "      <th>Year</th>\n",
       "      <th>Country</th>\n",
       "      <th>Average_Temperature</th>\n",
       "      <th>Average_Rainfall</th>\n",
       "      <th>Item</th>\n",
       "      <th>Yield</th>\n",
       "      <th>Pesticides</th>\n",
       "    </tr>\n",
       "  </thead>\n",
       "  <tbody>\n",
       "    <tr>\n",
       "      <th>0</th>\n",
       "      <td>1990</td>\n",
       "      <td>Ghana</td>\n",
       "      <td>26.73</td>\n",
       "      <td>1187.0</td>\n",
       "      <td>Cassava</td>\n",
       "      <td>84170</td>\n",
       "      <td>65.8</td>\n",
       "    </tr>\n",
       "    <tr>\n",
       "      <th>1</th>\n",
       "      <td>1990</td>\n",
       "      <td>Ghana</td>\n",
       "      <td>26.73</td>\n",
       "      <td>1187.0</td>\n",
       "      <td>Maize</td>\n",
       "      <td>11889</td>\n",
       "      <td>65.8</td>\n",
       "    </tr>\n",
       "    <tr>\n",
       "      <th>2</th>\n",
       "      <td>1990</td>\n",
       "      <td>Ghana</td>\n",
       "      <td>26.73</td>\n",
       "      <td>1187.0</td>\n",
       "      <td>Plantains and others</td>\n",
       "      <td>61890</td>\n",
       "      <td>65.8</td>\n",
       "    </tr>\n",
       "    <tr>\n",
       "      <th>3</th>\n",
       "      <td>1990</td>\n",
       "      <td>Ghana</td>\n",
       "      <td>26.73</td>\n",
       "      <td>1187.0</td>\n",
       "      <td>Rice, paddy</td>\n",
       "      <td>16510</td>\n",
       "      <td>65.8</td>\n",
       "    </tr>\n",
       "    <tr>\n",
       "      <th>4</th>\n",
       "      <td>1990</td>\n",
       "      <td>Ghana</td>\n",
       "      <td>26.73</td>\n",
       "      <td>1187.0</td>\n",
       "      <td>Sorghum</td>\n",
       "      <td>6310</td>\n",
       "      <td>65.8</td>\n",
       "    </tr>\n",
       "  </tbody>\n",
       "</table>\n",
       "</div>"
      ],
      "text/plain": [
       "   Year Country  Average_Temperature  Average_Rainfall                  Item  \\\n",
       "0  1990   Ghana                26.73            1187.0               Cassava   \n",
       "1  1990   Ghana                26.73            1187.0                 Maize   \n",
       "2  1990   Ghana                26.73            1187.0  Plantains and others   \n",
       "3  1990   Ghana                26.73            1187.0           Rice, paddy   \n",
       "4  1990   Ghana                26.73            1187.0               Sorghum   \n",
       "\n",
       "   Yield  Pesticides  \n",
       "0  84170        65.8  \n",
       "1  11889        65.8  \n",
       "2  61890        65.8  \n",
       "3  16510        65.8  \n",
       "4   6310        65.8  "
      ]
     },
     "execution_count": 29,
     "metadata": {},
     "output_type": "execute_result"
    }
   ],
   "source": [
    "temporal_merged_df.head()"
   ]
  },
  {
   "cell_type": "code",
   "execution_count": 31,
   "metadata": {},
   "outputs": [
    {
     "data": {
      "text/plain": [
       "'temporal_merged_data.csv'"
      ]
     },
     "execution_count": 31,
     "metadata": {},
     "output_type": "execute_result"
    }
   ],
   "source": [
    "# Saving the merged DataFrame to a CSV file\n",
    "csv_file_path = 'temporal_merged_data.csv'\n",
    "temporal_merged_df.to_csv(csv_file_path, index=False)\n",
    "\n",
    "csv_file_path"
   ]
  }
 ],
 "metadata": {
  "kernelspec": {
   "display_name": "Python 3",
   "language": "python",
   "name": "python3"
  },
  "language_info": {
   "codemirror_mode": {
    "name": "ipython",
    "version": 3
   },
   "file_extension": ".py",
   "mimetype": "text/x-python",
   "name": "python",
   "nbconvert_exporter": "python",
   "pygments_lexer": "ipython3",
   "version": "3.10.10"
  },
  "orig_nbformat": 4
 },
 "nbformat": 4,
 "nbformat_minor": 2
}
